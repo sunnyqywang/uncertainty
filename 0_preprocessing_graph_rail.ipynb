{
 "cells": [
  {
   "cell_type": "markdown",
   "metadata": {},
   "source": [
    "# Preprocessing Data"
   ]
  },
  {
   "cell_type": "code",
   "execution_count": 1,
   "metadata": {},
   "outputs": [],
   "source": [
    "import os \n",
    "\n",
    "import geoplot as gplt\n",
    "import holidays\n",
    "us_holidays = holidays.UnitedStates()\n",
    "import numpy as np\n",
    "import pandas as pd\n",
    "import matplotlib.pyplot as plt\n",
    "from matplotlib import dates\n",
    "import math\n",
    "import datetime\n",
    "import rtree\n",
    "import sys\n",
    "\n",
    "import geopandas as gpd\n",
    "from shapely import wkt\n",
    "from shapely.geometry import Polygon, Point\n",
    "from pyproj import CRS\n",
    "\n",
    "from setup import *\n",
    "\n",
    "%matplotlib inline"
   ]
  },
  {
   "cell_type": "code",
   "execution_count": 29,
   "metadata": {},
   "outputs": [],
   "source": [
    "period = 'after'\n",
    "# filter data records according to time period\n",
    "if period == 'before':\n",
    "    start_date = before_start_date\n",
    "    end_date = before_end_date\n",
    "else:\n",
    "    start_date = after_start_date\n",
    "    end_date = after_end_date"
   ]
  },
  {
   "cell_type": "markdown",
   "metadata": {},
   "source": [
    "# 1. Create Catchment Areas\n",
    "w.r.t. GTFS stops"
   ]
  },
  {
   "cell_type": "code",
   "execution_count": 3,
   "metadata": {},
   "outputs": [],
   "source": [
    "catchment_area_radius_meters = 350"
   ]
  },
  {
   "cell_type": "code",
   "execution_count": 4,
   "metadata": {},
   "outputs": [],
   "source": [
    "rail_stations = gpd.read_file(project_data_dir+'data_raw/CTA_Rail/CTA_RailStations.shp')"
   ]
  },
  {
   "cell_type": "code",
   "execution_count": 5,
   "metadata": {},
   "outputs": [],
   "source": [
    "# Filter Downtown Stations\n",
    "rail_stations = rail_stations.to_crs(CRS(\"epsg:4326\"))\n",
    "downtown = (-87.645168, 41.872034, -87.623921, 41.889749)\n",
    "downtown_stations = rail_stations.cx[-87.645168:-87.62392, 41.872034:41.889749]\n",
    "downtown_stations.to_csv(project_data_dir+\"data_processed/downtown_stations.csv\", index=False)"
   ]
  },
  {
   "cell_type": "code",
   "execution_count": 6,
   "metadata": {},
   "outputs": [],
   "source": [
    "rail_stations = rail_stations.to_crs(CRS(\"epsg:26916\"))"
   ]
  },
  {
   "cell_type": "code",
   "execution_count": 7,
   "metadata": {},
   "outputs": [],
   "source": [
    "# GTFS should be station_id + 40000 but not entirely reliable\n",
    "# using station_id as key instead\n",
    "rail_catchment = rail_stations.copy()\n",
    "rail_catchment['catchment'] = rail_catchment.geometry.buffer(catchment_area_radius_meters)\n",
    "rail_catchment['catchment'] = rail_catchment.catchment.apply(Polygon)\n",
    "del rail_catchment['geometry']\n",
    "rail_catchment = rail_catchment.rename(columns={'catchment':'geometry'})\n",
    "rail_catchment['catchment_area'] = rail_catchment['geometry'].map(lambda p: p.area)"
   ]
  },
  {
   "cell_type": "code",
   "execution_count": 8,
   "metadata": {},
   "outputs": [],
   "source": [
    "rail_catchment.to_file(project_data_dir+'data_processed/shapefiles/py_rail_stations_catchment_'+str(catchment_area_radius_meters)+'.shp')"
   ]
  },
  {
   "cell_type": "markdown",
   "metadata": {},
   "source": [
    "# 2. Rail Ridership"
   ]
  },
  {
   "cell_type": "code",
   "execution_count": 8,
   "metadata": {},
   "outputs": [],
   "source": [
    "# match between ventra (ridership count) and rail lines\n",
    "lookup = pd.read_csv(project_data_dir+\"ventra_gtfs_match.csv\")\n",
    "rail_stations = pd.merge(rail_stations, lookup, left_on='STATION_ID', right_on='station_id')"
   ]
  },
  {
   "cell_type": "code",
   "execution_count": 30,
   "metadata": {
    "scrolled": true
   },
   "outputs": [
    {
     "name": "stdout",
     "output_type": "stream",
     "text": [
      "Shape: (11599842, 9)\n",
      "Columns: ['week', 'day', 'dow', 'quarter_hour', 'mode', 'stop_name', 'lat', 'lon', 'count']\n",
      "Number of stops/stations: 10372\n"
     ]
    }
   ],
   "source": [
    "d = pd.DataFrame()\n",
    "df_iter = pd.read_csv(doe_data_dir+\"raw_data/mobility/pt_aug19_oct20.csv\", iterator=True, chunksize=1000000)\n",
    "for df_chunk in df_iter:\n",
    "    df_chunk['day'] = pd.to_datetime(df_chunk['day'])\n",
    "    df_chunk = df_chunk[((df_chunk['day']>=start_date)&(df_chunk['day']<=end_date))]\n",
    "    df_chunk['dow'] = df_chunk['dow'].str.strip()\n",
    "    d = pd.concat((d, df_chunk), ignore_index=True)\n",
    "\n",
    "print('Shape:', d.shape)\n",
    "print('Columns:', d.columns.tolist())# d_points: the locations of transit stops/stations\n",
    "d_points = d[['stop_name','mode','lat','lon']].drop_duplicates().dropna()\n",
    "print('Number of stops/stations:', len(d_points))"
   ]
  },
  {
   "cell_type": "code",
   "execution_count": 31,
   "metadata": {},
   "outputs": [],
   "source": [
    "# edit the temporal dimension.\n",
    "days = d.groupby('day').size().reset_index().iloc[:, :-1].reset_index()\n",
    "days['holiday'] = [int(date in us_holidays) for date in days['day']]\n",
    "days.to_csv(project_data_dir+period+\"_dates.csv\", index=False)\n",
    "daydict = pd.Series(days.index.values,index=days.day).to_dict()"
   ]
  },
  {
   "cell_type": "code",
   "execution_count": 32,
   "metadata": {},
   "outputs": [
    {
     "name": "stdout",
     "output_type": "stream",
     "text": [
      "2020-04-01 00:00:00 2020-10-31 00:00:00\n"
     ]
    }
   ],
   "source": [
    "print(days.iloc[0]['day'], days.iloc[-1]['day'])"
   ]
  },
  {
   "cell_type": "code",
   "execution_count": 33,
   "metadata": {},
   "outputs": [],
   "source": [
    "d['day_index'] = d['day'].map(daydict)\n",
    "# create ts as quarter_hour index\n",
    "d['ts'] = (d['day_index'])*24*4 + d['quarter_hour']\n",
    "d.dropna(inplace=True)"
   ]
  },
  {
   "cell_type": "code",
   "execution_count": 14,
   "metadata": {},
   "outputs": [
    {
     "name": "stdout",
     "output_type": "stream",
     "text": [
      "In Ventra Counts not in Shape (GTFS) []\n",
      "In Ventra Counts not in Shape (GTFS) []\n"
     ]
    }
   ],
   "source": [
    "# For some reason, this version has stop_ids missing, so matching using names\n",
    "# check whether names match!!\n",
    "# proceed if both lists are empty\n",
    "ventra_names = d[d['mode']=='CTA Rail']['stop_name'].drop_duplicates()\n",
    "gtfs_names = rail_stations['ventra_name']\n",
    "\n",
    "print('In Ventra Counts not in Shape (GTFS)', ventra_names[~ventra_names.isin(gtfs_names)].tolist())\n",
    "print('In Ventra Counts not in Shape (GTFS)', gtfs_names[~gtfs_names.isin(ventra_names)].tolist())"
   ]
  },
  {
   "cell_type": "code",
   "execution_count": 15,
   "metadata": {},
   "outputs": [],
   "source": [
    "# create rail counts wrt quarters/stop (gtfs)\n",
    "d_gtfs = d.merge(rail_stations, left_on=['stop_name'], right_on=['ventra_name'])\n",
    "d_gtfs = d_gtfs.groupby(['ts','mode','station_id'], as_index=False).sum()[['ts','mode','station_id','count']]"
   ]
  },
  {
   "cell_type": "code",
   "execution_count": 52,
   "metadata": {},
   "outputs": [],
   "source": [
    "rail_df = d_gtfs.loc[d_gtfs['mode']=='CTA Rail', ['ts','station_id','count']].sort_values(\n",
    "    by=['ts','station_id']).reset_index(drop=True)"
   ]
  },
  {
   "cell_type": "code",
   "execution_count": 16,
   "metadata": {},
   "outputs": [],
   "source": [
    "# save data\n",
    "rail_df.to_csv(project_data_dir+'data_processed/rail_catchment/'+period+'/rail_df.csv', index=False)"
   ]
  },
  {
   "cell_type": "code",
   "execution_count": 53,
   "metadata": {},
   "outputs": [],
   "source": [
    "# For visualization, average daily total for each station\n",
    "rail_df['day_index']=rail_df['ts']//96\n",
    "rail_df = rail_df.groupby(['day_index','station_id'], as_index=False).sum()\n",
    "rail_df = rail_df.groupby('station_id', as_index=False).mean()\n",
    "\n",
    "rail_df[['station_id', 'count']].to_csv(project_data_dir+\"data_processed/viz/\"+period+\"_rail_avg_daily_total.csv\", index=False)"
   ]
  },
  {
   "cell_type": "markdown",
   "metadata": {},
   "source": [
    "# 3. Bus Ridership"
   ]
  },
  {
   "cell_type": "code",
   "execution_count": 16,
   "metadata": {},
   "outputs": [],
   "source": [
    "bus_stops = d[d['mode']=='CTA Bus'][['stop_name','lat','lon']].drop_duplicates()\n",
    "point_geom = [Point(xy) for xy in zip(bus_stops['lon'],bus_stops['lat'])]\n",
    "bus_stops = gpd.GeoDataFrame(bus_stops, crs=CRS(\"epsg:4326\"), geometry=point_geom)\n",
    "bus_stops = bus_stops.to_crs(CRS(\"epsg:26916\"))"
   ]
  },
  {
   "cell_type": "code",
   "execution_count": 55,
   "metadata": {},
   "outputs": [],
   "source": [
    "bus_ridership = pd.merge(d[d['mode']=='CTA Bus'], bus_stops, on=['stop_name','lat','lon'])\n",
    "\n",
    "# For visualization, average daily total for each station\n",
    "bus_viz = bus_ridership.groupby(['day','stop_name', 'lat', 'lon'], as_index=False).sum()\n",
    "bus_viz = bus_viz.groupby(['stop_name', 'lat', 'lon'], as_index=False).mean()[['stop_name', 'lat', 'lon', 'count']]\n",
    "point_geom = [Point(xy) for xy in zip(bus_viz['lon'],bus_viz['lat'])]\n",
    "\n",
    "bus_viz = gpd.GeoDataFrame(bus_viz, crs=CRS(\"epsg:4326\"), geometry=point_geom)\n",
    "bus_viz.to_file(project_data_dir+\"data_processed/viz/\"+period+\"_bus_avg_daily_total.shp\")"
   ]
  },
  {
   "cell_type": "code",
   "execution_count": null,
   "metadata": {},
   "outputs": [],
   "source": [
    "bus_ridership = pd.merge(d[d['mode']=='CTA Bus'], bus_stops, on=['stop_name','lat','lon'])"
   ]
  },
  {
   "cell_type": "code",
   "execution_count": 19,
   "metadata": {},
   "outputs": [],
   "source": [
    "bus_stops = gpd.sjoin(rail_catchment, bus_stops, how='inner',op='contains')\\\n",
    "            [['STATION_ID','stop_name','lat','lon','geometry']]"
   ]
  },
  {
   "cell_type": "code",
   "execution_count": 19,
   "metadata": {},
   "outputs": [],
   "source": [
    "bus_rail_df = bus_ridership.groupby(['ts','STATION_ID'], as_index=False).sum()[['STATION_ID','ts','count']]\n",
    "bus_rail_df.rename(columns={'count':'bus_count'}, inplace=True)"
   ]
  },
  {
   "cell_type": "code",
   "execution_count": 20,
   "metadata": {},
   "outputs": [],
   "source": [
    "bus_rail_df.to_csv(data_dir+\"data_processed/rail_catchment/\"+period+\"/bus_rail_df.csv\", index=False)"
   ]
  },
  {
   "cell_type": "markdown",
   "metadata": {},
   "source": [
    "# 4. TNC Ridership\n",
    "\n",
    "TNC data's geometry identifier is census tracts."
   ]
  },
  {
   "cell_type": "markdown",
   "metadata": {},
   "source": [
    "### Create df to connect catchment areas to census blocks"
   ]
  },
  {
   "cell_type": "code",
   "execution_count": 18,
   "metadata": {},
   "outputs": [],
   "source": [
    "# shapefile of census blocks 2010 \n",
    "gblk = pd.read_csv(doe_data_dir+'raw_data/census/CensusBlockTIGER2010.csv')\n",
    "# craete a geometric object\n",
    "gblk['the_geom'] = gblk['the_geom'].apply(wkt.loads)\n",
    "# create the geo dataframe\n",
    "block_gdf = gpd.GeoDataFrame(gblk, geometry='the_geom')\n",
    "# Calculate the area of the blocks/polygons\n",
    "block_gdf.crs = CRS('epsg:4326')\n",
    "block_gdf = block_gdf.to_crs(\"epsg:26916\")"
   ]
  },
  {
   "cell_type": "code",
   "execution_count": 19,
   "metadata": {},
   "outputs": [],
   "source": [
    "tract_gdf = block_gdf.dissolve(by=['STATEFP10','COUNTYFP10','TRACTCE10'], as_index=False)\n",
    "tract_gdf['area'] = tract_gdf['the_geom'].map(lambda p: p.area)\n",
    "tract_gdf['GEOID10'] = tract_gdf['GEOID10'].astype(str).str[:11]"
   ]
  },
  {
   "cell_type": "code",
   "execution_count": 20,
   "metadata": {},
   "outputs": [],
   "source": [
    "## Combine the dataframes by getting the overlapping areas and computing the proportion of block area that falls\n",
    "## within each stop's catchment area\n",
    "## returns the geometry of df1\n",
    "def shape_intersect(df1, df2):\n",
    "    r = gpd.overlay(df1, df2, how='intersection')\n",
    "    r['int_area'] = r['geometry'].to_crs({'proj': 'cea'}).map(lambda p: p.area)\n",
    "    r['proportion_area_blk'] = r['int_area']/r['area']\n",
    "    r['proportion_area_stop'] = r['int_area']/r['catchment_area']\n",
    "    \n",
    "    return r"
   ]
  },
  {
   "cell_type": "code",
   "execution_count": 21,
   "metadata": {
    "scrolled": true
   },
   "outputs": [],
   "source": [
    "### This takes a while \n",
    "# tract level: used to relate TNC data to transit stop catchment areas\n",
    "# maps GEOID10 to the catchment areas of transit stops\n",
    "tract_int_stop = shape_intersect(tract_gdf, rail_catchment)\n",
    "tract_int_stop['proportion_area_tract'] = tract_int_stop['int_area']/tract_int_stop['area']\n",
    "tract_int_stop['proportion_area_stop'] = tract_int_stop['int_area']/tract_int_stop['catchment_area']"
   ]
  },
  {
   "cell_type": "code",
   "execution_count": 34,
   "metadata": {},
   "outputs": [],
   "source": [
    "tnc_files = [name[4:-4].split(\"_\")+[name] for name in os.listdir(doe_data_dir+\"processed_data/mobility/TNC\") if name[:3]=='tnc']\n",
    "tnc_files = pd.DataFrame(tnc_files, columns=['start_date','end_date','name'])\n",
    "tnc_files['start_date'] = pd.to_datetime(tnc_files['start_date']).dt.date\n",
    "tnc_files['end_date'] = pd.to_datetime(tnc_files['end_date']).dt.date\n",
    "tnc_files.sort_values(by='start_date', inplace=True)"
   ]
  },
  {
   "cell_type": "code",
   "execution_count": 35,
   "metadata": {},
   "outputs": [
    {
     "name": "stdout",
     "output_type": "stream",
     "text": [
      "tnc_20190601_20190831.csv part\n",
      "tnc_20190901_20190930.csv part\n",
      "tnc_20191001_20191231.csv part\n",
      "tnc_20200101_20200229.csv part\n",
      "tnc_20200401_20200630.csv all\n",
      "tnc_20200701_20200930.csv all\n"
     ]
    }
   ],
   "source": [
    "tnc = pd.DataFrame()\n",
    "for s,e,name in zip(tnc_files['start_date'],tnc_files['end_date'],tnc_files['name']):        \n",
    "    if (end_date >= s) | (start_date <= e):\n",
    "        df_chunk = pd.read_csv(doe_data_dir+\"processed_data/mobility/TNC/\"+name)\n",
    "        df_chunk['Trip Start Timestamp'] = pd.to_datetime(df_chunk['Trip Start Timestamp'])\n",
    "        df_chunk = df_chunk.dropna(subset=['Pickup Census Tract'])\n",
    "        if (end_date >= e) & (start_date <= s):\n",
    "            print(name, 'all')\n",
    "            tnc = tnc.append(df_chunk)\n",
    "        else:\n",
    "            print(name, 'part')\n",
    "            tnc = tnc.append(df_chunk[(df_chunk['Trip Start Timestamp']>=start_date)&(df_chunk['Trip Start Timestamp']<=end_date)])\n"
   ]
  },
  {
   "cell_type": "code",
   "execution_count": 36,
   "metadata": {},
   "outputs": [],
   "source": [
    "tnc['start_hour'] = tnc['Trip Start Timestamp'].dt.hour\n",
    "tnc['start_min'] = tnc['Trip Start Timestamp'].dt.minute\n",
    "tnc['interval_15'] = tnc['start_hour']*4 + tnc['start_min']//15\n",
    "tnc['day_index'] = tnc['Trip Start Timestamp'].dt.date.map(daydict)\n",
    "tnc['ts'] = tnc['day_index']*96 + tnc['interval_15']\n",
    "\n",
    "tnc['Pickup Census Tract'] = tnc['Pickup Census Tract'].astype(int).astype(str)"
   ]
  },
  {
   "cell_type": "code",
   "execution_count": 59,
   "metadata": {},
   "outputs": [],
   "source": [
    "# For visualization, average daily total for each station\n",
    "tnc_viz = tnc.groupby(['day_index','Pickup Census Tract'], as_index=False).count()[['ts','Pickup Census Tract','Fare']]\n",
    "tnc_viz.columns = ['day_index','Pickup Census Tract','trips']\n",
    "tnc_viz = tnc_viz.groupby('Pickup Census Tract', as_index=False).mean()[['Pickup Census Tract','trips']]\n",
    "tnc_viz.to_csv(project_data_dir+\"data_processed/viz/\"+period+\"_tnc_avg_daily_total.csv\", index=False)"
   ]
  },
  {
   "cell_type": "code",
   "execution_count": 37,
   "metadata": {},
   "outputs": [],
   "source": [
    "tnc = tnc.groupby(['ts','Pickup Census Tract'], as_index=False).count()[['ts','Pickup Census Tract','Fare']]\n",
    "tnc.columns = ['ts','Pickup Census Tract','trips']"
   ]
  },
  {
   "cell_type": "code",
   "execution_count": 38,
   "metadata": {},
   "outputs": [
    {
     "name": "stdout",
     "output_type": "stream",
     "text": [
      "['STATION_ID', 'ts', 'tnc_count']\n"
     ]
    }
   ],
   "source": [
    "# Merge data with dataframe that matches blocks to catchment areas\n",
    "tnc_count_catchment = pd.merge(tnc, tract_int_stop[['GEOID10','STATION_ID','proportion_area_stop']], how = 'left', \n",
    "                          left_on = ['Pickup Census Tract'], right_on = 'GEOID10')\n",
    "\n",
    "# Allocate trips from blocks to catchment areas\n",
    "tnc_count_catchment['tnc_count'] = tnc_count_catchment['trips']*tnc_count_catchment['proportion_area_stop']\n",
    "\n",
    "# Sum up for each quarter hour and cell\n",
    "tnc_cell_count = tnc_count_catchment.groupby(['STATION_ID','ts'])['tnc_count'].sum().reset_index()\n",
    "\n",
    "print(tnc_cell_count.columns.tolist())"
   ]
  },
  {
   "cell_type": "code",
   "execution_count": 39,
   "metadata": {},
   "outputs": [],
   "source": [
    "tnc_cell_count.to_csv(project_data_dir+'data_processed/rail_catchment/'+period+'/tnc_rail_df.csv', index=False)"
   ]
  },
  {
   "cell_type": "markdown",
   "metadata": {},
   "source": [
    "# 5. Spatial Only (Demographics,POI)\n",
    "2018 demographic data's resolution is block groups\n",
    "\n",
    "\n",
    "This block groups is different from the census tract 10 block groups!!"
   ]
  },
  {
   "cell_type": "code",
   "execution_count": 40,
   "metadata": {},
   "outputs": [],
   "source": [
    "blkgrps = gpd.read_file(project_data_dir+'data_raw/tl_2018_17_bg/tl_2018_17_bg.shp')\n",
    "blkgrps['COUNTYFP'] = blkgrps['COUNTYFP'].astype(int)\n",
    "blkgrps['TRACTCE'] = blkgrps['TRACTCE'].astype(int)\n",
    "blkgrps['BLKGRPCE'] = blkgrps['BLKGRPCE'].astype(int)\n",
    "\n",
    "blkgrps = blkgrps.to_crs(\"epsg:26916\")\n",
    "blkgrps['area'] = blkgrps['geometry'].map(lambda p: p.area)"
   ]
  },
  {
   "cell_type": "code",
   "execution_count": 41,
   "metadata": {},
   "outputs": [],
   "source": [
    "# block group level: used to relate demographics to the urban grid\n",
    "block18_int_stop = shape_intersect(blkgrps, rail_catchment)"
   ]
  },
  {
   "cell_type": "code",
   "execution_count": 42,
   "metadata": {},
   "outputs": [],
   "source": [
    "# demographic information of census blocks\n",
    "demos = pd.read_csv(project_data_dir+'data_raw/nhgis0004_ds239_20185_2018_blck_grp.csv')\n",
    "# merge demo and catchment areas\n",
    "demo_catchment = pd.merge(demos, block18_int_stop[['COUNTYFP','TRACTCE','BLKGRPCE','GEOID',\n",
    "                                                   'STATION_ID','proportion_area_stop']], \n",
    "                       how = 'left', left_on = ['COUNTYA', 'TRACTA','BLKGRPA'], \n",
    "                       right_on = ['COUNTYFP','TRACTCE','BLKGRPCE'])\n",
    "\n",
    "data_cols = [x for x in list(demo_catchment.columns) if len(x) == 8 and x[0:2]=='AJ' and x[4]=='E']\n",
    "# This will tell us if we have any non-numeic data types\n",
    "# print(demo_to_grid[data_cols].dtypes.value_counts())\n",
    "# Run this to find out which columns are non-numeric. Then can feed them to the next line\n",
    "# demo_to_grid[data_cols].select_dtypes(include=['int64']).columns\n",
    "data_cols.remove('AJ0EE001')\n",
    "\n",
    "demo_prop = demo_catchment.copy().fillna(0)\n",
    "# proportional demographics info\n",
    "demo_prop[data_cols] = demo_prop[data_cols].multiply(demo_prop[\"proportion_area_stop\"], axis=\"index\")"
   ]
  },
  {
   "cell_type": "code",
   "execution_count": 43,
   "metadata": {},
   "outputs": [
    {
     "name": "stderr",
     "output_type": "stream",
     "text": [
      "/home/jtl/anaconda3/lib/python3.7/site-packages/ipykernel_launcher.py:41: RuntimeWarning: invalid value encountered in double_scalars\n"
     ]
    }
   ],
   "source": [
    "travel_time_cols = ['AJXEE0'+str(i).zfill(2) for i in range(2,14)]\n",
    "tt_medians = [2.5,7,12,17,22,27,32,37,42,52,74.5,100]\n",
    "\n",
    "# aggregate values for each station.\n",
    "demo_catchment = demo_prop.groupby('STATION_ID')[data_cols].sum().reset_index()\n",
    "\n",
    "# create demographics for each cell.\n",
    "demo_catchment['pct25_34yrs'] = (demo_catchment[['AJWBE011','AJWBE012',\n",
    "                                         'AJWBE035','AJWBE036']].sum(axis = 1))/demo_catchment['AJWBE001']\n",
    "demo_catchment['pct35_50yrs'] = (demo_catchment[['AJWBE013','AJWBE014','AJWBE015',\n",
    "                                         'AJWBE037','AJWBE038','AJWBE039']].sum(axis = 1))/demo_catchment['AJWBE001']\n",
    "demo_catchment['pctover65yrs'] = (demo_catchment[['AJWBE020','AJWBE021','AJWBE022','AJWBE023','AJWBE024','AJWBE025',\n",
    "                                          'AJWBE044','AJWBE045','AJWBE046','AJWBE047','AJWBE048','AJWBE049']].sum(axis = 1))/demo_catchment['AJWBE001']\n",
    "demo_catchment['pctwhite_alone'] = demo_catchment['AJWNE002']/demo_catchment['AJWNE001']\n",
    "demo_catchment['pct_nonwhite'] = (demo_catchment['AJWNE001']-demo_catchment['AJWNE002'])/demo_catchment['AJWNE001']\n",
    "demo_catchment['pctblack_alone'] = demo_catchment['AJWNE003']/demo_catchment['AJWNE001']\n",
    "demo_catchment['pct_hs_grad'] = (demo_catchment[['AJYPE017','AJYPE018','AJYPE019','AJYPE020','AJYPE021','AJYPE022',\n",
    "                                         'AJYPE023','AJYPE024','AJYPE025']].sum(axis = 1))/demo_catchment['AJYPE001']\n",
    "demo_catchment['pct_col_grad'] = (demo_catchment[['AJYPE022','AJYPE023','AJYPE024','AJYPE025']].sum(axis = 1))/demo_catchment['AJYPE001']\n",
    "demo_catchment['pctPTcommute'] = demo_catchment['AJXCE010']/demo_catchment['AJXCE001']\n",
    "\n",
    "demo_catchment['25_34yrs'] = (demo_catchment[['AJWBE011','AJWBE012',\n",
    "                                         'AJWBE035','AJWBE036']].sum(axis = 1))\n",
    "demo_catchment['35_50yrs'] = (demo_catchment[['AJWBE013','AJWBE014','AJWBE015',\n",
    "                                         'AJWBE037','AJWBE038','AJWBE039']].sum(axis = 1))\n",
    "demo_catchment['over65yrs'] = (demo_catchment[['AJWBE020','AJWBE021','AJWBE022','AJWBE023','AJWBE024','AJWBE025',\n",
    "                                          'AJWBE044','AJWBE045','AJWBE046','AJWBE047','AJWBE048','AJWBE049']].sum(axis = 1))\n",
    "demo_catchment['white_alone'] = demo_catchment['AJWNE002']/demo_catchment['AJWNE001']\n",
    "demo_catchment['nonwhite'] = demo_catchment['AJWNE001']-demo_catchment['AJWNE002']\n",
    "demo_catchment['black_alone'] = demo_catchment['AJWNE003']\n",
    "demo_catchment['hs_grad'] = (demo_catchment[['AJYPE017','AJYPE018','AJYPE019','AJYPE020','AJYPE021','AJYPE022',\n",
    "                                         'AJYPE023','AJYPE024','AJYPE025']].sum(axis = 1))\n",
    "demo_catchment['col_grad'] = (demo_catchment[['AJYPE022','AJYPE023','AJYPE024','AJYPE025']].sum(axis = 1))\n",
    "demo_catchment['PTcommute'] = demo_catchment['AJXCE010']\n",
    "\n",
    "demo_catchment['avg_tt_to_work'] = (demo_catchment[travel_time_cols].multiply(tt_medians, axis = 1).sum(axis =1))/demo_catchment['AJXEE001']\n",
    "\n",
    "# create income info\n",
    "# demo_catchment['pct60plusmincommute'] = (demo_catchment[['AJXEE012','AJXEE013']].sum(axis=1))/demo_catchment['AJXEE001']\n",
    "cell_inc = demo_prop.groupby('STATION_ID').apply(lambda x: \n",
    "                    (x['AJWME001']*x['AJ0EE001']).sum(axis = 0)/x['AJWME001'].sum(axis=0)).reset_index()\n",
    "cell_inc.columns = ['STATION_ID','inc_per_capita']\n",
    "demo_catchment = pd.merge(demo_catchment, cell_inc, how = 'left', on = 'STATION_ID')"
   ]
  },
  {
   "cell_type": "code",
   "execution_count": 74,
   "metadata": {},
   "outputs": [],
   "source": [
    "# extract demo data\n",
    "demo_df = demo_catchment[['STATION_ID','AJWME001',\n",
    "                       'pct25_34yrs','pct35_50yrs','pctover65yrs',\n",
    "                       'pctwhite_alone','pct_nonwhite','pctblack_alone',\n",
    "                       'pct_col_grad','pctPTcommute',\n",
    "                       '25_34yrs','35_50yrs','over65yrs',\n",
    "                       'white_alone','nonwhite','black_alone',\n",
    "                       'col_grad','PTcommute',\n",
    "                       'avg_tt_to_work','inc_per_capita']].fillna(0)\n",
    "\n",
    "demo_df = demo_df.rename(columns = {'AJWME001':'tot_population'})\n",
    "\n",
    "demos = ['tot_population','pct25_34yrs','pct35_50yrs','pctover65yrs',\n",
    "         'pctwhite_alone','pct_nonwhite','pctblack_alone',\n",
    "         'pct_col_grad','pctPTcommute','25_34yrs','35_50yrs','over65yrs',\n",
    "         'white_alone','nonwhite','black_alone',\n",
    "         'col_grad','PTcommute','avg_tt_to_work','inc_per_capita']"
   ]
  },
  {
   "cell_type": "code",
   "execution_count": 75,
   "metadata": {},
   "outputs": [],
   "source": [
    "# job\n",
    "jobs = pd.read_csv(project_data_dir+'data_raw/il_wac_S000_JT00_2017.csv', usecols = [0,1])\n",
    "jobs.columns = ['GEOID10','jobs']\n",
    "jobs['GEOID10'] = jobs['GEOID10'].astype(str).str[:12]\n",
    "jobs = jobs.groupby('GEOID10', as_index=False).sum()\n",
    "\n",
    "jstation = block18_int_stop.merge(jobs, how = 'inner', left_on = 'GEOID', right_on='GEOID10')\n",
    "jstation['jobs'] = jstation['proportion_area_stop'].astype(float)*jstation['jobs'].astype(int)\n",
    "jstation = jstation.groupby(['STATION_ID'])['jobs'].sum().reset_index()\n",
    "\n",
    "demo_df = pd.merge(demo_df, jstation, on='STATION_ID')"
   ]
  },
  {
   "cell_type": "code",
   "execution_count": 79,
   "metadata": {},
   "outputs": [],
   "source": [
    "poi = gpd.read_file(project_data_dir+'data_raw/POI_OSM/gis_osm_pois_free_1.shp')\n",
    "\n",
    "non_attractions = ['water_tower','toilet','post_box','pitch','drinking_water','atm','comms_tower','prison',\n",
    "                   'recycling','camera_surveillance','windmill','bench','waste_basket','water_well','telephone',\n",
    "                  'vending_machine','recycling_metal','wastewater_plant','reclycling_glass','chemist',\n",
    "                  'recycling_paper','wayside_cross','recycling_clothes']\n",
    "\n",
    "### Use category data from Patrick\n",
    "poi_cat = pd.read_csv(project_data_dir+'data_raw/POIcat.csv')\n",
    "\n",
    "poi_cat.columns = ['fclass','cat','start_active_time','end_active_time']\n",
    "\n",
    "poi_map = pd.Series(poi_cat.cat.values,index=poi_cat.fclass).to_dict()\n",
    "\n",
    "poi['category'] = poi['fclass'].map(poi_map).fillna('other')\n",
    "\n",
    "### further aggregate\n",
    "cat2 = {'bar':'restaurant','entertainment':'entertainment', 'hotel':'entertainment', \n",
    "        'public attraction':'entertainment', 'restaurant':'restaurant',\n",
    "        'school':'school', 'services':'shop', 'shop':'shop'}\n",
    "poi['category_2'] = poi['category'].map(cat2)\n",
    "poi.dropna(inplace=True)\n",
    "\n",
    "categories = list(poi['category_2'].unique())\n",
    "\n",
    "poi = poi[~poi['fclass'].isin(non_attractions)]\n",
    "poi.crs = CRS('epsg:4326')\n",
    "poi = poi.to_crs(\"epsg:26916\")\n",
    "\n",
    "poi_grid = gpd.sjoin(poi, rail_catchment, how=\"inner\", op='intersects')\n",
    "p = poi_grid.groupby(['STATION_ID','category_2']).size().unstack().reset_index().fillna(0)\n",
    "p['all'] = p[categories].sum(axis = 1)"
   ]
  },
  {
   "cell_type": "code",
   "execution_count": 80,
   "metadata": {},
   "outputs": [],
   "source": [
    "# save\n",
    "spatial_df = pd.merge(demo_df, p, on='STATION_ID')\n",
    "spatial_df.to_csv(project_data_dir+\"data_processed/rail_catchment/spatial.csv\", index=False)"
   ]
  },
  {
   "cell_type": "code",
   "execution_count": 96,
   "metadata": {},
   "outputs": [
    {
     "data": {
      "image/png": "[encoded data removed]",
      "text/plain": [
       "<Figure size 360x360 with 1 Axes>"
      ]
     },
     "metadata": {
      "needs_background": "light"
     },
     "output_type": "display_data"
    }
   ],
   "source": [
    "# correlation between spatial variables\n",
    "fig, ax = plt.subplots(figsize=(5,5))\n",
    "ax.imshow(spatial_df.corr().to_numpy())\n",
    "ax.set_yticks(np.arange(len(spatial_df.columns)))\n",
    "ax.set_yticklabels(spatial_df.columns.tolist());\n",
    "ax.set_xticks(np.arange(len(spatial_df.columns)))\n",
    "ax.set_xticklabels(spatial_df.columns.tolist(), rotation=90);"
   ]
  },
  {
   "cell_type": "markdown",
   "metadata": {},
   "source": [
    "# 6. Temporal Only (Weather - Daily)"
   ]
  },
  {
   "cell_type": "code",
   "execution_count": 39,
   "metadata": {
    "scrolled": true
   },
   "outputs": [],
   "source": [
    "weather = pd.read_csv(project_data_dir+'data_raw/weather.csv', parse_dates = ['DATE'])\n",
    "weather = weather[weather['NAME']=='CHICAGO OHARE INTERNATIONAL AIRPORT, IL US']\n",
    "\n",
    "weather.fillna(0, inplace=True)\n",
    "weather.sort_values(by = 'DATE', inplace=True)\n",
    "weather = weather[(weather['DATE']>=start_date)&(weather['DATE']<=end_date)]\n",
    "\n",
    "weather['week'] = weather.DATE.dt.isocalendar().week\n",
    "weather['year'] = weather.DATE.dt.isocalendar().year\n",
    "weather['TAVGAVG'] = weather.groupby(['week','year']).transform(np.mean)['TAVG']\n",
    "\n",
    "weather['PRCP'] = weather['PRCP'] + weather['SNOW']\n",
    "\n",
    "weather['DAY_INDEX'] = weather['DATE'].map(daydict)\n",
    "weather[['DATE','DAY_INDEX','PRCP','TAVGAVG','TAVG']].to_csv(project_data_dir+'data_processed/weather_'+period+'.csv', index=False)\n"
   ]
  },
  {
   "cell_type": "markdown",
   "metadata": {},
   "source": [
    "# 7. Level of Service: Rail Frequency"
   ]
  },
  {
   "cell_type": "code",
   "execution_count": 8,
   "metadata": {},
   "outputs": [],
   "source": [
    "# Get GFTS Versions\n",
    "gtfs_versions = [name.split(\"-\") for name in os.listdir(project_data_dir+\"data_raw/CTA_GTFS\")]\n",
    "gtfs_versions = pd.DataFrame(gtfs_versions, columns=['start_date','end_date'])\n",
    "gtfs_versions['start_date'] = pd.to_datetime(gtfs_versions['start_date']).dt.date\n",
    "gtfs_versions['end_date'] = pd.to_datetime(gtfs_versions['end_date']).dt.date\n",
    "gtfs_versions = gtfs_versions.sort_values('end_date', ascending=False).reset_index(drop=True)"
   ]
  },
  {
   "cell_type": "code",
   "execution_count": 9,
   "metadata": {},
   "outputs": [
    {
     "data": {
      "text/html": [
       "<div>\n",
       "<style scoped>\n",
       "    .dataframe tbody tr th:only-of-type {\n",
       "        vertical-align: middle;\n",
       "    }\n",
       "\n",
       "    .dataframe tbody tr th {\n",
       "        vertical-align: top;\n",
       "    }\n",
       "\n",
       "    .dataframe thead th {\n",
       "        text-align: right;\n",
       "    }\n",
       "</style>\n",
       "<table border=\"1\" class=\"dataframe\">\n",
       "  <thead>\n",
       "    <tr style=\"text-align: right;\">\n",
       "      <th></th>\n",
       "      <th>start_date</th>\n",
       "      <th>end_date</th>\n",
       "    </tr>\n",
       "  </thead>\n",
       "  <tbody>\n",
       "    <tr>\n",
       "      <th>0</th>\n",
       "      <td>2020-09-01</td>\n",
       "      <td>2020-12-30</td>\n",
       "    </tr>\n",
       "    <tr>\n",
       "      <th>1</th>\n",
       "      <td>2020-08-15</td>\n",
       "      <td>2020-10-31</td>\n",
       "    </tr>\n",
       "    <tr>\n",
       "      <th>2</th>\n",
       "      <td>2020-07-27</td>\n",
       "      <td>2020-09-30</td>\n",
       "    </tr>\n",
       "    <tr>\n",
       "      <th>3</th>\n",
       "      <td>2020-06-12</td>\n",
       "      <td>2020-08-31</td>\n",
       "    </tr>\n",
       "    <tr>\n",
       "      <th>4</th>\n",
       "      <td>2020-04-16</td>\n",
       "      <td>2020-06-30</td>\n",
       "    </tr>\n",
       "    <tr>\n",
       "      <th>5</th>\n",
       "      <td>2020-03-02</td>\n",
       "      <td>2020-05-31</td>\n",
       "    </tr>\n",
       "    <tr>\n",
       "      <th>6</th>\n",
       "      <td>2020-02-19</td>\n",
       "      <td>2020-04-30</td>\n",
       "    </tr>\n",
       "    <tr>\n",
       "      <th>7</th>\n",
       "      <td>2019-12-19</td>\n",
       "      <td>2020-02-29</td>\n",
       "    </tr>\n",
       "    <tr>\n",
       "      <th>8</th>\n",
       "      <td>2019-10-04</td>\n",
       "      <td>2019-12-31</td>\n",
       "    </tr>\n",
       "    <tr>\n",
       "      <th>9</th>\n",
       "      <td>2019-09-03</td>\n",
       "      <td>2019-11-30</td>\n",
       "    </tr>\n",
       "    <tr>\n",
       "      <th>10</th>\n",
       "      <td>2019-08-01</td>\n",
       "      <td>2019-10-31</td>\n",
       "    </tr>\n",
       "  </tbody>\n",
       "</table>\n",
       "</div>"
      ],
      "text/plain": [
       "    start_date    end_date\n",
       "0   2020-09-01  2020-12-30\n",
       "1   2020-08-15  2020-10-31\n",
       "2   2020-07-27  2020-09-30\n",
       "3   2020-06-12  2020-08-31\n",
       "4   2020-04-16  2020-06-30\n",
       "5   2020-03-02  2020-05-31\n",
       "6   2020-02-19  2020-04-30\n",
       "7   2019-12-19  2020-02-29\n",
       "8   2019-10-04  2019-12-31\n",
       "9   2019-09-03  2019-11-30\n",
       "10  2019-08-01  2019-10-31"
      ]
     },
     "execution_count": 9,
     "metadata": {},
     "output_type": "execute_result"
    }
   ],
   "source": [
    "gtfs_versions"
   ]
  },
  {
   "cell_type": "code",
   "execution_count": 50,
   "metadata": {},
   "outputs": [],
   "source": [
    "def get_counts_from_gtfs(path, cur_date):\n",
    "    \n",
    "    path = project_data_dir + \"data_raw/CTA_GTFS/\"+folder\n",
    "    s = pd.read_csv(path+'/stops.txt', dtype={'trip_id':str})\n",
    "    r = pd.read_csv(path+'/routes.txt') \n",
    "    t = pd.read_csv(path+'/trips.txt', dtype={'service_id':str, 'trip_id':str, 'shape_id':str, 'schd_trip_id':str})\n",
    "    st = pd.read_csv(path+'/stop_times.txt', dtype={'trip_id':str})\n",
    "    c = pd.read_csv(path+'/calendar.txt', dtype={'service_id':str, 'start_date':str, 'end_date':str})\n",
    "    cd = pd.read_csv(path+'/calendar_dates.txt', dtype={'service_id':str, 'date':str})\n",
    "\n",
    "    c['start_date'] = pd.to_datetime(c['start_date'])\n",
    "    c['end_date'] = pd.to_datetime(c['end_date'])\n",
    "    cd['date'] = pd.to_datetime(cd['date'])\n",
    "\n",
    "    # get service_ids from calendar.txt\n",
    "    dow_col = cur_date.day_name().lower()\n",
    "    service_ids = c[(c[dow_col] == 1) & (c['start_date']<=cur_date) & (c['end_date']>=cur_date)]['service_id']\n",
    "\n",
    "    # modify according to calendar_dates.txt\n",
    "    service_ids = service_ids.append(cd[(cd['date']==cur_date) & (cd['exception_type']==1)]['service_id'])\n",
    "    service_ids = service_ids[~service_ids.isin(cd[(cd['date']==cur_date) & (cd['exception_type']==2)]['service_id'])]\n",
    "\n",
    "    # get ids of scheduled trips from trips.txt\n",
    "    schd_trips = t[t['service_id'].isin(service_ids.tolist())]\n",
    "\n",
    "    # filter down to rail stations\n",
    "    # stops.parent_station corresponds to the gtfs code in lookup file\n",
    "    # stop_id is NOT station id!\n",
    "    s = s[s['parent_station'].isin(rail_stations['gtfs'])]\n",
    "    r = r[r['route_type']==1]\n",
    "\n",
    "    # count stop times for identified trips and stations\n",
    "    stt = st.merge(s, on='stop_id')\n",
    "    stt = stt.merge(schd_trips, how = 'inner', on = 'trip_id')\n",
    "    stt = stt.merge(r, how = 'inner', on = 'route_id')\n",
    "    stt['arrival_time'] = stt['arrival_time'].astype(str)\n",
    "    stt['arrival_hour'] = stt['arrival_time'].str[:2].astype(int)\n",
    "    stt['arrival_min'] = stt['arrival_time'].str[3:5].astype(int)\n",
    "    stt['interval_15'] = stt['arrival_hour'] * 4 + stt['arrival_min']//15\n",
    "    stt['ts'] = ts_day_base + stt['interval_15']\n",
    "\n",
    "    # \n",
    "    counts = stt.groupby(['ts','parent_station'], as_index=False).count()[['ts','parent_station','trip_id']]\n",
    "    \n",
    "    return counts"
   ]
  },
  {
   "cell_type": "code",
   "execution_count": 51,
   "metadata": {},
   "outputs": [
    {
     "name": "stdout",
     "output_type": "stream",
     "text": [
      "2020-04-01 00:00:00\t13025\n",
      "2020-04-02 00:00:00\t13025\n",
      "2020-04-03 00:00:00\t13025\n",
      "2020-04-04 00:00:00\t12832\n",
      "2020-04-05 00:00:00\t12651\n",
      "2020-04-06 00:00:00\t13008\n",
      "2020-04-07 00:00:00\t13025\n",
      "2020-04-08 00:00:00\t13025\n",
      "2020-04-09 00:00:00\t13025\n",
      "2020-04-10 00:00:00\t13025\n",
      "2020-04-11 00:00:00\t12832\n",
      "2020-04-12 00:00:00\t12651\n",
      "2020-04-13 00:00:00\t13008\n",
      "2020-04-14 00:00:00\t13025\n",
      "2020-04-15 00:00:00\t13025\n",
      "2020-04-16 00:00:00\t13025\n",
      "2020-04-17 00:00:00\t13025\n",
      "2020-04-18 00:00:00\t12832\n",
      "2020-04-19 00:00:00\t12651\n",
      "2020-04-20 00:00:00\t13008\n",
      "2020-04-21 00:00:00\t13025\n",
      "2020-04-22 00:00:00\t13025\n",
      "2020-04-23 00:00:00\t13025\n",
      "2020-04-24 00:00:00\t13025\n",
      "2020-04-25 00:00:00\t12832\n",
      "2020-04-26 00:00:00\t12651\n",
      "2020-04-27 00:00:00\t13008\n",
      "2020-04-28 00:00:00\t13025\n",
      "2020-04-29 00:00:00\t13025\n",
      "2020-04-30 00:00:00\t13025\n",
      "2020-05-01 00:00:00\t13025\n",
      "2020-05-02 00:00:00\t12832\n",
      "2020-05-03 00:00:00\t12651\n",
      "2020-05-04 00:00:00\t13008\n",
      "2020-05-05 00:00:00\t13025\n",
      "2020-05-06 00:00:00\t13025\n",
      "2020-05-07 00:00:00\t13025\n",
      "2020-05-08 00:00:00\t13025\n",
      "2020-05-09 00:00:00\t12832\n",
      "2020-05-10 00:00:00\t12651\n",
      "2020-05-11 00:00:00\t13008\n",
      "2020-05-12 00:00:00\t13025\n",
      "2020-05-13 00:00:00\t13025\n",
      "2020-05-14 00:00:00\t13025\n",
      "2020-05-15 00:00:00\t13025\n",
      "2020-05-16 00:00:00\t12832\n",
      "2020-05-17 00:00:00\t12651\n",
      "2020-05-18 00:00:00\t13008\n",
      "2020-05-19 00:00:00\t13025\n",
      "2020-05-20 00:00:00\t13025\n",
      "2020-05-21 00:00:00\t13025\n",
      "2020-05-22 00:00:00\t13025\n",
      "2020-05-23 00:00:00\t12832\n",
      "2020-05-24 00:00:00\t12651\n",
      "2020-05-25 00:00:00\t12606\n",
      "2020-05-26 00:00:00\t13008\n",
      "2020-05-27 00:00:00\t13025\n",
      "2020-05-28 00:00:00\t13025\n",
      "2020-05-29 00:00:00\t13025\n",
      "2020-05-30 00:00:00\t12832\n",
      "2020-05-31 00:00:00\t12651\n",
      "2020-06-01 00:00:00\t13008\n",
      "2020-06-02 00:00:00\t13025\n",
      "2020-06-03 00:00:00\t13025\n",
      "2020-06-04 00:00:00\t13025\n",
      "2020-06-05 00:00:00\t13025\n",
      "2020-06-06 00:00:00\t12832\n",
      "2020-06-07 00:00:00\t12651\n",
      "2020-06-08 00:00:00\t13008\n",
      "2020-06-09 00:00:00\t13025\n",
      "2020-06-10 00:00:00\t13025\n",
      "2020-06-11 00:00:00\t13025\n",
      "2020-06-12 00:00:00\t13055\n",
      "2020-06-13 00:00:00\t12856\n",
      "2020-06-14 00:00:00\t12684\n",
      "2020-06-15 00:00:00\t13006\n",
      "2020-06-16 00:00:00\t13055\n",
      "2020-06-17 00:00:00\t13055\n",
      "2020-06-18 00:00:00\t13055\n",
      "2020-06-19 00:00:00\t13055\n",
      "2020-06-20 00:00:00\t12856\n",
      "2020-06-21 00:00:00\t12684\n",
      "2020-06-22 00:00:00\t13006\n",
      "2020-06-23 00:00:00\t13055\n",
      "2020-06-24 00:00:00\t13055\n",
      "2020-06-25 00:00:00\t13055\n",
      "2020-06-26 00:00:00\t13055\n",
      "2020-06-27 00:00:00\t12856\n",
      "2020-06-28 00:00:00\t12684\n",
      "2020-06-29 00:00:00\t13006\n",
      "2020-06-30 00:00:00\t13055\n",
      "2020-07-01 00:00:00\t13055\n",
      "2020-07-02 00:00:00\t13055\n",
      "2020-07-03 00:00:00\t12653\n",
      "2020-07-04 00:00:00\t12789\n",
      "2020-07-05 00:00:00\t12684\n",
      "2020-07-06 00:00:00\t13006\n",
      "2020-07-07 00:00:00\t13055\n",
      "2020-07-08 00:00:00\t13055\n",
      "2020-07-09 00:00:00\t13055\n",
      "2020-07-10 00:00:00\t13055\n",
      "2020-07-11 00:00:00\t12856\n",
      "2020-07-12 00:00:00\t12684\n",
      "2020-07-13 00:00:00\t13006\n",
      "2020-07-14 00:00:00\t13055\n",
      "2020-07-15 00:00:00\t13055\n",
      "2020-07-16 00:00:00\t13055\n",
      "2020-07-17 00:00:00\t13055\n",
      "2020-07-18 00:00:00\t12856\n",
      "2020-07-19 00:00:00\t12684\n",
      "2020-07-20 00:00:00\t13006\n",
      "2020-07-21 00:00:00\t13055\n",
      "2020-07-22 00:00:00\t13055\n",
      "2020-07-23 00:00:00\t13055\n",
      "2020-07-24 00:00:00\t13055\n",
      "2020-07-25 00:00:00\t12856\n",
      "2020-07-26 00:00:00\t12684\n",
      "2020-07-27 00:00:00\t13006\n",
      "2020-07-28 00:00:00\t13055\n",
      "2020-07-29 00:00:00\t13055\n",
      "2020-07-30 00:00:00\t13055\n",
      "2020-07-31 00:00:00\t13055\n",
      "2020-08-01 00:00:00\t12856\n",
      "2020-08-02 00:00:00\t12684\n",
      "2020-08-03 00:00:00\t13006\n",
      "2020-08-04 00:00:00\t13055\n",
      "2020-08-05 00:00:00\t13055\n",
      "2020-08-06 00:00:00\t13055\n",
      "2020-08-07 00:00:00\t13055\n",
      "2020-08-08 00:00:00\t12856\n",
      "2020-08-09 00:00:00\t12684\n",
      "2020-08-10 00:00:00\t13006\n",
      "2020-08-11 00:00:00\t13055\n",
      "2020-08-12 00:00:00\t13055\n",
      "2020-08-13 00:00:00\t13055\n",
      "2020-08-14 00:00:00\t13055\n",
      "2020-08-15 00:00:00\t12856\n",
      "2020-08-16 00:00:00\t12684\n",
      "2020-08-17 00:00:00\t13006\n",
      "2020-08-18 00:00:00\t13055\n",
      "2020-08-19 00:00:00\t13055\n",
      "2020-08-20 00:00:00\t13055\n",
      "2020-08-21 00:00:00\t13055\n",
      "2020-08-22 00:00:00\t12856\n",
      "2020-08-23 00:00:00\t12684\n",
      "2020-08-24 00:00:00\t13006\n",
      "2020-08-25 00:00:00\t13055\n",
      "2020-08-26 00:00:00\t13055\n",
      "2020-08-27 00:00:00\t13055\n",
      "2020-08-28 00:00:00\t13055\n",
      "2020-08-29 00:00:00\t12856\n",
      "2020-08-30 00:00:00\t12684\n",
      "2020-08-31 00:00:00\t13006\n",
      "2020-09-01 00:00:00\t13055\n",
      "2020-09-02 00:00:00\t13055\n",
      "2020-09-03 00:00:00\t13055\n",
      "2020-09-04 00:00:00\t13055\n",
      "2020-09-05 00:00:00\t12856\n",
      "2020-09-06 00:00:00\t12684\n",
      "2020-09-07 00:00:00\t12604\n",
      "2020-09-08 00:00:00\t13006\n",
      "2020-09-09 00:00:00\t13055\n",
      "2020-09-10 00:00:00\t13055\n",
      "2020-09-11 00:00:00\t13055\n",
      "2020-09-12 00:00:00\t12856\n",
      "2020-09-13 00:00:00\t12684\n",
      "2020-09-14 00:00:00\t13006\n",
      "2020-09-15 00:00:00\t13055\n",
      "2020-09-16 00:00:00\t13055\n",
      "2020-09-17 00:00:00\t13055\n",
      "2020-09-18 00:00:00\t13055\n",
      "2020-09-19 00:00:00\t12856\n",
      "2020-09-20 00:00:00\t12684\n",
      "2020-09-21 00:00:00\t13006\n",
      "2020-09-22 00:00:00\t13055\n",
      "2020-09-23 00:00:00\t13055\n",
      "2020-09-24 00:00:00\t13055\n",
      "2020-09-25 00:00:00\t13055\n",
      "2020-09-26 00:00:00\t12856\n",
      "2020-09-27 00:00:00\t12684\n",
      "2020-09-28 00:00:00\t13006\n",
      "2020-09-29 00:00:00\t13055\n",
      "2020-09-30 00:00:00\t13055\n",
      "2020-10-01 00:00:00\t13055\n",
      "2020-10-02 00:00:00\t13055\n",
      "2020-10-03 00:00:00\t12856\n",
      "2020-10-04 00:00:00\t12684\n",
      "2020-10-05 00:00:00\t13006\n",
      "2020-10-06 00:00:00\t13055\n",
      "2020-10-07 00:00:00\t13055\n",
      "2020-10-08 00:00:00\t13055\n",
      "2020-10-09 00:00:00\t13055\n",
      "2020-10-10 00:00:00\t12856\n",
      "2020-10-11 00:00:00\t12684\n",
      "2020-10-12 00:00:00\t13006\n",
      "2020-10-13 00:00:00\t13055\n",
      "2020-10-14 00:00:00\t13055\n",
      "2020-10-15 00:00:00\t13055\n",
      "2020-10-16 00:00:00\t13055\n",
      "2020-10-17 00:00:00\t12856\n",
      "2020-10-18 00:00:00\t12684\n",
      "2020-10-19 00:00:00\t13006\n",
      "2020-10-20 00:00:00\t13055\n",
      "2020-10-21 00:00:00\t13055\n",
      "2020-10-22 00:00:00\t13055\n",
      "2020-10-23 00:00:00\t13055\n",
      "2020-10-24 00:00:00\t12856\n",
      "2020-10-25 00:00:00\t12684\n",
      "2020-10-26 00:00:00\t13006\n",
      "2020-10-27 00:00:00\t13055\n",
      "2020-10-28 00:00:00\t13055\n",
      "2020-10-29 00:00:00\t13055\n",
      "2020-10-30 00:00:00\t13055\n"
     ]
    }
   ],
   "source": [
    "def daterange(start_date, end_date):\n",
    "    for n in range(int((end_date - start_date).days)):\n",
    "        yield start_date + datetime.timedelta(n)\n",
    "\n",
    "ts_day_base = 0\n",
    "rail_freq = pd.DataFrame(columns = ['ts','parent_station','trip_id'])    \n",
    "for cur_date in daterange(start_date, end_date):\n",
    "    day_index = daydict[cur_date]\n",
    "    ver = gtfs_versions[(cur_date >= gtfs_versions['start_date']) & (cur_date <= gtfs_versions['end_date'])]\n",
    "    print(cur_date, end='\\t')\n",
    "    if len(ver)==0:\n",
    "        ts_day_base += 96\n",
    "        print(cur_date, 'not found!')\n",
    "        continue\n",
    "    else:\n",
    "        folder = datetime.datetime.strftime(gtfs_versions['start_date'].iloc[ver.index[0]],\"%Y%m%d\") + '-' + \\\n",
    "                datetime.datetime.strftime(gtfs_versions['end_date'].iloc[ver.index[0]],\"%Y%m%d\")\n",
    "        new = get_counts_from_gtfs(folder, cur_date)\n",
    "        new['day_index'] = day_index\n",
    "        rail_freq = rail_freq.append(new)\n",
    "        ts_day_base += 96"
   ]
  },
  {
   "cell_type": "code",
   "execution_count": 52,
   "metadata": {},
   "outputs": [],
   "source": [
    "# translate parent station (gtfs) into station_id in ventra\n",
    "rail_freq.columns = ['ts', 'parent_station', 'num_schd_trp_15min','day_index']\n",
    "rail_freq = rail_freq.merge(rail_stations, left_on='parent_station', right_on='gtfs')\n",
    "\n",
    "rail_freq = rail_freq[['station_id','ts','num_schd_trp_15min','day_index']]"
   ]
  },
  {
   "cell_type": "code",
   "execution_count": 53,
   "metadata": {},
   "outputs": [],
   "source": [
    "rail_freq.to_csv(project_data_dir+'data_processed/rail_catchment/'+period+'/rail_count_df.csv', index=False)"
   ]
  },
  {
   "cell_type": "code",
   "execution_count": null,
   "metadata": {},
   "outputs": [],
   "source": []
  },
  {
   "cell_type": "code",
   "execution_count": null,
   "metadata": {},
   "outputs": [],
   "source": []
  }
 ],
 "metadata": {
  "kernelspec": {
   "display_name": "Python 3",
   "language": "python",
   "name": "python3"
  },
  "language_info": {
   "codemirror_mode": {
    "name": "ipython",
    "version": 3
   },
   "file_extension": ".py",
   "mimetype": "text/x-python",
   "name": "python",
   "nbconvert_exporter": "python",
   "pygments_lexer": "ipython3",
   "version": "3.7.11"
  },
  "varInspector": {
   "cols": {
    "lenName": 16,
    "lenType": 16,
    "lenVar": 40
   },
   "kernels_config": {
    "python": {
     "delete_cmd_postfix": "",
     "delete_cmd_prefix": "del ",
     "library": "var_list.py",
     "varRefreshCmd": "print(var_dic_list())"
    },
    "r": {
     "delete_cmd_postfix": ") ",
     "delete_cmd_prefix": "rm(",
     "library": "var_list.r",
     "varRefreshCmd": "cat(var_dic_list()) "
    }
   },
   "types_to_exclude": [
    "module",
    "function",
    "builtin_function_or_method",
    "instance",
    "_Feature"
   ],
   "window_display": false
  }
 },
 "nbformat": 4,
 "nbformat_minor": 2
}
