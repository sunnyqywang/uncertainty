{
 "cells": [
  {
   "cell_type": "code",
   "execution_count": 2,
   "metadata": {},
   "outputs": [
    {
     "name": "stdout",
     "output_type": "stream",
     "text": [
      "The autoreload extension is already loaded. To reload it, use:\n",
      "  %reload_ext autoreload\n"
     ]
    }
   ],
   "source": [
    "import sys\n",
    "sys.path.append('../')\n",
    "\n",
    "import matplotlib\n",
    "import matplotlib.pyplot as plt\n",
    "import numpy as np\n",
    "import pandas as pd\n",
    "import pickle as pkl\n",
    "\n",
    "import util_gcnn\n",
    "import util_results\n",
    "\n",
    "plt.rcParams.update({\"font.size\":16})\n",
    "\n",
    "%load_ext autoreload\n",
    "%autoreload 2"
   ]
  },
  {
   "cell_type": "code",
   "execution_count": 3,
   "metadata": {},
   "outputs": [],
   "source": [
    "project_dir = \"/home/jtl/Dropbox (MIT)/project_uncertainty_quantification/\"\n",
    "out_folder = \"2104_rc_new1/\"\n",
    "result_file = \"rail_catchment_mve_results_val.csv\""
   ]
  },
  {
   "cell_type": "markdown",
   "metadata": {},
   "source": [
    "## Benchmark"
   ]
  },
  {
   "cell_type": "code",
   "execution_count": 4,
   "metadata": {},
   "outputs": [],
   "source": [
    "res_before, res_after = util_results.get_bmk_results(project_dir, out_folder, \n",
    "                        metrics=['nll_loss','mae','rmse','u','um','us','uc','picp','mpiw'], filt={'lookback':2})"
   ]
  },
  {
   "cell_type": "markdown",
   "metadata": {},
   "source": [
    "## GCN"
   ]
  },
  {
   "cell_type": "code",
   "execution_count": 5,
   "metadata": {},
   "outputs": [],
   "source": [
    "results = pd.read_csv(project_dir+\"results/\"+out_folder+result_file)\n",
    "results = results[results['test_nll_loss']<1000]\n",
    "results['val_rmse'] = np.sqrt(results['val_mse'])\n",
    "results['test_rmse'] = np.sqrt(results['test_mse'])\n",
    "results['Adjacency'] = pd.Categorical(results['Adjacency'], ['func','euc','con','net','func_euc','func_con','func_net','func_euc_con_net'])\n",
    "\n",
    "before = results[(results['Period']=='before')&(results['Adjacency']=='func_euc_con_net')&(results['Lookback']==2)]\n",
    "before = before.sort_values(by='val_nll_loss').iloc[0]\n",
    "\n",
    "after = results[(results['Period']=='after')&(results['Adjacency']=='func_euc_con_net')&(results['Lookback']==2)]\n",
    "after = after.sort_values(by='val_nll_loss').iloc[0]\n",
    "\n",
    "for me in ['nll_loss','mae','rmse','u','um','us','uc','picp','mpiw']:\n",
    "    res_before['gcn_'+me] = before['test_'+me]\n",
    "    res_after['gcn_'+me] = after['test_'+me]"
   ]
  },
  {
   "cell_type": "code",
   "execution_count": 6,
   "metadata": {},
   "outputs": [
    {
     "data": {
      "text/plain": [
       "955"
      ]
     },
     "execution_count": 6,
     "metadata": {},
     "output_type": "execute_result"
    }
   ],
   "source": [
    "len(results)"
   ]
  },
  {
   "cell_type": "markdown",
   "metadata": {},
   "source": [
    "## GCN Ensemble"
   ]
  },
  {
   "cell_type": "code",
   "execution_count": 7,
   "metadata": {},
   "outputs": [],
   "source": [
    "with open(project_dir+'results/'+out_folder+'before_dt_gcn_ensemble.pkl', 'rb') as f:\n",
    "    res_before.update(pkl.load(f))"
   ]
  },
  {
   "cell_type": "code",
   "execution_count": 8,
   "metadata": {},
   "outputs": [],
   "source": [
    "with open(project_dir+'results/'+out_folder+'after_dt_gcn_ensemble.pkl', 'rb') as f:\n",
    "    res_after.update(pkl.load(f))"
   ]
  },
  {
   "cell_type": "markdown",
   "metadata": {},
   "source": [
    "## GCN-Homo"
   ]
  },
  {
   "cell_type": "code",
   "execution_count": 9,
   "metadata": {},
   "outputs": [],
   "source": [
    "out_folder = \"2106_rc_homo/\"\n",
    "result_file = \"rail_catchment_mve_results.csv\"\n",
    "\n",
    "results = pd.read_csv(project_dir+\"results/\"+out_folder+result_file)\n",
    "results = results[results['test_nll_loss']<1000]\n",
    "results['val_rmse'] = np.sqrt(results['val_mse'])\n",
    "results['test_rmse'] = np.sqrt(results['test_mse'])\n",
    "results['Adjacency'] = pd.Categorical(results['Adjacency'], ['func','euc','con','net','func_euc','func_con','func_net','func_euc_con_net'])\n",
    "\n",
    "before = results[(results['Period']=='before')&(results['Adjacency']=='func_euc_con_net')&(results['Lookback']==2)]\n",
    "before = before.sort_values(by='val_nll_loss').iloc[0]\n",
    "\n",
    "after = results[(results['Period']=='after')&(results['Adjacency']=='func_euc_con_net')&(results['Lookback']==2)]\n",
    "after = after.sort_values(by='val_nll_loss').iloc[0]\n",
    "\n",
    "for me in ['nll_loss','mae','rmse','u','um','us','uc','picp','mpiw']:\n",
    "    res_before['gcn_homo_'+me] = before['test_'+me]\n",
    "    res_after['gcn_homo_'+me] = after['test_'+me]"
   ]
  },
  {
   "cell_type": "code",
   "execution_count": 10,
   "metadata": {},
   "outputs": [],
   "source": [
    "out_folder = \"2106_rc_homo1/\"\n",
    "result_file = \"rail_catchment_mve_results.csv\"\n",
    "\n",
    "results = pd.read_csv(project_dir+\"results/\"+out_folder+result_file)\n",
    "#results = results[results['test_nll_loss']<1000]\n",
    "results['val_rmse'] = np.sqrt(results['val_mse'])\n",
    "results['test_rmse'] = np.sqrt(results['test_mse'])\n",
    "results['Adjacency'] = pd.Categorical(results['Adjacency'], ['func','euc','con','net','func_euc','func_con','func_net','func_euc_con_net'])\n",
    "\n",
    "before = results[(results['Period']=='before')&(results['Adjacency']=='func_euc_con_net')&(results['Lookback']==2)]\n",
    "before = before.sort_values(by='val_nll_loss').iloc[0]\n",
    "\n",
    "after = results[(results['Period']=='after')&(results['Adjacency']=='func_euc_con_net')&(results['Lookback']==2)]\n",
    "after = after.sort_values(by='val_nll_loss').iloc[0]\n",
    "\n",
    "for me in ['nll_loss','mae','rmse','u','um','us','uc','picp','mpiw']:\n",
    "    res_before['gcn_homo1_'+me] = before['test_'+me]\n",
    "    res_after['gcn_homo1_'+me] = after['test_'+me]"
   ]
  },
  {
   "cell_type": "markdown",
   "metadata": {},
   "source": [
    "# Table: Model Performance"
   ]
  },
  {
   "cell_type": "code",
   "execution_count": 11,
   "metadata": {},
   "outputs": [],
   "source": [
    "# hardcoded during revision\n",
    "before_test_avg = 635.4\n",
    "after_test_avg = 89.0"
   ]
  },
  {
   "cell_type": "code",
   "execution_count": 25,
   "metadata": {},
   "outputs": [
    {
     "name": "stdout",
     "output_type": "stream",
     "text": [
      "Last Week & 100.4 & 517.5 & 0.8994 & 71.82 & 11.3\\%\\\\\n",
      "Weighted Least Squares & 142.2 & 238.9 & 0.7356 & 77.94 & 12.3\\%\\\\\n",
      "GCN MVE Homo EV & 122.7 & 1.138e+03 & 0.9883 & 157.3 & 24.7\\%\\\\\n",
      "GCN MVE Homo 1 & 2.862e+04 & 14.37 & 0.206 & 63.07 & 9.93\\%\\\\\n",
      "GCN MVE & 94.38 & 356.2 & 0.9524 & 67.57 & 10.6\\%\\\\\n",
      "GCN MVE Ensemble & 94.1 & 397.1 & 0.9622 & 66.79 & 10.5\\%\\\\\n",
      "\\midrule\n",
      "\\multicolumn{8}{c}{During COVID (April 2020 - Oct 2020)}\\\\\n",
      "\\midrule\n",
      "Last Week & 75.09 & 109.3 & 0.9241 & 13.35 & 15.0\\%\\\\\n",
      "Weighted Least Squares & 115.7 & 48.6 & 0.5943 & 13.77 & 15.5\\%\\\\\n",
      "GCN MVE Homo EV & 80.22 & 85.81 & 0.9654 & 19.08 & 21.4\\%\\\\\n",
      "GCN MVE Homo 1 & 325.7 & 18.2 & 0.606 & 13.9 & 15.6\\%\\\\\n",
      "GCN MVE & 70.7 & 84.7 & 0.9559 & 13.97 & 15.7\\%\\\\\n",
      "GCN MVE Ensemble & 70.44 & 80.89 & 0.9616 & 13.46 & 15.1\\%\\\\\n"
     ]
    }
   ],
   "source": [
    "metric_format = {'mae':'{0:.4}','mape':'{0:.3}', 'rmse':'{0:.4}','u':'{0:.4}','um':'{0:.4}','us':'{0:.4}','uc':'{0:.4}',\n",
    "                 'nll_loss':'{0:.4}','picp':'{0:.4}','mpiw':'{0:.4}'}\n",
    "model_name = {'lw': 'Last Week', 'wls': 'Weighted Least Squares', 'gcn_homo':'GCN MVE Homo EV', 'gcn_homo1':'GCN MVE Homo 1',\n",
    "              'gcn':'GCN MVE', 'gcn_ens':'GCN MVE Ensemble'}\n",
    "\n",
    "for mo in ['lw', 'wls', 'gcn_homo', 'gcn_homo1', 'gcn', 'gcn_ens']:\n",
    "    print(model_name[mo], end=' & ')\n",
    "    for me in ['nll_loss','mpiw','picp','mae','mape']:\n",
    "        end = ' & '\n",
    "        if me == 'mape':\n",
    "            print(metric_format[me].format(res_before[mo+'_'+'mae'] / before_test_avg * 100) + \"\\%\", end='\\\\\\\\\\n')\n",
    "            \n",
    "        elif mo+'_'+me in res_before.keys():\n",
    "            print(metric_format[me].format(res_before[mo+'_'+me]), end=end)\n",
    "        else:\n",
    "            print('', end=end)\n",
    "\n",
    "print('\\midrule')\n",
    "print('\\multicolumn{8}{c}{During COVID (April 2020 - Oct 2020)}\\\\\\\\')\n",
    "print('\\midrule')\n",
    "\n",
    "for mo in ['lw', 'wls', 'gcn_homo', 'gcn_homo1', 'gcn', 'gcn_ens']:\n",
    "    print(model_name[mo], end=' & ')\n",
    "    for me in ['nll_loss','mpiw','picp','mae','mape']:\n",
    "        end = ' & '\n",
    "        if me == 'mape':\n",
    "            print(metric_format[me].format(res_after[mo+'_'+'mae'] / after_test_avg * 100) + \"\\%\", end='\\\\\\\\\\n')\n",
    "        elif mo+'_'+me in res_after.keys():\n",
    "#             if me == 'uc':\n",
    "#                 end='\\\\\\\\\\n'\n",
    "#             if me in ['um','us']:\n",
    "#                 end = ' / '\n",
    "            print(metric_format[me].format(res_after[mo+'_'+me]), end=end)\n",
    "        else:\n",
    "            print('', end=end)"
   ]
  },
  {
   "cell_type": "code",
   "execution_count": null,
   "metadata": {},
   "outputs": [],
   "source": []
  }
 ],
 "metadata": {
  "kernelspec": {
   "display_name": "Python 3",
   "language": "python",
   "name": "python3"
  },
  "language_info": {
   "codemirror_mode": {
    "name": "ipython",
    "version": 3
   },
   "file_extension": ".py",
   "mimetype": "text/x-python",
   "name": "python",
   "nbconvert_exporter": "python",
   "pygments_lexer": "ipython3",
   "version": "3.7.11"
  }
 },
 "nbformat": 4,
 "nbformat_minor": 4
}
