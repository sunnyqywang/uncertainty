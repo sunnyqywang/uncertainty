{
 "cells": [
  {
   "cell_type": "code",
   "execution_count": 1,
   "metadata": {},
   "outputs": [],
   "source": [
    "import sys\n",
    "sys.path.append(\"eval/\")\n",
    "sys.path.append(\"models/\")\n",
    "\n",
    "import glob\n",
    "import itertools\n",
    "import matplotlib\n",
    "import matplotlib.pyplot as plt\n",
    "%matplotlib inline\n",
    "import numpy as np\n",
    "import pandas as pd\n",
    "import pickle as pkl\n",
    "import torch\n",
    "\n",
    "from class_mve_loss import T_MVELoss\n",
    "\n",
    "import util_eval\n",
    "import util_gcnn\n",
    "import util_plot\n",
    "import util_results\n",
    "\n",
    "from setup import *\n",
    "\n",
    "%load_ext autoreload\n",
    "%autoreload 2\n",
    "plt.rcParams.update({'font.size': 16})"
   ]
  },
  {
   "cell_type": "markdown",
   "metadata": {},
   "source": [
    "## Hyperparameters"
   ]
  },
  {
   "cell_type": "code",
   "execution_count": 2,
   "metadata": {},
   "outputs": [],
   "source": [
    "out_folder = \"2104_rc_new1/\"\n",
    "\n",
    "dist='tnorm'\n",
    "criterion = T_MVELoss()\n",
    "max_lookback = 6\n",
    "difference = True\n",
    "device = torch.device(\"cpu\")\n",
    "\n",
    "# 95% pct\n",
    "z=1.28"
   ]
  },
  {
   "cell_type": "code",
   "execution_count": 3,
   "metadata": {},
   "outputs": [],
   "source": [
    "result_in = \"rail_catchment_mve_results.csv\"\n",
    "results = pd.read_csv(project_dir+\"results/\"+out_folder+result_in)\n",
    "results=results[results['Adjacency'] == 'func_euc_con_net']\n",
    "results=results[results['Lookback'] == 2]"
   ]
  },
  {
   "cell_type": "code",
   "execution_count": 7,
   "metadata": {},
   "outputs": [],
   "source": [
    "result_out = \"rail_catchment_mve_results_val_80.csv\"\n",
    "ro = pd.read_csv(project_dir+\"results/\"+out_folder+result_out)\n",
    "existing = ro[['Period','Train Extent','Adjacency','Predict Horizon','Time Size','Lookback','Model','spatial']].to_numpy()"
   ]
  },
  {
   "cell_type": "code",
   "execution_count": 8,
   "metadata": {
    "scrolled": false
   },
   "outputs": [],
   "source": [
    "for (p,ex,adj_type,ph,ts,l,ii,si) in zip(results['Period'],results['Train Extent'],results['Adjacency'],\n",
    "                                 results['Predict Horizon'], results['Time Size'], results['Lookback'], \n",
    "                                 results['Model'], results['spatial']):\n",
    "    if (p,ex,adj_type,ph,ts,l,ii,si) in existing:\n",
    "        print('skip')\n",
    "        continue\n",
    "        \n",
    "    n_time = 96//ts - 7\n",
    "\n",
    "    # Get Data\n",
    "    data, adj, spatial, downtown_filter = \\\n",
    "        util_gcnn.combine_datasources(project_dir, p, ph, ts, difference, max_lookback, l)\n",
    "\n",
    "    (num_train, _, _, n_modes) = data['x'][0].shape\n",
    "    (num_val, _, _, _) = data['x'][1].shape\n",
    "    (num_test, _, _, _) = data['x'][2].shape\n",
    "\n",
    "    n_stations = np.sum(downtown_filter)\n",
    "    \n",
    "    # Load Trained NN\n",
    "    net = util_gcnn.load_model(project_dir, out_folder, p, ex, adj_type, ph, ts, l, ii, n_modes, n_stations, n_time)\n",
    "    \n",
    "    if net is None:\n",
    "        continue\n",
    "    \n",
    "    # Turn Data into Torch Tensors\n",
    "    _, _, valloader, testloader, adj_torch, spatial_torch, y_train_eval, y_val_eval, y_test_eval = \\\n",
    "                util_gcnn.prepare_for_torch(device, ex, data, adj, spatial, \n",
    "                                            downtown_filter, adj_type.split('_'))\n",
    "    if si == 0:\n",
    "        spatial_torch=None\n",
    "    \n",
    "    # Test Set    \n",
    "    test_out_loc, test_out_std, test_loss = util_gcnn.testset_output_gcn(testloader, False, net, criterion, adj_torch, \n",
    "                                    spatial_torch, device, n_time, return_components=False)\n",
    "    if dist == \"lognorm\":\n",
    "        test_out_loc = np.exp(test_out_loc - np.power(test_out_std,2))\n",
    "    mae, mse, _, _, _ = util_eval.eval_mean(test_out_loc, y_test_eval, 'Test')\n",
    "    u, ub, uv, uc = util_eval.eval_theils(test_out_loc, y_test_eval)\n",
    "    mpiw, picp = util_eval.eval_pi(test_out_loc - z*test_out_std, test_out_loc + z*test_out_std, y_test_eval)\n",
    "\n",
    "    # Validation Set\n",
    "    val_out_loc, val_out_std, val_loss = util_gcnn.testset_output_gcn(valloader, False, net, criterion, \n",
    "            adj_torch, spatial_torch, device, n_time)\n",
    "    if dist == \"lognorm\":\n",
    "        val_out_loc = np.exp(val_out_loc - np.power(val_out_std,2))\n",
    "    val_mae, val_mse, _, _, _ = util_eval.eval_mean(val_out_loc, y_val_eval, 'val')\n",
    "    val_u, val_ub, val_uv, val_uc = util_eval.eval_theils(val_out_loc, y_val_eval)\n",
    "    val_mpiw, val_picp = util_eval.eval_pi(val_out_loc - z*val_out_std, val_out_loc + z*val_out_std, y_val_eval)\n",
    "    \n",
    "    with open(project_dir+\"results/\"+out_folder+result_out,\"a\") as f:\n",
    "        f.write(\"%s,%s,%s,%s,%s,%d,%d,%d,%d,%d,%.2f,%.2f,%.2f,%.6f,%.6f,%.2f,%.2f,%.2f,%.6f,%.6f,%.6f,%.6f,%.6f,%.6f,%.6f,%.6f,%.6f,%.6f\\n\" % \n",
    "                (\"GCN\", p, ex, ex, adj_type, ii, ph, ts, l, si,\n",
    "                    val_loss/num_val, val_mae, val_mse, val_mpiw, val_picp,\n",
    "                    test_loss/num_test, mae, mse, mpiw, picp,\n",
    "                    val_u, val_ub, val_uv, val_uc, u, ub, uv, uc))\n",
    "        "
   ]
  },
  {
   "cell_type": "code",
   "execution_count": null,
   "metadata": {},
   "outputs": [],
   "source": []
  }
 ],
 "metadata": {
  "kernelspec": {
   "display_name": "Python 3",
   "language": "python",
   "name": "python3"
  },
  "language_info": {
   "codemirror_mode": {
    "name": "ipython",
    "version": 3
   },
   "file_extension": ".py",
   "mimetype": "text/x-python",
   "name": "python",
   "nbconvert_exporter": "python",
   "pygments_lexer": "ipython3",
   "version": "3.7.11"
  },
  "varInspector": {
   "cols": {
    "lenName": 16,
    "lenType": 16,
    "lenVar": 40
   },
   "kernels_config": {
    "python": {
     "delete_cmd_postfix": "",
     "delete_cmd_prefix": "del ",
     "library": "var_list.py",
     "varRefreshCmd": "print(var_dic_list())"
    },
    "r": {
     "delete_cmd_postfix": ") ",
     "delete_cmd_prefix": "rm(",
     "library": "var_list.r",
     "varRefreshCmd": "cat(var_dic_list()) "
    }
   },
   "types_to_exclude": [
    "module",
    "function",
    "builtin_function_or_method",
    "instance",
    "_Feature"
   ],
   "window_display": false
  }
 },
 "nbformat": 4,
 "nbformat_minor": 4
}
