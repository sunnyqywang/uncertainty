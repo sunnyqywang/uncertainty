{
 "cells": [
  {
   "cell_type": "code",
   "execution_count": 2,
   "metadata": {},
   "outputs": [
    {
     "name": "stdout",
     "output_type": "stream",
     "text": [
      "The autoreload extension is already loaded. To reload it, use:\n",
      "  %reload_ext autoreload\n"
     ]
    }
   ],
   "source": [
    "import sys\n",
    "sys.path.append('process_data/')\n",
    "sys.path.append('eval/')\n",
    "\n",
    "import geopandas as gpd\n",
    "import matplotlib.pyplot as plt\n",
    "import numpy as np\n",
    "import pandas as pd\n",
    "import pickle as pkl\n",
    "from pyproj import CRS\n",
    "import util_data\n",
    "import util_eval\n",
    "import util_plot\n",
    "\n",
    "from setup import *\n",
    "\n",
    "%matplotlib inline\n",
    "%load_ext autoreload\n",
    "%autoreload 2\n",
    "plt.rcParams.update({\"font.size\":16})"
   ]
  },
  {
   "cell_type": "code",
   "execution_count": 3,
   "metadata": {},
   "outputs": [],
   "source": [
    "out_folder = '2106_rc_new1/'\n",
    "out_file = ''\n",
    "\n",
    "period = 'before'\n",
    "predict_hzn = 1\n",
    "lookback = 2\n",
    "\n",
    "time_size = 4\n",
    "max_lookback = 6\n",
    "\n",
    "z = 1.96\n",
    "difference = True\n",
    "if difference:\n",
    "    differenced = \"diff\"\n",
    "else:\n",
    "    differenced = \"raw\"\n"
   ]
  },
  {
   "cell_type": "code",
   "execution_count": 4,
   "metadata": {},
   "outputs": [],
   "source": [
    "dates = pd.read_csv(project_dir+\"data/\"+period+\"_dates.csv\")\n",
    "with open(project_dir+\"data/data_processed/rail_catchment/\"+period+\"/\"+\n",
    "          period+\"_\"+str(predict_hzn)+\"_\"+str(time_size)+\"_\"+differenced+\"_data_train.pkl\",\"rb\") as f:\n",
    "    x_train = pkl.load(f)\n",
    "    ref_train = pkl.load(f)\n",
    "    los_train = pkl.load(f)\n",
    "    weather_train = pkl.load(f)\n",
    "    y_train = pkl.load(f)\n",
    "    ts_train = pkl.load(f)\n",
    "    station_id = pkl.load(f)\n",
    "    \n",
    "with open(project_dir+\"data/data_processed/rail_catchment/\"+period+\"/\"+\n",
    "          period+\"_\"+str(predict_hzn)+\"_\"+str(time_size)+\"_\"+differenced+\"_data_test.pkl\",\"rb\") as f:\n",
    "    x_test = pkl.load(f)\n",
    "    ref_test = pkl.load(f)\n",
    "    los_test = pkl.load(f)\n",
    "    weather_test = pkl.load(f)\n",
    "    y_test = pkl.load(f)\n",
    "    ts_test = pkl.load(f)\n",
    "    \n",
    "df = pd.DataFrame(np.array([np.concatenate((ts_train, ts_test)), \n",
    "                            np.concatenate((np.zeros(len(ts_train)), np.ones(len(ts_test))))]).T, \n",
    "                            columns=['ts','train/test'])"
   ]
  },
  {
   "cell_type": "code",
   "execution_count": 5,
   "metadata": {},
   "outputs": [
    {
     "data": {
      "text/plain": [
       "(3136, 6, 141, 3)"
      ]
     },
     "execution_count": 5,
     "metadata": {},
     "output_type": "execute_result"
    }
   ],
   "source": [
    "x_train.shape"
   ]
  },
  {
   "cell_type": "code",
   "execution_count": 6,
   "metadata": {},
   "outputs": [],
   "source": [
    "with open(project_dir+\"data/data_processed/common_stations.pkl\", \"rb\") as f:\n",
    "    common_stations = pkl.load(f)\n",
    "stations_mask = np.isin(np.array(station_id), common_stations)\n",
    "\n",
    "x_train = x_train[:, :, stations_mask,:]\n",
    "y_train = y_train[:, -1, stations_mask]\n",
    "x_test = x_test[:, :, stations_mask,:]\n",
    "y_test = y_test[:, -1, stations_mask]\n",
    "ref_train = ref_train[:, -1, stations_mask]\n",
    "ref_test = ref_test[:, -1, stations_mask]\n",
    "los_train = los_train[:,-1,stations_mask]\n",
    "los_test = los_test[:,-1,stations_mask]\n",
    "\n",
    "downtown_stations = pd.read_csv(project_dir+\"data/data_processed/downtown_stations.csv\")\n",
    "downtown_filter = np.isin(np.array(station_id)[stations_mask], downtown_stations['STATION_ID'])"
   ]
  },
  {
   "cell_type": "code",
   "execution_count": 7,
   "metadata": {},
   "outputs": [],
   "source": [
    "ref = np.concatenate((ref_train, ref_test))\n",
    "y = np.concatenate((y_train, y_test))\n",
    "ts = np.concatenate((ts_train, ts_test))"
   ]
  },
  {
   "cell_type": "code",
   "execution_count": 8,
   "metadata": {
    "scrolled": true
   },
   "outputs": [
    {
     "data": {
      "text/plain": [
       "460.7943748494359"
      ]
     },
     "execution_count": 8,
     "metadata": {},
     "output_type": "execute_result"
    }
   ],
   "source": [
    "# Value to use as the intial value of homoskedastic variation of GCN MVE\n",
    "np.std(y_train[:, downtown_filter]-ref_train[:, downtown_filter])"
   ]
  },
  {
   "cell_type": "code",
   "execution_count": 9,
   "metadata": {},
   "outputs": [],
   "source": [
    "spatial = pd.read_csv(project_dir+\"data/data_processed/rail_catchment/spatial.csv\")\n",
    "\n",
    "#print(\"All Available Columns:\\n\", spatial.columns.tolist())\n",
    "\n",
    "spatial['pct_adults'] = spatial['pct25_34yrs']+spatial['pct35_50yrs']\n",
    "spatial = spatial[['STATION_ID','tot_population','pct_adults','pctover65yrs',\n",
    "         'pctPTcommute','avg_tt_to_work','inc_per_capita',\n",
    "         'entertainment', 'restaurant', 'school', 'shop']]\n",
    "\n",
    "#print(\"\\n\\nColumns included:\\n\", spatial.columns.tolist())\n",
    "spatial = spatial.to_numpy()\n",
    "\n",
    "# update station selections\n",
    "common_stations = np.intersect1d(common_stations, spatial[:,0])\n",
    "\n",
    "stations_mask = np.isin(spatial[:,0], common_stations)\n",
    "spatial = spatial[stations_mask,1:]\n",
    "# normalize the values that are not percentages\n",
    "for i in [0,4,5,6,7,8,9]:\n",
    "    spatial[:,i] = (spatial[:,i] - np.mean(spatial[:,i]))/np.std(spatial[:,i])\n"
   ]
  },
  {
   "cell_type": "markdown",
   "metadata": {},
   "source": [
    "# 1. All Zeros"
   ]
  },
  {
   "cell_type": "markdown",
   "metadata": {},
   "source": [
    "## 1.1 All Stations"
   ]
  },
  {
   "cell_type": "code",
   "execution_count": 6,
   "metadata": {},
   "outputs": [
    {
     "name": "stdout",
     "output_type": "stream",
     "text": [
      "(Train) Mean Absolute Error: 182.250\n",
      "(Train) Mean Squared Error: 321831.568\n",
      "Percent Nonzeros: 99%\n",
      "Nonzero Entries:\n",
      "(Train) Mean Absolute Error: 182.894\n",
      "(Train) Mean Squared Error: 322967.501\n",
      "\n",
      "(Test) Mean Absolute Error: 189.711\n",
      "(Test) Mean Squared Error: 350362.642\n",
      "Percent Nonzeros: 99%\n",
      "Nonzero Entries:\n",
      "(Test) Mean Absolute Error: 190.736\n",
      "(Test) Mean Squared Error: 352255.357\n"
     ]
    }
   ],
   "source": [
    "tr_mae, tr_mse, tr_nz_mae, tr_nz_mse, tr_pct_nonzeros = \\\n",
    "    util_eval.eval_mean(np.zeros(y_train.shape), y_train, 'Train', stdout=True)\n",
    "print()\n",
    "mae, mse, nz_mae, nz_mse, pct_nonzeros = \\\n",
    "    util_eval.eval_mean(np.zeros(y_test.shape), y_test, 'Test', stdout=True)"
   ]
  },
  {
   "cell_type": "code",
   "execution_count": 7,
   "metadata": {},
   "outputs": [],
   "source": [
    "with open(project_dir+\"results/\"+out_folder+out_folder,\"a\") as f:\n",
    "        f.write(\"%s,%s,%s,%d,%d,,%.2f,%.2f,,,,,,,%.2f,%.2f\\n\" % \n",
    "                (period, 'all zeros', 'all',\n",
    "                predict_hzn, time_size, \n",
    "                tr_mae, tr_mse, \n",
    "                mae, mse))"
   ]
  },
  {
   "cell_type": "markdown",
   "metadata": {},
   "source": [
    "## 1.2 Downtown Stations"
   ]
  },
  {
   "cell_type": "code",
   "execution_count": 8,
   "metadata": {
    "scrolled": true
   },
   "outputs": [
    {
     "name": "stdout",
     "output_type": "stream",
     "text": [
      "(Train) Mean Absolute Error: 583.947\n",
      "(Train) Mean Squared Error: 2064472.477\n",
      "Percent Nonzeros: 99%\n",
      "Nonzero Entries:\n",
      "(Train) Mean Absolute Error: 585.461\n",
      "(Train) Mean Squared Error: 2069825.981\n",
      "\n",
      "(Test) Mean Absolute Error: 635.398\n",
      "(Test) Mean Squared Error: 2276337.740\n",
      "Percent Nonzeros: 100%\n",
      "Nonzero Entries:\n",
      "(Test) Mean Absolute Error: 635.398\n",
      "(Test) Mean Squared Error: 2276337.740\n"
     ]
    }
   ],
   "source": [
    "tr_mae, tr_mse, tr_nz_mae, tr_nz_mse, tr_pct_nonzeros = \\\n",
    "    util_eval.eval_mean(np.zeros(y_train[:,downtown_filter].shape), y_train[:,downtown_filter], 'Train', stdout=True)\n",
    "print()\n",
    "mae, mse, nz_mae, nz_mse, pct_nonzeros = \\\n",
    "    util_eval.eval_mean(np.zeros(y_test[:,downtown_filter].shape), y_test[:,downtown_filter], 'Test', stdout=True)"
   ]
  },
  {
   "cell_type": "code",
   "execution_count": 9,
   "metadata": {},
   "outputs": [],
   "source": [
    "with open(project_dir+\"results/\"+out_folder+out_folder,\"a\") as f:\n",
    "        f.write(\"%s,%s,%s,%d,%d,,%.2f,%.2f,,,,,,,%.2f,%.2f\\n\" % \n",
    "                (period, 'all zeros', 'downtown',\n",
    "                predict_hzn, time_size, \n",
    "                tr_mae, tr_mse, \n",
    "                mae, mse))"
   ]
  },
  {
   "cell_type": "markdown",
   "metadata": {},
   "source": [
    "# 2. Past Observations"
   ]
  },
  {
   "cell_type": "markdown",
   "metadata": {},
   "source": [
    "## 2.1 All Stations"
   ]
  },
  {
   "cell_type": "code",
   "execution_count": 10,
   "metadata": {},
   "outputs": [],
   "source": [
    "# get variance\n",
    "emp_std = []\n",
    "for t in df[df['train/test']==1].ts:\n",
    "    temp = int(t)\n",
    "    ref_list = []\n",
    "    while (temp>0) & (len(ref_list)<20):\n",
    "        temp = temp - 672\n",
    "        if int(temp) in ts:\n",
    "            if dates[dates.index==int(t//(96/time_size))].iloc[0]['holiday'] == dates[dates.index==int(temp//(96/time_size))].iloc[0]['holiday']:\n",
    "                ref_list.append(y[list(ts).index(int(temp)),:])\n",
    "    ref_list = np.array(ref_list)\n",
    "    emp_std.append(np.std(ref_list, axis=0))   \n",
    "emp_std = np.array(emp_std)"
   ]
  },
  {
   "cell_type": "code",
   "execution_count": 12,
   "metadata": {},
   "outputs": [
    {
     "name": "stdout",
     "output_type": "stream",
     "text": [
      "(Train) Mean Absolute Error: 37.526\n",
      "(Train) Mean Squared Error: 34192.487\n",
      "Percent Nonzeros: 99%\n",
      "Nonzero Entries:\n",
      "(Train) Mean Absolute Error: 37.466\n",
      "(Train) Mean Squared Error: 34245.349\n",
      "\n",
      "(Test) Mean Absolute Error: 23.694\n",
      "(Test) Mean Squared Error: 12065.078\n",
      "Percent Nonzeros: 99%\n",
      "Nonzero Entries:\n",
      "(Test) Mean Absolute Error: 23.612\n",
      "(Test) Mean Squared Error: 11962.270\n"
     ]
    }
   ],
   "source": [
    "tr_mae, tr_mse, tr_nz_mae, tr_nz_mse, tr_pct_nonzeros = \\\n",
    "    util_eval.eval_mean(np.squeeze(ref_train), y_train, 'Train', stdout=True)\n",
    "print()\n",
    "mae, mse, nz_mae, nz_mse, pct_nonzeros = \\\n",
    "    util_eval.eval_mean(np.squeeze(ref_test), y_test, 'Test', stdout=True)"
   ]
  },
  {
   "cell_type": "code",
   "execution_count": 13,
   "metadata": {},
   "outputs": [
    {
     "name": "stdout",
     "output_type": "stream",
     "text": [
      "(Train)\n",
      "Theil's U: 0.162730\n",
      "Bias: 0.000033\n",
      "Variance: 0.000061\n",
      "Covariance: 0.999906\n",
      "(Test)\n",
      "Theil's U: 0.095559\n",
      "Bias: 0.004778\n",
      "Variance: 0.094251\n",
      "Covariance: 0.900971\n"
     ]
    }
   ],
   "source": [
    "print('(Train)')\n",
    "tr_u, tr_ub, tr_uv, tr_uc = util_eval.eval_theils(np.squeeze(ref_train), y_train, stdout = True)\n",
    "print('(Test)')\n",
    "u, ub, uv, uc = util_eval.eval_theils(np.squeeze(ref_test), y_test, stdout = True)"
   ]
  },
  {
   "cell_type": "code",
   "execution_count": 14,
   "metadata": {},
   "outputs": [
    {
     "data": {
      "image/png": "[encoded data removed]",
      "text/plain": [
       "<Figure size 720x288 with 2 Axes>"
      ]
     },
     "metadata": {
      "needs_background": "light"
     },
     "output_type": "display_data"
    }
   ],
   "source": [
    "util_plot.plot_fit_res(y_test.flatten(), ref_test.flatten())"
   ]
  },
  {
   "cell_type": "code",
   "execution_count": 15,
   "metadata": {
    "scrolled": true
   },
   "outputs": [
    {
     "name": "stdout",
     "output_type": "stream",
     "text": [
      "(Test) Mean Prediction Interval: 168.27\n",
      "(Test) Coverage Probability: 0.8862\n"
     ]
    }
   ],
   "source": [
    "z = 1.96\n",
    "\n",
    "mpiw, picp = util_eval.eval_pi(np.squeeze(ref_test)-z*emp_std,np.squeeze(ref_test)+z*emp_std,y_test)\n",
    "print(\"(Test) Mean Prediction Interval: %.2f\"%(mpiw))\n",
    "print(\"(Test) Coverage Probability: %.4f\"%(picp))"
   ]
  },
  {
   "cell_type": "code",
   "execution_count": 16,
   "metadata": {},
   "outputs": [],
   "source": [
    "with open(project_dir+\"results/\"+out_folder+out_folder,\"a\") as f:\n",
    "        f.write(\"%s,%s,%s,%d,%d,,%.2f,%.2f,%.6f,%.6f,%.6f,%.6f,,,%.2f,%.2f,%.6f,%.6f,%.6f,%.6f,%.6f,%.6f\\n\" % \n",
    "                (period, 'last week', 'all',\n",
    "                predict_hzn, time_size, \n",
    "                tr_mae, tr_mse, tr_u, tr_ub, tr_uv, tr_uc, \n",
    "                mae, mse, u, ub, uv, uc, mpiw, picp))"
   ]
  },
  {
   "cell_type": "markdown",
   "metadata": {},
   "source": [
    "## 2.2 Downtown"
   ]
  },
  {
   "cell_type": "code",
   "execution_count": 11,
   "metadata": {
    "scrolled": true
   },
   "outputs": [
    {
     "name": "stdout",
     "output_type": "stream",
     "text": [
      "(Train) Mean Absolute Error: 113.439\n",
      "(Train) Mean Squared Error: 212344.145\n",
      "Percent Nonzeros: 99%\n",
      "Nonzero Entries:\n",
      "(Train) Mean Absolute Error: 113.632\n",
      "(Train) Mean Squared Error: 212884.236\n",
      "\n",
      "(Test) Mean Absolute Error: 71.821\n",
      "(Test) Mean Squared Error: 78945.209\n",
      "Percent Nonzeros: 100%\n",
      "Nonzero Entries:\n",
      "(Test) Mean Absolute Error: 71.821\n",
      "(Test) Mean Squared Error: 78945.209\n"
     ]
    }
   ],
   "source": [
    "tr_mae, tr_mse, tr_nz_mae, tr_nz_mse, tr_pct_nonzeros = \\\n",
    "    util_eval.eval_mean(ref_train[:, downtown_filter], y_train[:, downtown_filter], 'Train', stdout=True)\n",
    "print()\n",
    "mae, mse, nz_mae, nz_mse, pct_nonzeros = \\\n",
    "    util_eval.eval_mean(ref_test[:, downtown_filter], y_test[:, downtown_filter], 'Test', stdout=True)"
   ]
  },
  {
   "cell_type": "code",
   "execution_count": 12,
   "metadata": {},
   "outputs": [
    {
     "name": "stdout",
     "output_type": "stream",
     "text": [
      "(Train)\n",
      "Theil's U: 0.160111\n",
      "Bias: 0.000060\n",
      "Variance: 0.000049\n",
      "Covariance: 0.999891\n",
      "(Test)\n",
      "Theil's U: 0.096111\n",
      "Bias: 0.013075\n",
      "Variance: 0.099971\n",
      "Covariance: 0.886953\n"
     ]
    }
   ],
   "source": [
    "print(\"(Train)\")\n",
    "tr_u, tr_ub, tr_uv, tr_uc = util_eval.eval_theils(ref_train[:, downtown_filter], y_train[:, downtown_filter], stdout = True)\n",
    "print(\"(Test)\")\n",
    "u, ub, uv, uc = util_eval.eval_theils(ref_test[:, downtown_filter], y_test[:, downtown_filter], stdout = True)"
   ]
  },
  {
   "cell_type": "code",
   "execution_count": 19,
   "metadata": {},
   "outputs": [
    {
     "data": {
      "image/png": "[encoded data removed]",
      "text/plain": [
       "<Figure size 720x288 with 2 Axes>"
      ]
     },
     "metadata": {
      "needs_background": "light"
     },
     "output_type": "display_data"
    }
   ],
   "source": [
    "util_plot.plot_fit_res(ref_test[:, downtown_filter], y_test[:, downtown_filter])"
   ]
  },
  {
   "cell_type": "code",
   "execution_count": 20,
   "metadata": {},
   "outputs": [
    {
     "name": "stdout",
     "output_type": "stream",
     "text": [
      "(Test) Mean Prediction Interval: 517.46\n",
      "(Test) Coverage Probability: 0.8994\n"
     ]
    }
   ],
   "source": [
    "z = 1.96\n",
    "\n",
    "mpiw, picp = util_eval.eval_pi(ref_test[:, downtown_filter]-z*emp_std[:, downtown_filter],\n",
    "                               ref_test[:, downtown_filter]+z*emp_std[:, downtown_filter],\n",
    "                               y_test[:, downtown_filter])\n",
    "print(\"(Test) Mean Prediction Interval: %.2f\"%(mpiw))\n",
    "print(\"(Test) Coverage Probability: %.4f\"%(picp))"
   ]
  },
  {
   "cell_type": "code",
   "execution_count": 21,
   "metadata": {},
   "outputs": [],
   "source": [
    "with open(project_dir+\"results/\"+out_folder+out_folder,\"a\") as f:\n",
    "        f.write(\"%s,%s,%s,%d,%d,,%.2f,%.2f,%.6f,%.6f,%.6f,%.6f,,,%.2f,%.2f,%.6f,%.6f,%.6f,%.6f,%.6f,%.6f\\n\" % \n",
    "                (period, 'last week', 'downtown',\n",
    "                predict_hzn, time_size, \n",
    "                tr_mae, tr_mse, tr_u, tr_ub, tr_uv, tr_uc, \n",
    "                mae, mse, u, ub, uv, uc, mpiw, picp))"
   ]
  },
  {
   "cell_type": "markdown",
   "metadata": {},
   "source": [
    "# 3. Linear Regression"
   ]
  },
  {
   "cell_type": "code",
   "execution_count": 8,
   "metadata": {},
   "outputs": [],
   "source": [
    "from util_wls import WLS "
   ]
  },
  {
   "cell_type": "code",
   "execution_count": 9,
   "metadata": {},
   "outputs": [],
   "source": [
    "_,_,n_station,n_mode = x_train.shape\n",
    "\n",
    "ts_train_daily = (ts_train % (96//time_size))\n",
    "ntime = len(np.unique(ts_train_daily))\n",
    "ts_train_daily = np.repeat(ts_train_daily, n_station)\n",
    "ts_train_onehot = np.zeros((len(ts_train_daily), ts_train_daily.max()+1))\n",
    "ts_train_onehot[np.arange(ts_train_daily.size),ts_train_daily] = 1\n",
    "ts_train_onehot = ts_train_onehot[:, np.sum(ts_train_onehot, axis=0) != 0]\n",
    "assert ts_train_onehot.shape[1] == ntime\n",
    "\n",
    "ts_test_daily = (ts_test % (96//time_size))\n",
    "ts_test_daily = np.repeat(ts_test_daily, n_station)\n",
    "ts_test_onehot = np.zeros((len(ts_test_daily), ts_test_daily.max()+1))\n",
    "ts_test_onehot[np.arange(ts_test_daily.size),ts_test_daily] = 1\n",
    "ts_test_onehot = ts_test_onehot[:, np.sum(ts_test_onehot, axis=0) != 0]\n",
    "assert ts_test_onehot.shape[1] == ntime\n",
    "\n",
    "n_station = np.sum(downtown_filter)\n",
    "\n",
    "ts_train_daily = (ts_train % (96//time_size))\n",
    "ntime = len(np.unique(ts_train_daily))\n",
    "ts_train_daily = np.repeat(ts_train_daily, n_station)\n",
    "ts_train_onehot_dt = np.zeros((len(ts_train_daily), ts_train_daily.max()+1))\n",
    "ts_train_onehot_dt[np.arange(ts_train_daily.size),ts_train_daily] = 1\n",
    "ts_train_onehot_dt = ts_train_onehot_dt[:, np.sum(ts_train_onehot_dt, axis=0) != 0]\n",
    "assert ts_train_onehot_dt.shape[1] == ntime\n",
    "\n",
    "ts_test_daily = (ts_test % (96//time_size))\n",
    "ts_test_daily = np.repeat(ts_test_daily, n_station)\n",
    "ts_test_onehot_dt = np.zeros((len(ts_test_daily), ts_test_daily.max()+1))\n",
    "ts_test_onehot_dt[np.arange(ts_test_daily.size),ts_test_daily] = 1\n",
    "ts_test_onehot_dt = ts_test_onehot_dt[:, np.sum(ts_test_onehot_dt, axis=0) != 0]\n",
    "assert ts_test_onehot_dt.shape[1] == ntime"
   ]
  },
  {
   "cell_type": "markdown",
   "metadata": {},
   "source": [
    "## 3.1 Own History"
   ]
  },
  {
   "cell_type": "code",
   "execution_count": 25,
   "metadata": {},
   "outputs": [
    {
     "name": "stdout",
     "output_type": "stream",
     "text": [
      "All Stations:\n",
      "\n",
      "Sample Size (Train): 420224\n",
      "Number of Variables: 4\n",
      "\n",
      "(Train) Mean Absolute Error: 33.232\n",
      "(Train) Mean Squared Error: 15639.965\n",
      "Percent Nonzeros: 99%\n",
      "Nonzero Entries:\n",
      "(Train) Mean Absolute Error: 33.258\n",
      "(Train) Mean Squared Error: 15682.961\n",
      "\n",
      "(Test) Mean Absolute Error: 26.150\n",
      "(Test) Mean Squared Error: 6996.565\n",
      "Percent Nonzeros: 99%\n",
      "Nonzero Entries:\n",
      "(Test) Mean Absolute Error: 26.191\n",
      "(Test) Mean Squared Error: 7013.739\n",
      "(Train)\n",
      "Theil's U: 0.111596\n",
      "Bias: 0.000000\n",
      "Variance: 0.013927\n",
      "Covariance: 0.986073\n",
      "(Test)\n",
      "Theil's U: 0.072443\n",
      "Bias: 0.001506\n",
      "Variance: 0.126523\n",
      "Covariance: 0.871972\n",
      "\n",
      "(Test)\n",
      "Mean Prediction Interval: 4353.68\n",
      "Coverage Probability: 0.7444\n",
      "\n"
     ]
    }
   ],
   "source": [
    "print(\"All Stations:\\n\")\n",
    "ols_x_train = np.moveaxis(x_train[:,max_lookback-lookback:,:,0:1], 2, 1)\n",
    "ols_x_test = np.moveaxis(x_test[:,max_lookback-lookback:,:,0:1], 2, 1)\n",
    "WLS(ols_x_train, ols_x_test, [ref_train], [ref_test], y_train, y_test, model='1', extent='all')\n",
    "print()\n",
    "\"\"\"WLS(ols_x_train, ols_x_test, [ref_train], [ref_test], y_train, y_test, model='1', extent='all', \n",
    "    ts_train_onehot, ts_test_onehot, [4])\"\"\";"
   ]
  },
  {
   "cell_type": "code",
   "execution_count": 26,
   "metadata": {},
   "outputs": [
    {
     "name": "stdout",
     "output_type": "stream",
     "text": [
      "Downtown:\n",
      "\n",
      "Sample Size (Train): 56448\n",
      "Number of Variables: 4\n",
      "\n",
      "(Train) Mean Absolute Error: 94.603\n",
      "(Train) Mean Squared Error: 95834.642\n",
      "Percent Nonzeros: 99%\n",
      "Nonzero Entries:\n",
      "(Train) Mean Absolute Error: 94.765\n",
      "(Train) Mean Squared Error: 96077.618\n",
      "\n",
      "(Test) Mean Absolute Error: 72.749\n",
      "(Test) Mean Squared Error: 43092.301\n",
      "Percent Nonzeros: 100%\n",
      "Nonzero Entries:\n",
      "(Test) Mean Absolute Error: 72.749\n",
      "(Test) Mean Squared Error: 43092.301\n",
      "(Train)\n",
      "Theil's U: 0.109008\n",
      "Bias: 0.000000\n",
      "Variance: 0.014302\n",
      "Covariance: 0.985698\n",
      "(Test)\n",
      "Theil's U: 0.070573\n",
      "Bias: 0.005346\n",
      "Variance: 0.137434\n",
      "Covariance: 0.857220\n",
      "\n",
      "(Test)\n",
      "Mean Prediction Interval: 364.77\n",
      "Coverage Probability: 0.7489\n"
     ]
    }
   ],
   "source": [
    "print(\"Downtown:\\n\")\n",
    "ols_x_train = np.moveaxis(x_train[:,max_lookback-lookback:,downtown_filter,0:1], 2, 1)\n",
    "ols_x_test = np.moveaxis(x_test[:,max_lookback-lookback:,downtown_filter,0:1], 2, 1)\n",
    "WLS(ols_x_train, ols_x_test, \n",
    "    [ref_train[:, downtown_filter]], \n",
    "    [ref_test[:, downtown_filter]], \n",
    "    y_train[:, downtown_filter], y_test[:, downtown_filter],\n",
    "    model='1', extent='downtown');"
   ]
  },
  {
   "cell_type": "markdown",
   "metadata": {},
   "source": [
    "## 3.2 History of All Modes"
   ]
  },
  {
   "cell_type": "code",
   "execution_count": 27,
   "metadata": {},
   "outputs": [
    {
     "name": "stdout",
     "output_type": "stream",
     "text": [
      "All Stations: \n",
      "\n",
      "Sample Size (Train): 420224\n",
      "Number of Variables: 8\n",
      "\n",
      "(Train) Mean Absolute Error: 33.659\n",
      "(Train) Mean Squared Error: 15307.054\n",
      "Percent Nonzeros: 99%\n",
      "Nonzero Entries:\n",
      "(Train) Mean Absolute Error: 33.689\n",
      "(Train) Mean Squared Error: 15350.456\n",
      "\n",
      "(Test) Mean Absolute Error: 26.983\n",
      "(Test) Mean Squared Error: 7178.296\n",
      "Percent Nonzeros: 99%\n",
      "Nonzero Entries:\n",
      "(Test) Mean Absolute Error: 27.046\n",
      "(Test) Mean Squared Error: 7197.028\n",
      "(Train)\n",
      "Theil's U: 0.110372\n",
      "Bias: 0.000000\n",
      "Variance: 0.013623\n",
      "Covariance: 0.986377\n",
      "(Test)\n",
      "Theil's U: 0.073539\n",
      "Bias: 0.004190\n",
      "Variance: 0.139600\n",
      "Covariance: 0.856211\n",
      "\n",
      "(Test)\n",
      "Mean Prediction Interval: 4167.14\n",
      "Coverage Probability: 0.7392\n"
     ]
    }
   ],
   "source": [
    "print(\"All Stations: \\n\")\n",
    "ols_x_train = np.moveaxis(x_train[:,max_lookback-lookback:,:,:], 2, 1)\n",
    "ols_x_test = np.moveaxis(x_test[:,max_lookback-lookback:,:,:], 2, 1)\n",
    "WLS(ols_x_train, ols_x_test, \n",
    "    [ref_train], [ref_test], \n",
    "    y_train, y_test, \n",
    "    model='2', extent='all');"
   ]
  },
  {
   "cell_type": "code",
   "execution_count": 10,
   "metadata": {},
   "outputs": [
    {
     "name": "stdout",
     "output_type": "stream",
     "text": [
      "Downtown:\n",
      "\n",
      "Sample Size (Train): 56448\n",
      "Number of Variables: 8\n",
      "\n",
      "(Train) Mean Absolute Error: 99.048\n",
      "(Train) Mean Squared Error: 93249.416\n",
      "Percent Nonzeros: 99%\n",
      "Nonzero Entries:\n",
      "(Train) Mean Absolute Error: 99.201\n",
      "(Train) Mean Squared Error: 93473.358\n",
      "(Test) Mean Absolute Error: 78.354\n",
      "(Test) Mean Squared Error: 44667.709\n",
      "Percent Nonzeros: 100%\n",
      "Nonzero Entries:\n",
      "(Test) Mean Absolute Error: 78.354\n",
      "(Test) Mean Squared Error: 44667.709\n",
      "(Train)\n",
      "Theil's U: 0.107492\n",
      "Bias: 0.000000\n",
      "Variance: 0.013905\n",
      "Covariance: 0.986095\n",
      "(Test)\n",
      "Theil's U: 0.072049\n",
      "Bias: 0.018434\n",
      "Variance: 0.141270\n",
      "Covariance: 0.840296\n",
      "\n",
      "(Train)\n",
      "Mean Prediction Interval: 390.61\n",
      "Coverage Probability: 0.6991\n",
      "\n",
      "(Test)\n",
      "Mean Prediction Interval: 330.07\n",
      "Coverage Probability: 0.7410\n"
     ]
    }
   ],
   "source": [
    "print(\"Downtown:\\n\")\n",
    "ols_x_train = np.moveaxis(x_train[:,max_lookback-lookback:,downtown_filter,:], 2, 1)\n",
    "ols_x_test = np.moveaxis(x_test[:,max_lookback-lookback:,downtown_filter,:], 2, 1)\n",
    "ols_y_test_predict, _,_ = WLS(ols_x_train, ols_x_test, \n",
    "    [ref_train[:, downtown_filter]], \n",
    "    [ref_test[:, downtown_filter]], \n",
    "    y_train[:, downtown_filter], y_test[:, downtown_filter],     \n",
    "    model='2', extent='downtown');"
   ]
  },
  {
   "cell_type": "code",
   "execution_count": 16,
   "metadata": {},
   "outputs": [
    {
     "data": {
      "text/plain": [
       "(3150,)"
      ]
     },
     "execution_count": 16,
     "metadata": {},
     "output_type": "execute_result"
    }
   ],
   "source": [
    "ols_y_test_predict.shape"
   ]
  },
  {
   "cell_type": "code",
   "execution_count": 34,
   "metadata": {},
   "outputs": [
    {
     "data": {
      "image/png": "[encoded data removed]",
      "text/plain": [
       "<Figure size 720x288 with 2 Axes>"
      ]
     },
     "metadata": {
      "needs_background": "light"
     },
     "output_type": "display_data"
    }
   ],
   "source": [
    "util_plot.plot_fit_res(y_test[:, downtown_filter].flatten(), ols_y_test_predict)"
   ]
  },
  {
   "cell_type": "code",
   "execution_count": 35,
   "metadata": {},
   "outputs": [
    {
     "data": {
      "image/png": "[encoded data removed]",
      "text/plain": [
       "<Figure size 720x288 with 2 Axes>"
      ]
     },
     "metadata": {
      "needs_background": "light"
     },
     "output_type": "display_data"
    }
   ],
   "source": [
    "util_plot.plot_fit_res(y_test[:, downtown_filter].flatten(), ols_y_test_predict)"
   ]
  },
  {
   "cell_type": "markdown",
   "metadata": {},
   "source": [
    "## 3.3 +LOS"
   ]
  },
  {
   "cell_type": "code",
   "execution_count": 29,
   "metadata": {
    "scrolled": false
   },
   "outputs": [
    {
     "name": "stdout",
     "output_type": "stream",
     "text": [
      "All Stations: \n",
      "\n",
      "Sample Size (Train): 420224\n",
      "Number of Variables: 9\n",
      "\n",
      "(Train) Mean Absolute Error: 34.662\n",
      "(Train) Mean Squared Error: 14899.126\n",
      "Percent Nonzeros: 99%\n",
      "Nonzero Entries:\n",
      "(Train) Mean Absolute Error: 34.529\n",
      "(Train) Mean Squared Error: 14918.367\n",
      "\n",
      "(Test) Mean Absolute Error: 27.645\n",
      "(Test) Mean Squared Error: 7168.364\n",
      "Percent Nonzeros: 99%\n",
      "Nonzero Entries:\n",
      "(Test) Mean Absolute Error: 27.543\n",
      "(Test) Mean Squared Error: 7166.805\n",
      "(Train)\n",
      "Theil's U: 0.108856\n",
      "Bias: 0.000000\n",
      "Variance: 0.013250\n",
      "Covariance: 0.986750\n",
      "(Test)\n",
      "Theil's U: 0.073504\n",
      "Bias: 0.004210\n",
      "Variance: 0.142141\n",
      "Covariance: 0.853649\n",
      "\n",
      "(Test)\n",
      "Mean Prediction Interval: 1996.30\n",
      "Coverage Probability: 0.7435\n"
     ]
    }
   ],
   "source": [
    "print(\"All Stations: \\n\")\n",
    "ols_x_train = np.moveaxis(x_train[:,max_lookback-lookback:,:,:], 2, 1)\n",
    "ols_x_test = np.moveaxis(x_test[:,max_lookback-lookback:,:,:], 2, 1)\n",
    "WLS(ols_x_train, ols_x_test, [ref_train, los_train], [ref_test, los_test], y_train, y_test, model='3', extent='all');\n",
    "#print(\"\\nTime specific LOS Coefs\\n\")\n",
    "#WLS(ols_x_train, ols_x_test, [ref_train, los_train], [ref_test, los_test], y_train, y_test, model='3+', extent='all', \n",
    "#    ts_train_onehot=ts_train_onehot, ts_test_onehot=ts_test_onehot, time_specific_coefs=[lookback*n_mode+1])\n"
   ]
  },
  {
   "cell_type": "code",
   "execution_count": 30,
   "metadata": {
    "scrolled": false
   },
   "outputs": [
    {
     "name": "stdout",
     "output_type": "stream",
     "text": [
      "Downtown:\n",
      "\n",
      "Sample Size (Train): 56448\n",
      "Number of Variables: 9\n",
      "\n",
      "(Train) Mean Absolute Error: 100.358\n",
      "(Train) Mean Squared Error: 89727.723\n",
      "Percent Nonzeros: 99%\n",
      "Nonzero Entries:\n",
      "(Train) Mean Absolute Error: 100.088\n",
      "(Train) Mean Squared Error: 89798.428\n",
      "\n",
      "(Test) Mean Absolute Error: 77.182\n",
      "(Test) Mean Squared Error: 44721.823\n",
      "Percent Nonzeros: 100%\n",
      "Nonzero Entries:\n",
      "(Test) Mean Absolute Error: 77.182\n",
      "(Test) Mean Squared Error: 44721.823\n",
      "(Train)\n",
      "Theil's U: 0.105397\n",
      "Bias: 0.000000\n",
      "Variance: 0.013366\n",
      "Covariance: 0.986634\n",
      "(Test)\n",
      "Theil's U: 0.072110\n",
      "Bias: 0.016369\n",
      "Variance: 0.146758\n",
      "Covariance: 0.836873\n",
      "\n",
      "(Test)\n",
      "Mean Prediction Interval: 311.91\n",
      "Coverage Probability: 0.7479\n"
     ]
    }
   ],
   "source": [
    "print(\"Downtown:\\n\")\n",
    "ols_x_train = np.moveaxis(x_train[:,max_lookback-lookback:,downtown_filter,:], 2, 1)\n",
    "ols_x_test = np.moveaxis(x_test[:,max_lookback-lookback:,downtown_filter,:], 2, 1)\n",
    "WLS(ols_x_train, ols_x_test, [ref_train[:, downtown_filter], los_train[:, downtown_filter]], \n",
    "    [ref_test[:, downtown_filter], los_test[:, downtown_filter]], \n",
    "    y_train[:, downtown_filter], y_test[:, downtown_filter],\n",
    "    model='3', extent='downtown');\n",
    "'''\n",
    "WLS(ols_x_train, ols_x_test, [ref_train[:, downtown_filter], los_train[:, downtown_filter]], \n",
    "    [ref_test[:, downtown_filter], los_test[:, downtown_filter]], \n",
    "    y_train[:, downtown_filter], y_test[:, downtown_filter],\n",
    "    model='3+', extent='downtown',\n",
    "    ts_train_onehot=ts_train_onehot_dt, ts_test_onehot=ts_test_onehot_dt, time_specific_coefs=[lookback*n_mode+1])\n",
    "''';"
   ]
  },
  {
   "cell_type": "markdown",
   "metadata": {},
   "source": [
    "## 3.4 +demo"
   ]
  },
  {
   "cell_type": "code",
   "execution_count": 31,
   "metadata": {},
   "outputs": [
    {
     "name": "stdout",
     "output_type": "stream",
     "text": [
      "All Stations: \n",
      "\n",
      "Sample Size (Train): 420224\n",
      "Number of Variables: 19\n",
      "\n",
      "(Train) Mean Absolute Error: 34.709\n",
      "(Train) Mean Squared Error: 14871.931\n",
      "Percent Nonzeros: 99%\n",
      "Nonzero Entries:\n",
      "(Train) Mean Absolute Error: 34.577\n",
      "(Train) Mean Squared Error: 14891.712\n",
      "\n",
      "(Test) Mean Absolute Error: 27.480\n",
      "(Test) Mean Squared Error: 7160.848\n",
      "Percent Nonzeros: 99%\n",
      "Nonzero Entries:\n",
      "(Test) Mean Absolute Error: 27.379\n",
      "(Test) Mean Squared Error: 7159.893\n",
      "(Train)\n",
      "Theil's U: 0.108754\n",
      "Bias: 0.000000\n",
      "Variance: 0.013225\n",
      "Covariance: 0.986775\n",
      "(Test)\n",
      "Theil's U: 0.073463\n",
      "Bias: 0.004221\n",
      "Variance: 0.141812\n",
      "Covariance: 0.853967\n",
      "\n",
      "(Test)\n",
      "Mean Prediction Interval: 163.81\n",
      "Coverage Probability: 0.7466\n"
     ]
    }
   ],
   "source": [
    "print(\"All Stations: \\n\")\n",
    "ols_x_train = np.moveaxis(x_train[:,max_lookback-lookback:,:,:], 2, 1)\n",
    "ols_x_test = np.moveaxis(x_test[:,max_lookback-lookback:,:,:], 2, 1)\n",
    "spatial_train = np.tile(spatial[np.newaxis,:,:], (len(ols_x_train),1,1))\n",
    "spatial_test = np.tile(spatial[np.newaxis,:,:], (len(ols_x_test),1,1))\n",
    "WLS(ols_x_train, ols_x_test, [ref_train, los_train, spatial_train], [ref_test, los_test, spatial_test], \n",
    "    y_train, y_test,\n",
    "    model='4', extent='all');\n"
   ]
  },
  {
   "cell_type": "code",
   "execution_count": 32,
   "metadata": {},
   "outputs": [
    {
     "name": "stdout",
     "output_type": "stream",
     "text": [
      "Downtown: \n",
      "\n",
      "Sample Size (Train): 56448\n",
      "Number of Variables: 19\n",
      "\n",
      "(Train) Mean Absolute Error: 100.457\n",
      "(Train) Mean Squared Error: 89522.780\n",
      "Percent Nonzeros: 99%\n",
      "Nonzero Entries:\n",
      "(Train) Mean Absolute Error: 100.182\n",
      "(Train) Mean Squared Error: 89589.717\n",
      "\n",
      "(Test) Mean Absolute Error: 77.371\n",
      "(Test) Mean Squared Error: 44699.528\n",
      "Percent Nonzeros: 100%\n",
      "Nonzero Entries:\n",
      "(Test) Mean Absolute Error: 77.371\n",
      "(Test) Mean Squared Error: 44699.528\n",
      "(Train)\n",
      "Theil's U: 0.105273\n",
      "Bias: 0.000000\n",
      "Variance: 0.013334\n",
      "Covariance: 0.986666\n",
      "(Test)\n",
      "Theil's U: 0.072091\n",
      "Bias: 0.016511\n",
      "Variance: 0.146419\n",
      "Covariance: 0.837070\n",
      "\n",
      "(Test)\n",
      "Mean Prediction Interval: 244.60\n",
      "Coverage Probability: 0.7429\n"
     ]
    }
   ],
   "source": [
    "print(\"Downtown: \\n\")\n",
    "ols_x_train = np.moveaxis(x_train[:,max_lookback-lookback:,downtown_filter,:], 2, 1)\n",
    "ols_x_test = np.moveaxis(x_test[:,max_lookback-lookback:,downtown_filter,:], 2, 1)\n",
    "spatial_train = np.tile(spatial[np.newaxis,downtown_filter,:], (len(ols_x_train),1,1))\n",
    "spatial_test = np.tile(spatial[np.newaxis,downtown_filter,:], (len(ols_x_test),1,1))\n",
    "WLS(ols_x_train, ols_x_test, [ref_train[:, downtown_filter], los_train[:, downtown_filter], spatial_train], \n",
    "    [ref_test[:, downtown_filter], los_test[:, downtown_filter], spatial_test], \n",
    "    y_train[:, downtown_filter], y_test[:, downtown_filter],\n",
    "    model='4', extent='downtown');"
   ]
  },
  {
   "cell_type": "markdown",
   "metadata": {},
   "source": [
    "## 3.4 + Weather"
   ]
  },
  {
   "cell_type": "code",
   "execution_count": 33,
   "metadata": {},
   "outputs": [
    {
     "name": "stdout",
     "output_type": "stream",
     "text": [
      "All Stations: \n",
      "\n",
      "Sample Size (Train): 420224\n",
      "Number of Variables: 21\n",
      "\n",
      "(Train) Mean Absolute Error: 34.735\n",
      "(Train) Mean Squared Error: 14866.903\n",
      "Percent Nonzeros: 99%\n",
      "Nonzero Entries:\n",
      "(Train) Mean Absolute Error: 34.602\n",
      "(Train) Mean Squared Error: 14886.447\n",
      "\n",
      "(Test) Mean Absolute Error: 27.522\n",
      "(Test) Mean Squared Error: 7176.235\n",
      "Percent Nonzeros: 99%\n",
      "Nonzero Entries:\n",
      "(Test) Mean Absolute Error: 27.421\n",
      "(Test) Mean Squared Error: 7175.114\n",
      "(Train)\n",
      "Theil's U: 0.108735\n",
      "Bias: 0.000000\n",
      "Variance: 0.013220\n",
      "Covariance: 0.986780\n",
      "(Test)\n",
      "Theil's U: 0.073565\n",
      "Bias: 0.005854\n",
      "Variance: 0.141906\n",
      "Covariance: 0.852240\n",
      "\n",
      "(Test)\n",
      "Mean Prediction Interval: 161.09\n",
      "Coverage Probability: 0.7383\n"
     ]
    }
   ],
   "source": [
    "print(\"All Stations: \\n\")\n",
    "_,_,n_station,_ = x_train.shape\n",
    "ols_x_train = np.moveaxis(x_train[:,max_lookback-lookback:,:,:], 2, 1)\n",
    "ols_x_test = np.moveaxis(x_test[:,max_lookback-lookback:,:,:], 2, 1)\n",
    "ols_weather_train = np.tile(weather_train[:,np.newaxis,:], (1,n_station,1))\n",
    "ols_weather_test = np.tile(weather_test[:,np.newaxis,:], (1,n_station,1))\n",
    "spatial_train = np.tile(spatial[np.newaxis,:,:], (len(ols_x_train),1,1))\n",
    "spatial_test = np.tile(spatial[np.newaxis,:,:], (len(ols_x_test),1,1))\n",
    "\n",
    "WLS(ols_x_train, ols_x_test, [ref_train, los_train, spatial_train, ols_weather_train], \n",
    "    [ref_test, los_test, spatial_test, ols_weather_test], y_train, y_test,\n",
    "    model='5', extent='all');"
   ]
  },
  {
   "cell_type": "code",
   "execution_count": 34,
   "metadata": {},
   "outputs": [
    {
     "name": "stdout",
     "output_type": "stream",
     "text": [
      "Downtown:\n",
      "\n",
      "Sample Size (Train): 56448\n",
      "Number of Variables: 21\n",
      "\n",
      "(Train) Mean Absolute Error: 100.744\n",
      "(Train) Mean Squared Error: 89435.022\n",
      "Percent Nonzeros: 99%\n",
      "Nonzero Entries:\n",
      "(Train) Mean Absolute Error: 100.467\n",
      "(Train) Mean Squared Error: 89501.895\n",
      "\n",
      "(Test) Mean Absolute Error: 77.938\n",
      "(Test) Mean Squared Error: 44933.527\n",
      "Percent Nonzeros: 100%\n",
      "Nonzero Entries:\n",
      "(Test) Mean Absolute Error: 77.938\n",
      "(Test) Mean Squared Error: 44933.527\n",
      "(Train)\n",
      "Theil's U: 0.105221\n",
      "Bias: 0.000000\n",
      "Variance: 0.013321\n",
      "Covariance: 0.986679\n",
      "(Test)\n",
      "Theil's U: 0.072324\n",
      "Bias: 0.021128\n",
      "Variance: 0.146604\n",
      "Covariance: 0.832268\n",
      "\n",
      "(Test)\n",
      "Mean Prediction Interval: 238.87\n",
      "Coverage Probability: 0.7356\n"
     ]
    }
   ],
   "source": [
    "print(\"Downtown:\\n\")\n",
    "n_station = np.sum(downtown_filter)\n",
    "ols_x_train = np.moveaxis(x_train[:,max_lookback-lookback:,downtown_filter,:], 2, 1)\n",
    "ols_x_test = np.moveaxis(x_test[:,max_lookback-lookback:,downtown_filter,:], 2, 1)\n",
    "ols_weather_train = np.tile(weather_train[:,np.newaxis,:], (1,n_station,1))\n",
    "ols_weather_test = np.tile(weather_test[:,np.newaxis,:], (1,n_station,1))\n",
    "spatial_train = np.tile(spatial[np.newaxis,downtown_filter,:], (len(ols_x_train),1,1))\n",
    "spatial_test = np.tile(spatial[np.newaxis,downtown_filter,:], (len(ols_x_test),1,1))\n",
    "\n",
    "ols_pred_test, ols_pred_std_test = WLS(ols_x_train, ols_x_test, \n",
    "    [ref_train[:, downtown_filter], los_train[:, downtown_filter], spatial_train, ols_weather_train], \n",
    "    [ref_test[:, downtown_filter], los_test[:, downtown_filter], spatial_test, ols_weather_test], \n",
    "    y_train[:, downtown_filter], y_test[:, downtown_filter],\n",
    "    model='5', extent='downtown');"
   ]
  },
  {
   "cell_type": "code",
   "execution_count": 35,
   "metadata": {},
   "outputs": [],
   "source": [
    "with open(project_dir+'results/'+out_folder+'/'+period+'_dt_benchmark.pkl', 'wb') as f:\n",
    "    pkl.dump(ref_test[:, downtown_filter], f)\n",
    "    pkl.dump(emp_std[:, downtown_filter], f)\n",
    "    pkl.dump(ols_pred_test.reshape(emp_std[:,downtown_filter].shape), f)\n",
    "    pkl.dump(ols_pred_std_test.reshape(emp_std[:,downtown_filter].shape), f)"
   ]
  },
  {
   "cell_type": "code",
   "execution_count": null,
   "metadata": {},
   "outputs": [],
   "source": []
  },
  {
   "cell_type": "code",
   "execution_count": null,
   "metadata": {},
   "outputs": [],
   "source": []
  }
 ],
 "metadata": {
  "kernelspec": {
   "display_name": "Python 3",
   "language": "python",
   "name": "python3"
  },
  "language_info": {
   "codemirror_mode": {
    "name": "ipython",
    "version": 3
   },
   "file_extension": ".py",
   "mimetype": "text/x-python",
   "name": "python",
   "nbconvert_exporter": "python",
   "pygments_lexer": "ipython3",
   "version": "3.7.11"
  },
  "varInspector": {
   "cols": {
    "lenName": 16,
    "lenType": 16,
    "lenVar": 40
   },
   "kernels_config": {
    "python": {
     "delete_cmd_postfix": "",
     "delete_cmd_prefix": "del ",
     "library": "var_list.py",
     "varRefreshCmd": "print(var_dic_list())"
    },
    "r": {
     "delete_cmd_postfix": ") ",
     "delete_cmd_prefix": "rm(",
     "library": "var_list.r",
     "varRefreshCmd": "cat(var_dic_list()) "
    }
   },
   "types_to_exclude": [
    "module",
    "function",
    "builtin_function_or_method",
    "instance",
    "_Feature"
   ],
   "window_display": false
  }
 },
 "nbformat": 4,
 "nbformat_minor": 2
}
