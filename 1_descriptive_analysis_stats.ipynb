{
 "cells": [
  {
   "cell_type": "markdown",
   "metadata": {},
   "source": [
    "### Read the input files to do some descriptive analysis and visualization"
   ]
  },
  {
   "cell_type": "code",
   "execution_count": 1,
   "metadata": {},
   "outputs": [],
   "source": [
    "import sys\n",
    "sys.path.append('eval/')\n",
    "sys.path.append('models/')\n",
    "sys.path.append('process_data/')\n",
    "\n",
    "import datetime \n",
    "import geopandas as gpd\n",
    "# import geoplot as gplt\n",
    "# import geoplot.crs as gcrs\n",
    "# import mapclassify as mc\n",
    "from matplotlib.patches import Rectangle\n",
    "import matplotlib.pyplot as plt\n",
    "import numpy as np\n",
    "import pandas as pd\n",
    "import pickle as pkl\n",
    "from pyproj import CRS\n",
    "\n",
    "import util_data\n",
    "import util_plot\n",
    "import util_gcnn\n",
    "from setup import *\n",
    "\n",
    "%matplotlib inline\n",
    "plt.rcParams.update({'font.size': 10})\n",
    "# contiguous_usa = gpd.read_file(gplt.datasets.get_path('contiguous_usa'))\n"
   ]
  },
  {
   "cell_type": "code",
   "execution_count": 2,
   "metadata": {},
   "outputs": [],
   "source": [
    "trainst = '190801'\n",
    "trained = '200301'\n",
    "testst = '200302'\n",
    "tested = '200315'"
   ]
  },
  {
   "cell_type": "code",
   "execution_count": 6,
   "metadata": {},
   "outputs": [],
   "source": [
    "dataset = 'rail_catchment'"
   ]
  },
  {
   "cell_type": "code",
   "execution_count": 7,
   "metadata": {
    "scrolled": false
   },
   "outputs": [],
   "source": [
    "data, adj, spatial, downtown_filter = util_data.combine_datasources(project_dir, \n",
    "                                    trainst, trained, testst, tested, \n",
    "                                    predict_hzn=1, time_size=1, difference=True, max_lookback=6, lookback=6, dataset=dataset)"
   ]
  },
  {
   "cell_type": "code",
   "execution_count": 8,
   "metadata": {},
   "outputs": [],
   "source": [
    "from esda.moran import Moran\n",
    "import libpysal"
   ]
  },
  {
   "cell_type": "code",
   "execution_count": 12,
   "metadata": {},
   "outputs": [],
   "source": [
    "adj = pd.read_csv(project_dir+\"data/data_processed/\"+dataset+\"/other/adjlist.csv\")\n",
    "\n",
    "if dataset == 'rail_catchment':\n",
    "    adjcol = 'id'\n",
    "    adj_ = adj[(~adj['start_id'].isin([240,290,310,600,820,890,1050,1270])&(~adj['end_id'].isin([240,290,310,600,820,890,1050,1270])))]\n",
    "    func_filter = ~np.isin(data['stations'],[240,290,310,600,820,890,1050,1270])\n",
    "    \n",
    "elif dataset == 'census_tract':\n",
    "    adjcol = 'tract'\n",
    "    func_filter = ~np.isin(data['stations'],['17_31_32100','17_31_836200','17_31_980000','17_31_980100'])\n",
    "    with open(project_dir+\"data/data_processed/select_tracts.pkl\", \"rb\") as f:\n",
    "        keep_tracts = pkl.load(f)\n",
    "    adj = adj[(adj['start_'+adjcol].isin(keep_tracts))&(adj['end_'+adjcol].isin(keep_tracts))]\n",
    "    adj_ = adj[(~adj['start_'+adjcol].isin(['17_31_32100','17_31_836200','17_31_980000','17_31_980100'])&\\\n",
    "                (~adj['end_'+adjcol].isin(['17_31_32100','17_31_836200','17_31_980000','17_31_980100'])))]\n",
    "\n",
    "w = {}\n",
    "for i in ['con', 'net', 'euc','func']:\n",
    "    if i in adj.columns:\n",
    "        w[i] = libpysal.weights.W.from_adjlist(adj_,focal_col='start_'+adjcol,neighbor_col='end_'+adjcol,weight_col=i)\n",
    "    else:\n",
    "#             print(i, \"not available. Skipped...\")\n",
    "        pass\n"
   ]
  },
  {
   "cell_type": "code",
   "execution_count": 13,
   "metadata": {},
   "outputs": [],
   "source": [
    "m = {'euc':[], 'net':[], 'func':[], 'con':[]}\n",
    "for i in range(len(data['y'][0])):\n",
    "    for adj in w.keys():\n",
    "        mi = Moran(data['y'][0].squeeze()[i][func_filter], w[adj])\n",
    "        m[adj].append(mi.I)"
   ]
  },
  {
   "cell_type": "code",
   "execution_count": 46,
   "metadata": {},
   "outputs": [
    {
     "data": {
      "text/plain": [
       "Text(0, 0.5, 'Density')"
      ]
     },
     "execution_count": 46,
     "metadata": {},
     "output_type": "execute_result"
    },
    {
     "data": {
      "image/png": "[encoded data removed]",
      "text/plain": [
       "<Figure size 144x144 with 1 Axes>"
      ]
     },
     "metadata": {
      "needs_background": "light"
     },
     "output_type": "display_data"
    }
   ],
   "source": [
    "# TNC\n",
    "plt.figure(figsize=(2,2))\n",
    "for adj in ['euc','net','func','con']:\n",
    "    if m[adj] != []:\n",
    "        plt.hist(m[adj], bins = np.linspace(0,1,20), density=True, alpha=0.5, label=adj)\n",
    "plt.legend()\n",
    "plt.xlim([0,1])\n",
    "plt.ylabel(\"Density\")"
   ]
  },
  {
   "cell_type": "code",
   "execution_count": 14,
   "metadata": {},
   "outputs": [
    {
     "data": {
      "text/plain": [
       "Text(0, 0.5, 'Density')"
      ]
     },
     "execution_count": 14,
     "metadata": {},
     "output_type": "execute_result"
    },
    {
     "data": {
      "image/png": "[encoded data removed]",
      "text/plain": [
       "<Figure size 144x144 with 1 Axes>"
      ]
     },
     "metadata": {
      "needs_background": "light"
     },
     "output_type": "display_data"
    }
   ],
   "source": [
    "# Rail\n",
    "plt.figure(figsize=(2,2))\n",
    "for adj in ['euc','func','con','net']:\n",
    "    plt.hist(m[adj], bins = np.linspace(0,1,20), density=True, alpha=0.5, label=adj)\n",
    "plt.legend()\n",
    "plt.xlim([0,1])\n",
    "plt.ylabel(\"Density\")"
   ]
  },
  {
   "cell_type": "code",
   "execution_count": 1,
   "metadata": {},
   "outputs": [],
   "source": [
    "from statsmodels.graphics.tsaplots import plot_acf, plot_pacf\n"
   ]
  },
  {
   "cell_type": "code",
   "execution_count": 10,
   "metadata": {},
   "outputs": [
    {
     "data": {
      "image/png": "[encoded data removed]",
      "text/plain": [
       "<Figure size 504x144 with 1 Axes>"
      ]
     },
     "metadata": {
      "needs_background": "light"
     },
     "output_type": "display_data"
    }
   ],
   "source": [
    "fig, ax = plt.subplots(figsize=(7,2))\n",
    "for s in [0,30,60,90,120]:\n",
    "    plot_acf(data['y'][0].squeeze()[:,s], ax=ax, lags=20, markersize=3,auto_ylims=True)"
   ]
  },
  {
   "cell_type": "code",
   "execution_count": 11,
   "metadata": {},
   "outputs": [
    {
     "name": "stderr",
     "output_type": "stream",
     "text": [
      "/home/jtl/anaconda3/envs/qingyi/lib/python3.8/site-packages/statsmodels/graphics/tsaplots.py:348: FutureWarning: The default method 'yw' can produce PACF values outside of the [-1,1] interval. After 0.13, the default will change tounadjusted Yule-Walker ('ywm'). You can use this method now by setting method='ywm'.\n",
      "  warnings.warn(\n",
      "/home/jtl/anaconda3/envs/qingyi/lib/python3.8/site-packages/statsmodels/graphics/tsaplots.py:348: FutureWarning: The default method 'yw' can produce PACF values outside of the [-1,1] interval. After 0.13, the default will change tounadjusted Yule-Walker ('ywm'). You can use this method now by setting method='ywm'.\n",
      "  warnings.warn(\n",
      "/home/jtl/anaconda3/envs/qingyi/lib/python3.8/site-packages/statsmodels/graphics/tsaplots.py:348: FutureWarning: The default method 'yw' can produce PACF values outside of the [-1,1] interval. After 0.13, the default will change tounadjusted Yule-Walker ('ywm'). You can use this method now by setting method='ywm'.\n",
      "  warnings.warn(\n",
      "/home/jtl/anaconda3/envs/qingyi/lib/python3.8/site-packages/statsmodels/graphics/tsaplots.py:348: FutureWarning: The default method 'yw' can produce PACF values outside of the [-1,1] interval. After 0.13, the default will change tounadjusted Yule-Walker ('ywm'). You can use this method now by setting method='ywm'.\n",
      "  warnings.warn(\n",
      "/home/jtl/anaconda3/envs/qingyi/lib/python3.8/site-packages/statsmodels/graphics/tsaplots.py:348: FutureWarning: The default method 'yw' can produce PACF values outside of the [-1,1] interval. After 0.13, the default will change tounadjusted Yule-Walker ('ywm'). You can use this method now by setting method='ywm'.\n",
      "  warnings.warn(\n"
     ]
    },
    {
     "data": {
      "image/png": "[encoded data removed]",
      "text/plain": [
       "<Figure size 504x144 with 1 Axes>"
      ]
     },
     "metadata": {
      "needs_background": "light"
     },
     "output_type": "display_data"
    }
   ],
   "source": [
    "fig, ax = plt.subplots(figsize=(7,2))\n",
    "for s in [0,30,60,90,120]:\n",
    "    plot_pacf(data['y'][0].squeeze()[:,s], ax=ax, lags=20, markersize=3,auto_ylims=True)"
   ]
  },
  {
   "cell_type": "code",
   "execution_count": null,
   "metadata": {},
   "outputs": [],
   "source": []
  }
 ],
 "metadata": {
  "kernelspec": {
   "display_name": "qingyi",
   "language": "python",
   "name": "qingyi"
  },
  "language_info": {
   "codemirror_mode": {
    "name": "ipython",
    "version": 3
   },
   "file_extension": ".py",
   "mimetype": "text/x-python",
   "name": "python",
   "nbconvert_exporter": "python",
   "pygments_lexer": "ipython3",
   "version": "3.8.3"
  },
  "varInspector": {
   "cols": {
    "lenName": 16,
    "lenType": 16,
    "lenVar": 40
   },
   "kernels_config": {
    "python": {
     "delete_cmd_postfix": "",
     "delete_cmd_prefix": "del ",
     "library": "var_list.py",
     "varRefreshCmd": "print(var_dic_list())"
    },
    "r": {
     "delete_cmd_postfix": ") ",
     "delete_cmd_prefix": "rm(",
     "library": "var_list.r",
     "varRefreshCmd": "cat(var_dic_list()) "
    }
   },
   "types_to_exclude": [
    "module",
    "function",
    "builtin_function_or_method",
    "instance",
    "_Feature"
   ],
   "window_display": false
  }
 },
 "nbformat": 4,
 "nbformat_minor": 2
}
