{
 "cells": [
  {
   "cell_type": "code",
   "execution_count": 2,
   "metadata": {},
   "outputs": [
    {
     "name": "stdout",
     "output_type": "stream",
     "text": [
      "The autoreload extension is already loaded. To reload it, use:\n",
      "  %reload_ext autoreload\n"
     ]
    }
   ],
   "source": [
    "import sys\n",
    "sys.path.append('models/')\n",
    "sys.path.append('eval/')\n",
    "\n",
    "import glob\n",
    "import itertools\n",
    "import matplotlib\n",
    "import matplotlib.pyplot as plt\n",
    "%matplotlib inline\n",
    "import numpy as np\n",
    "import pandas as pd\n",
    "import pickle as pkl\n",
    "import torch\n",
    "from scipy.stats import poisson, norm, laplace, lognorm\n",
    "\n",
    "from class_mve_loss import MVELoss\n",
    "from default_parameters import *\n",
    "import util_eval\n",
    "import util_gcnn, util_gat\n",
    "import util_plot\n",
    "from setup import *\n",
    "\n",
    "%load_ext autoreload\n",
    "%autoreload 2\n",
    "plt.rcParams.update({'font.size': 10})"
   ]
  },
  {
   "cell_type": "code",
   "execution_count": 3,
   "metadata": {},
   "outputs": [],
   "source": [
    "colors = {\"laplace\":\"cornflowerblue\", \"tnorm\":\"mediumseagreen\", \"norm\":\"salmon\", \"poisson\":\"plum\", \n",
    "          \"norm_ens\": \"peru\", \"norm_homo\":\"gray\"}\n",
    "colors2 = {\"laplace\":\"navy\", \"tnorm\":\"darkgreen\", \"norm\":\"red\", \"poisson\":\"purple\", \n",
    "          \"norm_ens\": \"saddlebrown\", \"norm_homo\":\"darkslategray\"}\n",
    "label = {\"laplace\":\"LAP\", \"tnorm\":\"TG\", \"norm\":\"G\", \"poisson\":\"Pois\", \n",
    "          \"norm_ens\": \"GEns\", \"norm_homo\":\"HG\"}"
   ]
  },
  {
   "cell_type": "code",
   "execution_count": 4,
   "metadata": {},
   "outputs": [],
   "source": [
    "def evall(mean, std, target, dist, ax=None, label=\"\"):\n",
    "    \n",
    "    if (dist == 'norm_ens')|(dist == 'norm_homo'):\n",
    "        actual_dist = 'norm'\n",
    "    else:\n",
    "        actual_dist = dist\n",
    "        \n",
    "    test_out_predict, test_out_std = util_eval.post_process_dist(actual_dist, mean, std)\n",
    "    a_test_mae, a_test_mse, _, _, _ = util_eval.eval_mean(mean, target, \"\")\n",
    "    lb, ub = util_eval.post_process_pi(actual_dist, mean, std, z=0.95)\n",
    "    a_mpiw, a_picp = util_eval.eval_pi(lb, ub, target)\n",
    "    \n",
    "    if (dist == 'norm') | (dist == 'norm_ens') | (dist == 'norm_homo'):\n",
    "        a_test_loss = -np.sum(norm.logpdf(target, mean, std))/len(target)\n",
    "    elif dist == 'laplace':\n",
    "        a_test_loss = -np.sum(laplace.logpdf(target, mean, std))/len(target)\n",
    "    elif dist == 'poisson':\n",
    "        a_test_loss = -np.sum(poisson.logpmf(target, mean))/len(target)\n",
    "    elif dist == 'tnorm':\n",
    "        a_test_loss = -np.sum(norm.logpdf(target, mean, std)-np.log(1-norm.cdf(0,mean,std)))/len(target)\n",
    "\n",
    "    num_points = len(target.flatten())\n",
    "    emp = []\n",
    "\n",
    "    p = np.array([0.01, 0.1, 0.2, 0.3, 0.4, 0.5, 0.6, 0.7, 0.8, 0.9, 0.999])\n",
    "    for i in p:\n",
    "        if (dist == 'norm') | (dist == 'norm_ens') | (dist == 'norm_homo'):\n",
    "            emp.append(np.sum(target <= norm.ppf(i, loc=mean, scale=std))/num_points)\n",
    "        elif dist == 'laplace':\n",
    "            emp.append(np.sum(target <= laplace.ppf(i, loc=mean, scale=std))/num_points)\n",
    "        elif dist == 'poisson':\n",
    "            emp.append(np.sum(target <= poisson.ppf(i, mu=mean))/num_points)\n",
    "        elif dist == 'tnorm':\n",
    "            emp.append(np.sum(target <= norm.ppf(i, loc=mean, scale=std))/num_points)\n",
    "\n",
    "    interval = p - np.insert(p, 0, 0)[:-1]\n",
    "    cal_error = np.sum(np.abs(emp-p) * interval)\n",
    "\n",
    "    if ax is not None:\n",
    "        ax = util_plot.plot_calibration(ax, p, emp, label=label, clr=colors[dist])\n",
    "    \n",
    "    return a_test_loss, cal_error, a_mpiw, a_picp, a_test_mae"
   ]
  },
  {
   "cell_type": "code",
   "execution_count": 5,
   "metadata": {},
   "outputs": [],
   "source": [
    "def load_and_run_gat(dist, ii, save_dir, model_period, std=None):\n",
    "    \n",
    "    # Turn Data into Torch Tensors\n",
    "    _, _, valloader, testloader, adj_torch, spatial_torch, y_train_eval, y_val_eval, y_test_eval = \\\n",
    "                util_gcnn.prepare_for_torch(device, train_extent, data, adj, spatial, \n",
    "                                            downtown_filter, adj_type)    \n",
    "    if not include_spatial:\n",
    "        spatial_torch=None\n",
    "    \n",
    "    # Load Trained NN\n",
    "    if dist == 'norm_homo':\n",
    "        net = util_gat.load_model(project_dir, save_dir, \n",
    "                               model_period, train_extent, adj_type, predict_hzn, time_size, lookback, ii, \n",
    "                               n_modes, n_stations, n_time, True, True)\n",
    "        net.eval()\n",
    "        # Run Data Through Selected Network\n",
    "        output_mean, output_var, _ = util_gat.testset_output_gat(testloader, True, True, net, criterion, adj_torch, \n",
    "                                        spatial_torch, device, n_time, return_components=False, std=std)\n",
    "#     elif dist == 'poisson':\n",
    "#         net = util_gcnn.load_model(project_dir, save_dir, \n",
    "#                                model_period, train_extent, adj_type, predict_hzn, time_size, lookback, ii, \n",
    "#                                n_modes, n_stations, n_time, meanonly=True)\n",
    "#         net.eval()\n",
    "#         output_mean, output_var, _ = util_gcnn.testset_output_gcn(testloader, True, False, net, criterion, adj_torch, \n",
    "#                                         spatial_torch, device, n_time, return_components=False)\n",
    "\n",
    "    else:\n",
    "        net = util_gat.load_model(project_dir, save_dir, \n",
    "                               model_period, train_extent, adj_type, predict_hzn, time_size, lookback, ii, \n",
    "                               n_modes, n_stations, n_time, False, False)\n",
    "        net.eval()\n",
    "        # Run Data Through Selected Network\n",
    "        output_mean, output_var, _ = util_gat.testset_output_gat(testloader, False, False, net, criterion, adj_torch, \n",
    "                                        spatial_torch, device, n_time, return_components=False)\n",
    "\n",
    "    return output_mean, output_var"
   ]
  },
  {
   "cell_type": "code",
   "execution_count": 6,
   "metadata": {},
   "outputs": [],
   "source": [
    "def load_and_run_gcn(dist, ii, save_dir, model_period, std=None):\n",
    "    \n",
    "    # Turn Data into Torch Tensors\n",
    "    _, _, valloader, testloader, adj_torch, spatial_torch, y_train_eval, y_val_eval, y_test_eval = \\\n",
    "                util_gcnn.prepare_for_torch(device, train_extent, data, adj, spatial, \n",
    "                                            downtown_filter, adj_type)    \n",
    "    if not include_spatial:\n",
    "        spatial_torch=None\n",
    "    \n",
    "    # Load Trained NN\n",
    "    # Run Data Through Selected Network\n",
    "    if dist == 'norm_homo':\n",
    "        net = util_gcnn.load_model(project_dir, save_dir, \n",
    "                               model_period, train_extent, adj_type, predict_hzn, time_size, lookback, ii, \n",
    "                               n_modes, n_stations, n_time, meanonly=True, homo=True)\n",
    "        net.eval()\n",
    "        output_mean, output_var, _ = util_gcnn.testset_output_gcn(testloader, False, True, net, criterion, adj_torch, \n",
    "                                    spatial_torch, device, n_time, return_components=False, std=std)\n",
    "    elif dist == 'poisson':\n",
    "        net = util_gcnn.load_model(project_dir, save_dir, \n",
    "                               model_period, train_extent, adj_type, predict_hzn, time_size, lookback, ii, \n",
    "                               n_modes, n_stations, n_time, meanonly=True)\n",
    "        net.eval()\n",
    "        output_mean, output_var, _ = util_gcnn.testset_output_gcn(testloader, True, False, net, criterion, adj_torch, \n",
    "                                        spatial_torch, device, n_time, return_components=False)\n",
    "\n",
    "    else:\n",
    "        net = util_gcnn.load_model(project_dir, save_dir, \n",
    "                               model_period, train_extent, adj_type, predict_hzn, time_size, lookback, ii, \n",
    "                               n_modes, n_stations, n_time)\n",
    "        net.eval()\n",
    "        output_mean, output_var, _ = util_gcnn.testset_output_gcn(testloader, False, False, net, criterion, adj_torch, \n",
    "                                        spatial_torch, device, n_time, return_components=False)\n",
    "\n",
    "    return output_mean, output_var"
   ]
  },
  {
   "cell_type": "code",
   "execution_count": 7,
   "metadata": {},
   "outputs": [],
   "source": [
    "max_lookback = 6\n",
    "time_size = 4\n",
    "predict_hzn = 1\n",
    "train_extent = \"downtown\"\n",
    "difference = True\n",
    "device = torch.device(\"cpu\")\n",
    "n_time = 96//time_size - 7\n",
    "include_spatial = False\n",
    "\n",
    "# 95% pct\n",
    "z=1.96\n",
    "\n",
    "adj_type = [\"func\",\"euc\",\"con\",\"net\"]\n"
   ]
  },
  {
   "cell_type": "markdown",
   "metadata": {},
   "source": [
    "# 1. Before"
   ]
  },
  {
   "cell_type": "code",
   "execution_count": 96,
   "metadata": {},
   "outputs": [],
   "source": [
    "# Get Data\n",
    "data, adj, spatial, downtown_filter = \\\n",
    "    util_gcnn.combine_datasources(project_dir, 'before', predict_hzn, time_size, difference, max_lookback, lookback)\n",
    "\n",
    "(num_train, _, _, n_modes) = data['x'][0].shape\n",
    "(num_test, _, _, _) = data['x'][1].shape\n",
    "n_stations = np.sum(downtown_filter)\n",
    "\n",
    "ts_test = data['ts'][1]\n",
    "target = np.squeeze(data['y'][-1])[:,downtown_filter]\n",
    "\n",
    "max_station = np.argmax(np.mean(data['y'][1][:,:,downtown_filter], axis=0))\n",
    "min_station = np.argmin(np.mean(data['y'][1][:,:,downtown_filter], axis=0))\n"
   ]
  },
  {
   "cell_type": "markdown",
   "metadata": {},
   "source": [
    "## 1.1 GCN Models"
   ]
  },
  {
   "cell_type": "code",
   "execution_count": 97,
   "metadata": {},
   "outputs": [],
   "source": [
    "# GEns-GCN\n",
    "lookback = 4\n",
    "b_ensemble_model_numbers = [21,17,18,25,3]\n",
    "dist = 'norm'\n",
    "data, adj, spatial, downtown_filter = \\\n",
    "    util_gcnn.combine_datasources(project_dir, 'before', predict_hzn, time_size, difference, max_lookback, lookback)\n",
    "criterion = MVELoss('norm')\n",
    "save_dir = project_dir+\"models/220405_before_\"+dist+\"/\"\n",
    "save_dir += train_extent+\"_\"+'-'.join(adj_type)+\"_\"+str(predict_hzn)+\"_\"+str(time_size)+\"_\"+str(lookback)\n",
    "b_ts_test, b_y_test_eval, bb_gcn_test_ens_mean, bb_gcn_test_ens_std, bb_gcn_ens_mean_list, bb_gcn_ens_std_list = \\\n",
    "    util_gcnn.ensemble(project_dir, save_dir, 'before', predict_hzn, time_size, lookback, \n",
    "                       b_ensemble_model_numbers, device, train_extent, adj_type,\n",
    "                       data, adj, spatial, downtown_filter)\n"
   ]
  },
  {
   "cell_type": "code",
   "execution_count": 98,
   "metadata": {},
   "outputs": [],
   "source": [
    "# HetG-GCN\n",
    "lookback = 6\n",
    "data, adj, spatial, downtown_filter = \\\n",
    "    util_gcnn.combine_datasources(project_dir, 'before', predict_hzn, time_size, difference, max_lookback, lookback)\n",
    "save_dir = project_dir+\"models/220405_before_norm/\"\n",
    "save_dir += train_extent+\"_\"+'-'.join(adj_type)+\"_\"+str(predict_hzn)+\"_\"+str(time_size)+\"_\"+str(lookback)\n",
    "bb_gcn_hetg_mean, bb_gcn_hetg_std = load_and_run_gcn(dist='norm', ii=29, save_dir=save_dir, model_period='before')\n"
   ]
  },
  {
   "cell_type": "code",
   "execution_count": 99,
   "metadata": {},
   "outputs": [],
   "source": [
    "# TG-GCN\n",
    "lookback = 6\n",
    "data, adj, spatial, downtown_filter = \\\n",
    "    util_gcnn.combine_datasources(project_dir, 'before', predict_hzn, time_size, difference, max_lookback, lookback)\n",
    "save_dir = project_dir+\"models/220405_before_tnorm/\"\n",
    "save_dir += train_extent+\"_\"+'-'.join(adj_type)+\"_\"+str(predict_hzn)+\"_\"+str(time_size)+\"_\"+str(lookback)\n",
    "bb_gcn_tg_mean, bb_gcn_tg_std = load_and_run_gcn(dist='tnorm', ii=16, save_dir=save_dir, model_period='before')\n"
   ]
  },
  {
   "cell_type": "code",
   "execution_count": 100,
   "metadata": {},
   "outputs": [],
   "source": [
    "# HomoG-GCN\n",
    "lookback = 6\n",
    "data, adj, spatial, downtown_filter = \\\n",
    "    util_gcnn.combine_datasources(project_dir, 'before', predict_hzn, time_size, difference, max_lookback, lookback)\n",
    "target_train = np.squeeze(data['y'][0])[:,downtown_filter]\n",
    "std = torch.tensor([np.mean(target_train) * 0.2])\n",
    "save_dir = project_dir+\"models/220519_before_norm_homo/\"\n",
    "save_dir += train_extent+\"_\"+'-'.join(adj_type)+\"_\"+str(predict_hzn)+\"_\"+str(time_size)+\"_\"+str(lookback)\n",
    "bb_gcn_homog_mean, bb_gcn_homog_std = load_and_run_gcn(dist='norm_homo', ii=12, \n",
    "                                                       save_dir=save_dir, model_period='before', std=std)\n"
   ]
  },
  {
   "cell_type": "code",
   "execution_count": 101,
   "metadata": {},
   "outputs": [],
   "source": [
    "# Lap-GCN\n",
    "lookback = 4\n",
    "data, adj, spatial, downtown_filter = \\\n",
    "    util_gcnn.combine_datasources(project_dir, 'before', predict_hzn, time_size, difference, max_lookback, lookback)\n",
    "criterion = MVELoss('laplace')\n",
    "save_dir = project_dir+\"models/220405_before_laplace/\"\n",
    "save_dir += train_extent+\"_\"+'-'.join(adj_type)+\"_\"+str(predict_hzn)+\"_\"+str(time_size)+\"_\"+str(lookback)\n",
    "bb_gcn_lap_mean, bb_gcn_lap_std = load_and_run_gcn(dist='laplace', ii=21, save_dir=save_dir, model_period='before')"
   ]
  },
  {
   "cell_type": "code",
   "execution_count": 102,
   "metadata": {},
   "outputs": [],
   "source": [
    "# Pois-GCN\n",
    "lookback = 4\n",
    "data, adj, spatial, downtown_filter = \\\n",
    "    util_gcnn.combine_datasources(project_dir, 'before', predict_hzn, time_size, difference, max_lookback, lookback)\n",
    "criterion = MVELoss('poisson')\n",
    "save_dir = project_dir+\"models/220405_before_poisson/\"\n",
    "save_dir += train_extent+\"_\"+'-'.join(adj_type)+\"_\"+str(predict_hzn)+\"_\"+str(time_size)+\"_\"+str(lookback)\n",
    "bb_gcn_pois_mean, bb_gcn_pois_std = load_and_run_gcn(dist='poisson', ii=15, save_dir=save_dir, model_period='before')"
   ]
  },
  {
   "cell_type": "code",
   "execution_count": 103,
   "metadata": {},
   "outputs": [
    {
     "name": "stdout",
     "output_type": "stream",
     "text": [
      "HomoG-GCN & 114.13 & 0.123 & 386.89 & 0.96 & 53.47\n",
      "Pois-GCN & 183.75 & 0.118 & 63.09 & 0.61 & 61.02\n",
      "HetG-GCN & 94.76 & 0.035 & 365.10 & 0.95 & 65.96\n",
      "TG-GCN & 94.39 & 0.038 & 380.99 & 0.96 & 66.95\n",
      "Lap-GCN & 92.69 & 0.010 & 393.48 & 0.97 & 66.22\n",
      "GEns-GCN & 94.11 & 0.034 & 396.95 & 0.96 & 66.42\n"
     ]
    },
    {
     "data": {
      "image/png": "[encoded data removed]",
      "text/plain": [
       "<Figure size 216x216 with 1 Axes>"
      ]
     },
     "metadata": {
      "needs_background": "light"
     },
     "output_type": "display_data"
    }
   ],
   "source": [
    "# verify this is correct\n",
    "fig, ax = plt.subplots(figsize=(3,3))\n",
    "# print(\"AA & %.2f & %.3f & %.2f & %.2f & %.2f\" % (evall(aa_test_ens_mean, aa_test_ens_std, target, dist=\"norm\")))\n",
    "\n",
    "print(\"HomoG-GCN & %.2f & %.3f & %.2f & %.2f & %.2f\" % (evall(bb_gcn_homog_mean, bb_gcn_homog_std, target, dist=\"norm_homo\", \n",
    "                                                             ax=ax, label='HomoG-GCN')))\n",
    "print(\"Pois-GCN & %.2f & %.3f & %.2f & %.2f & %.2f\" % (evall(bb_gcn_pois_mean, None, target, dist=\"poisson\", \n",
    "                                                            ax=ax, label='Pois-GCN')))\n",
    "print(\"HetG-GCN & %.2f & %.3f & %.2f & %.2f & %.2f\" % (evall(bb_gcn_hetg_mean, bb_gcn_hetg_std, target, dist=\"norm\", \n",
    "                                                             ax=ax, label='HetG-GCN')))\n",
    "print(\"TG-GCN & %.2f & %.3f & %.2f & %.2f & %.2f\" % (evall(bb_gcn_tg_mean, bb_gcn_tg_std, target, dist=\"tnorm\", \n",
    "                                                             ax=ax, label='TG-GCN')))\n",
    "print(\"Lap-GCN & %.2f & %.3f & %.2f & %.2f & %.2f\" % (evall(bb_gcn_lap_mean, bb_gcn_lap_std, target, dist=\"laplace\", \n",
    "                                                            ax=ax, label='Lap-GCN')))\n",
    "print(\"GEns-GCN & %.2f & %.3f & %.2f & %.2f & %.2f\" % (evall(bb_gcn_test_ens_mean, bb_gcn_test_ens_std, target, dist=\"norm_ens\", \n",
    "                                                             ax=ax, label='GEns-GCN')))\n",
    "ax.grid()\n",
    "fig.savefig(project_dir+\"figures/final/before_gcn_calibration.png\", bbox_inches='tight')\n",
    "\n"
   ]
  },
  {
   "cell_type": "markdown",
   "metadata": {},
   "source": [
    "\n",
    "## 1.2 GAT Models"
   ]
  },
  {
   "cell_type": "code",
   "execution_count": 16,
   "metadata": {
    "scrolled": true
   },
   "outputs": [],
   "source": [
    "# GEns-GAT \n",
    "save_dir = project_dir+\"models/220421_before_GAT_norm/\"\n",
    "save_dir += train_extent+\"_\"+'-'.join(adj_type)+\"_\"+str(predict_hzn)+\"_\"+str(time_size)+\"_\"+str(lookback)\n",
    "lookback = 4\n",
    "b_ensemble_model_numbers = [102, 17, 52, 43, 45]\n",
    "\n",
    "dist = 'norm'\n",
    "criterion = MVELoss('norm')\n",
    "data, adj, spatial, downtown_filter = \\\n",
    "    util_gcnn.combine_datasources(project_dir, 'before', predict_hzn, time_size, difference, max_lookback, lookback)\n",
    "\n",
    "b_ts_test, b_y_test_eval, bb_test_ens_mean_gat, bb_test_ens_std_gat, bb_ens_mean_list_gat, bb_ens_std_list_gat = \\\n",
    "    util_gat.ensemble(project_dir, save_dir, 'before', predict_hzn, time_size, lookback, \n",
    "                       b_ensemble_model_numbers, device, train_extent, adj_type,\n",
    "                       data, adj, spatial, downtown_filter)\n"
   ]
  },
  {
   "cell_type": "code",
   "execution_count": 17,
   "metadata": {
    "scrolled": true
   },
   "outputs": [],
   "source": [
    "# HeteroG\n",
    "lookback = 6\n",
    "data, adj, spatial, downtown_filter = \\\n",
    "    util_gcnn.combine_datasources(project_dir, 'before', predict_hzn, time_size, difference, max_lookback, lookback)\n",
    "\n",
    "out_folder = \"220421\"\n",
    "save_dir = project_dir+\"models/\"+out_folder+\"_before_GAT_norm/\"\n",
    "save_dir += train_extent+\"_\"+'-'.join(adj_type)+\"_\"+str(predict_hzn)+\"_\"+str(time_size)+\"_\"+str(lookback)\n",
    "bb_gat_hetg_mean, bb_gat_hetg_std = load_and_run_gat(dist='norm', ii=12, save_dir=save_dir, model_period='before')\n"
   ]
  },
  {
   "cell_type": "code",
   "execution_count": 18,
   "metadata": {},
   "outputs": [],
   "source": [
    "# HomoG\n",
    "lookback = 6\n",
    "data, adj, spatial, downtown_filter = \\\n",
    "    util_gcnn.combine_datasources(project_dir, 'before', predict_hzn, time_size, difference, max_lookback, lookback)\n",
    "\n",
    "target_train = np.squeeze(data['y'][0])[:,downtown_filter]\n",
    "std = torch.tensor([np.mean(target_train) * 0.2])\n",
    "save_dir = project_dir+\"models/220519_before_GAT_norm_homo/\"\n",
    "save_dir += train_extent+\"_\"+'-'.join(adj_type)+\"_\"+str(predict_hzn)+\"_\"+str(time_size)+\"_\"+str(lookback)\n",
    "bb_gat_homog_mean, bb_gat_homog_std = load_and_run_gat(dist='norm_homo', ii=12, \n",
    "                                                       save_dir=save_dir, model_period='before', std=std)\n"
   ]
  },
  {
   "cell_type": "code",
   "execution_count": 20,
   "metadata": {},
   "outputs": [],
   "source": [
    "# TG-GAT\n",
    "lookback = 4\n",
    "data, adj, spatial, downtown_filter = \\\n",
    "    util_gcnn.combine_datasources(project_dir, 'before', predict_hzn, time_size, difference, max_lookback, lookback)\n",
    "save_dir = project_dir+\"models/220421_before_GAT_tnorm/\"\n",
    "save_dir += train_extent+\"_\"+'-'.join(adj_type)+\"_\"+str(predict_hzn)+\"_\"+str(time_size)+\"_\"+str(lookback)\n",
    "bb_gat_tg_mean, bb_gat_tg_std = load_and_run_gat(dist='tnorm', ii=110, save_dir=save_dir, model_period='before')\n"
   ]
  },
  {
   "cell_type": "code",
   "execution_count": 21,
   "metadata": {},
   "outputs": [],
   "source": [
    "# Pois-GAT\n",
    "## Poisson has a glitch. Although variance parameters are not used, the model was created with those parameters.\n",
    "lookback = 4\n",
    "criterion = MVELoss('poisson')\n",
    "data, adj, spatial, downtown_filter = \\\n",
    "    util_gcnn.combine_datasources(project_dir, 'before', predict_hzn, time_size, difference, max_lookback, lookback)\n",
    "\n",
    "save_dir = project_dir+\"models/220421_before_GAT_poisson/\"\n",
    "save_dir += train_extent+\"_\"+'-'.join(adj_type)+\"_\"+str(predict_hzn)+\"_\"+str(time_size)+\"_\"+str(lookback)\n",
    "bb_gat_pois_mean, bb_gat_pois_std = load_and_run_gat(dist='poisson', ii=115, save_dir=save_dir, model_period='before')"
   ]
  },
  {
   "cell_type": "code",
   "execution_count": 22,
   "metadata": {},
   "outputs": [],
   "source": [
    "# Lap\n",
    "lookback = 4\n",
    "data, adj, spatial, downtown_filter = \\\n",
    "    util_gcnn.combine_datasources(project_dir, 'before', predict_hzn, time_size, difference, max_lookback, lookback)\n",
    "criterion = MVELoss('laplace')\n",
    "save_dir = project_dir+\"models/220421_before_GAT_laplace/\"\n",
    "save_dir += train_extent+\"_\"+'-'.join(adj_type)+\"_\"+str(predict_hzn)+\"_\"+str(time_size)+\"_\"+str(lookback)\n",
    "bb_gat_lap_mean, bb_gat_lap_std = load_and_run_gat(dist='norm', ii=49, save_dir=save_dir, model_period='before')\n"
   ]
  },
  {
   "cell_type": "code",
   "execution_count": 25,
   "metadata": {},
   "outputs": [
    {
     "name": "stdout",
     "output_type": "stream",
     "text": [
      "HomoG-GAT & 131.76 & 0.119 & 385.69 & 0.95 & 64.50\n",
      "Pois-GAT & 190.33 & 0.125 & 65.61 & 0.60 & 62.36\n",
      "HetG-GAT & 94.79 & 0.028 & 383.87 & 0.95 & 67.49\n",
      "TG-GCN & 93.77 & 0.052 & 495.79 & 0.98 & 68.42\n",
      "Lap-GAT & 92.72 & 0.019 & 383.93 & 0.97 & 67.52\n",
      "GEns-GAT & 93.46 & 0.043 & 440.64 & 0.97 & 66.26\n"
     ]
    },
    {
     "data": {
      "image/png": "[encoded data removed]",
      "text/plain": [
       "<Figure size 216x216 with 1 Axes>"
      ]
     },
     "metadata": {
      "needs_background": "light"
     },
     "output_type": "display_data"
    }
   ],
   "source": [
    "# verify this is correct\n",
    "# print(\"AA & %.2f & %.2f & %.2f & %.2f\" % (evall(aa_test_ens_mean, aa_test_ens_std, target, dist=\"norm\")))\n",
    "fig, ax = plt.subplots(figsize=(3,3))\n",
    "\n",
    "print(\"HomoG-GAT & %.2f & %.3f & %.2f & %.2f & %.2f\" % (evall(bb_gat_homog_mean, bb_gat_homog_std, target, dist=\"norm_homo\",\n",
    "                                                             ax=ax, label='HomoG-GAT')))\n",
    "print(\"Pois-GAT & %.2f & %.3f & %.2f & %.2f & %.2f\" % (evall(bb_gat_pois_mean, None, target, dist=\"poisson\", \n",
    "                                                            ax=ax, label='Pois-GAT')))\n",
    "print(\"HetG-GAT & %.2f & %.3f & %.2f & %.2f & %.2f\" % (evall(bb_gat_hetg_mean, bb_gat_hetg_std, target, dist=\"norm\",\n",
    "                                                             ax=ax, label='HeteroG-GAT')))\n",
    "print(\"TG-GAT & %.2f & %.3f & %.2f & %.2f & %.2f\" % (evall(bb_gat_tg_mean, bb_gat_tg_std, target, dist=\"tnorm\", \n",
    "                                                             ax=ax, label='TG-GAT')))\n",
    "print(\"Lap-GAT & %.2f & %.3f & %.2f & %.2f & %.2f\" % (evall(bb_gat_lap_mean, bb_gat_lap_std, target, dist=\"laplace\",\n",
    "                                                            ax=ax, label='Lap-GAT')))\n",
    "print(\"GEns-GAT & %.2f & %.3f & %.2f & %.2f & %.2f\" % (evall(bb_test_ens_mean_gat, bb_test_ens_std_gat, target, dist=\"norm_ens\",\n",
    "                                                            ax=ax, label='GEns-GAT')))\n",
    "ax.grid()\n",
    "fig.savefig(project_dir+\"figures/final/before_gat_calibration.png\", bbox_inches='tight')\n",
    "\n"
   ]
  },
  {
   "cell_type": "markdown",
   "metadata": {},
   "source": [
    "# 2. After"
   ]
  },
  {
   "cell_type": "code",
   "execution_count": 144,
   "metadata": {},
   "outputs": [],
   "source": [
    "# Get Data\n",
    "data, adj, spatial, downtown_filter = \\\n",
    "    util_gcnn.combine_datasources(project_dir, 'after', predict_hzn, time_size, difference, max_lookback, lookback)\n",
    "\n",
    "(num_train, _, _, n_modes) = data['x'][0].shape\n",
    "(num_test, _, _, _) = data['x'][1].shape\n",
    "n_stations = np.sum(downtown_filter)\n",
    "\n",
    "ts_test = data['ts'][1]\n",
    "target = np.squeeze(data['y'][-1])[:,downtown_filter]\n",
    "\n",
    "max_station = np.argmax(np.mean(data['y'][1][:,:,downtown_filter], axis=0))\n",
    "min_station = np.argmin(np.mean(data['y'][1][:,:,downtown_filter], axis=0))\n"
   ]
  },
  {
   "cell_type": "markdown",
   "metadata": {},
   "source": [
    "## 2.1 GCN Models"
   ]
  },
  {
   "cell_type": "code",
   "execution_count": 27,
   "metadata": {},
   "outputs": [],
   "source": [
    "lookback = 4\n",
    "data, adj, spatial, downtown_filter = \\\n",
    "    util_gcnn.combine_datasources(project_dir, 'after', predict_hzn, time_size, difference, max_lookback, lookback)\n",
    "criterion = MVELoss('norm')\n",
    "a_ensemble_model_numbers = [17,29,25,54,18]\n",
    "save_dir = project_dir+\"models/220405_after_\"+dist+\"/\"\n",
    "save_dir += train_extent+\"_\"+'-'.join(adj_type)+\"_\"+str(predict_hzn)+\"_\"+str(time_size)+\"_\"+str(lookback)\n",
    "# model period = data period = after\n",
    "_, _, aa_test_ens_mean_gcn, aa_test_ens_std_gcn, aa_ens_mean_list, aa_ens_std_list = \\\n",
    "    util_gcnn.ensemble(project_dir, save_dir, 'after', predict_hzn, time_size, lookback, \n",
    "                       a_ensemble_model_numbers, device, train_extent, adj_type,\n",
    "                       data, adj, spatial, downtown_filter)\n"
   ]
  },
  {
   "cell_type": "code",
   "execution_count": 28,
   "metadata": {},
   "outputs": [],
   "source": [
    "# HetG-GCN\n",
    "lookback = 2\n",
    "data, adj, spatial, downtown_filter = \\\n",
    "    util_gcnn.combine_datasources(project_dir, 'after', predict_hzn, time_size, difference, max_lookback, lookback)\n",
    "save_dir = project_dir+\"models/220405_after_norm/\"\n",
    "save_dir += train_extent+\"_\"+'-'.join(adj_type)+\"_\"+str(predict_hzn)+\"_\"+str(time_size)+\"_\"+str(lookback)\n",
    "aa_gcn_hetg_mean, aa_gcn_hetg_std = load_and_run_gcn(dist='norm', ii=60, save_dir=save_dir, model_period='after')\n"
   ]
  },
  {
   "cell_type": "code",
   "execution_count": 145,
   "metadata": {},
   "outputs": [],
   "source": [
    "# HomoG-GCN\n",
    "lookback = 6\n",
    "data, adj, spatial, downtown_filter = \\\n",
    "    util_gcnn.combine_datasources(project_dir, 'after', predict_hzn, time_size, difference, max_lookback, lookback)\n",
    "target_train = np.squeeze(data['y'][0])[:,downtown_filter]\n",
    "std = torch.tensor([np.mean(target_train) * 0.45])\n",
    "save_dir = project_dir+\"models/220520_after_norm_homo/\"\n",
    "save_dir += train_extent+\"_\"+'-'.join(adj_type)+\"_\"+str(predict_hzn)+\"_\"+str(time_size)+\"_\"+str(lookback)\n",
    "aa_gcn_homog_mean, aa_gcn_homog_std = load_and_run_gcn(dist='norm_homo', ii=5, \n",
    "                                                       save_dir=save_dir, model_period='after', std=std)\n"
   ]
  },
  {
   "cell_type": "code",
   "execution_count": 45,
   "metadata": {},
   "outputs": [],
   "source": [
    "# TG-GCN\n",
    "lookback = 6\n",
    "data, adj, spatial, downtown_filter = \\\n",
    "    util_gcnn.combine_datasources(project_dir, 'after', predict_hzn, time_size, difference, max_lookback, lookback)\n",
    "save_dir = project_dir+\"models/220405_after_tnorm/\"\n",
    "save_dir += train_extent+\"_\"+'-'.join(adj_type)+\"_\"+str(predict_hzn)+\"_\"+str(time_size)+\"_\"+str(lookback)\n",
    "aa_gcn_tg_mean, aa_gcn_tg_std = load_and_run_gcn(dist='tnorm', ii=19, save_dir=save_dir, model_period='after')\n"
   ]
  },
  {
   "cell_type": "code",
   "execution_count": 31,
   "metadata": {},
   "outputs": [],
   "source": [
    "# Lap-GCN\n",
    "lookback = 6\n",
    "data, adj, spatial, downtown_filter = \\\n",
    "    util_gcnn.combine_datasources(project_dir, 'after', predict_hzn, time_size, difference, max_lookback, lookback)\n",
    "criterion = MVELoss('laplace')\n",
    "save_dir = project_dir+\"models/220405_after_laplace/\"\n",
    "save_dir += train_extent+\"_\"+'-'.join(adj_type)+\"_\"+str(predict_hzn)+\"_\"+str(time_size)+\"_\"+str(lookback)\n",
    "aa_gcn_lap_mean, aa_gcn_lap_std = load_and_run_gcn(dist='laplace', ii=21, save_dir=save_dir, model_period='after')"
   ]
  },
  {
   "cell_type": "code",
   "execution_count": 32,
   "metadata": {},
   "outputs": [],
   "source": [
    "# Pois-GCN\n",
    "criterion = MVELoss('poisson')\n",
    "data, adj, spatial, downtown_filter = \\\n",
    "    util_gcnn.combine_datasources(project_dir, 'after', predict_hzn, time_size, difference, max_lookback, lookback)\n",
    "lookback=2\n",
    "save_dir = project_dir+\"models/220405_after_poisson/\"\n",
    "save_dir += train_extent+\"_\"+'-'.join(adj_type)+\"_\"+str(predict_hzn)+\"_\"+str(time_size)+\"_\"+str(lookback)\n",
    "aa_gcn_pois_mean, aa_gcn_pois_std = load_and_run_gcn(dist='poisson', ii=23, save_dir=save_dir, model_period='after')"
   ]
  },
  {
   "cell_type": "code",
   "execution_count": 46,
   "metadata": {
    "scrolled": true
   },
   "outputs": [
    {
     "name": "stdout",
     "output_type": "stream",
     "text": [
      "HomoG-GCN & 84.16 & 0.101 & 88.45 & 0.96 & 13.72\n",
      "Pois-GCN & 90.14 & 0.085 & 27.82 & 0.74 & 13.80\n",
      "HetG-GCN & 70.89 & 0.026 & 75.31 & 0.96 & 13.14\n",
      "TG-GCN & 70.86 & 0.024 & 73.51 & 0.96 & 13.41\n",
      "Lap-GCN & 71.32 & 0.030 & 77.27 & 0.97 & 13.71\n",
      "GEns-GCN & 70.83 & 0.026 & 73.04 & 0.96 & 13.55\n"
     ]
    },
    {
     "data": {
      "image/png": "[encoded data removed]",
      "text/plain": [
       "<Figure size 216x216 with 1 Axes>"
      ]
     },
     "metadata": {
      "needs_background": "light"
     },
     "output_type": "display_data"
    }
   ],
   "source": [
    "# verify this is correct\n",
    "fig, ax = plt.subplots(figsize=(3,3))\n",
    "# print(\"aa_ & %.2f & %.3f & %.2f & %.2f & %.2f\" % (evall(aa__test_ens_mean, aa__test_ens_std, target, dist=\"norm\")))\n",
    "\n",
    "print(\"HomoG-GCN & %.2f & %.3f & %.2f & %.2f & %.2f\" % (evall(aa_gcn_homog_mean, aa_gcn_homog_std, target, dist=\"norm_homo\", \n",
    "                                                             ax=ax, label='HomoG-GCN')))\n",
    "print(\"Pois-GCN & %.2f & %.3f & %.2f & %.2f & %.2f\" % (evall(aa_gcn_pois_mean, None, target, dist=\"poisson\", \n",
    "                                                            ax=ax, label='Pois-GCN')))\n",
    "print(\"HetG-GCN & %.2f & %.3f & %.2f & %.2f & %.2f\" % (evall(aa_gcn_hetg_mean, aa_gcn_hetg_std, target, dist=\"norm_ens\", \n",
    "                                                             ax=ax, label='HetG-GCN')))\n",
    "print(\"TG-GCN & %.2f & %.3f & %.2f & %.2f & %.2f\" % (evall(aa_gcn_tg_mean, aa_gcn_tg_std, target, dist=\"tnorm\", \n",
    "                                                             ax=ax, label='TG-GCN')))\n",
    "print(\"Lap-GCN & %.2f & %.3f & %.2f & %.2f & %.2f\" % (evall(aa_gcn_lap_mean, aa_gcn_lap_std, target, dist=\"laplace\", \n",
    "                                                            ax=ax, label='Lap-GCN')))\n",
    "print(\"GEns-GCN & %.2f & %.3f & %.2f & %.2f & %.2f\" % (evall(aa_test_ens_mean_gcn, aa_test_ens_std_gcn, target, dist=\"norm\", \n",
    "                                                             ax=ax, label='GEns-GCN')))\n",
    "\n",
    "ax.grid()\n",
    "fig.savefig(project_dir+\"figures/final/after_gcn_calibration.png\", bbox_inches='tight')\n"
   ]
  },
  {
   "cell_type": "markdown",
   "metadata": {},
   "source": [
    "## 2.2 GAT Models"
   ]
  },
  {
   "cell_type": "code",
   "execution_count": 47,
   "metadata": {},
   "outputs": [],
   "source": [
    "lookback = 4\n",
    "save_dir = project_dir+\"models/220421_after_GAT_norm/\"\n",
    "save_dir += train_extent+\"_\"+'-'.join(adj_type)+\"_\"+str(predict_hzn)+\"_\"+str(time_size)+\"_\"+str(lookback)\n",
    "a_ensemble_model_numbers = [50, 52, 59, 57, 43]\n",
    "_, _, aa_test_ens_mean_gat, aa_test_ens_std_gat, aa_ens_mean_list_gat, aa_ens_std_list_gat = \\\n",
    "    util_gat.ensemble(project_dir, save_dir, \"after\", predict_hzn, time_size, lookback, \n",
    "                       a_ensemble_model_numbers, device, train_extent, adj_type,\n",
    "                       data, adj, spatial, downtown_filter)"
   ]
  },
  {
   "cell_type": "code",
   "execution_count": 48,
   "metadata": {
    "scrolled": true
   },
   "outputs": [],
   "source": [
    "# HetG-GAT\n",
    "lookback = 4\n",
    "data, adj, spatial, downtown_filter = \\\n",
    "    util_gcnn.combine_datasources(project_dir, 'after', predict_hzn, time_size, difference, max_lookback, lookback)\n",
    "save_dir = project_dir+\"models/220421_after_GAT_norm/\"\n",
    "save_dir += train_extent+\"_\"+'-'.join(adj_type)+\"_\"+str(predict_hzn)+\"_\"+str(time_size)+\"_\"+str(lookback)\n",
    "aa_gat_hetg_mean, aa_gat_hetg_std = load_and_run_gat(dist='norm', ii=50, save_dir=save_dir, model_period='after')\n"
   ]
  },
  {
   "cell_type": "code",
   "execution_count": 49,
   "metadata": {},
   "outputs": [],
   "source": [
    "# HomoG-gat\n",
    "lookback = 6\n",
    "data, adj, spatial, downtown_filter = \\\n",
    "    util_gcnn.combine_datasources(project_dir, 'after', predict_hzn, time_size, difference, max_lookback, lookback)\n",
    "target_train = np.squeeze(data['y'][0])[:,downtown_filter]\n",
    "std = torch.tensor([np.mean(target_train) * 0.45])\n",
    "save_dir = project_dir+\"models/220520_after_GAT_norm_homo/\"\n",
    "save_dir += train_extent+\"_\"+'-'.join(adj_type)+\"_\"+str(predict_hzn)+\"_\"+str(time_size)+\"_\"+str(lookback)\n",
    "aa_gat_homog_mean, aa_gat_homog_std = load_and_run_gat(dist='norm_homo', ii=48, \n",
    "                                                       save_dir=save_dir, model_period='after', std=std)\n"
   ]
  },
  {
   "cell_type": "code",
   "execution_count": 53,
   "metadata": {},
   "outputs": [],
   "source": [
    "# Lap-gat\n",
    "lookback = 4\n",
    "data, adj, spatial, downtown_filter = \\\n",
    "    util_gcnn.combine_datasources(project_dir, 'after', predict_hzn, time_size, difference, max_lookback, lookback)\n",
    "criterion = MVELoss('laplace')\n",
    "save_dir = project_dir+\"models/220421_after_GAT_laplace/\"\n",
    "save_dir += train_extent+\"_\"+'-'.join(adj_type)+\"_\"+str(predict_hzn)+\"_\"+str(time_size)+\"_\"+str(lookback)\n",
    "aa_gat_lap_mean, aa_gat_lap_std = load_and_run_gat(dist='laplace', ii=19, save_dir=save_dir, model_period='after')"
   ]
  },
  {
   "cell_type": "code",
   "execution_count": 50,
   "metadata": {},
   "outputs": [],
   "source": [
    "# TG-GAT\n",
    "lookback = 4\n",
    "data, adj, spatial, downtown_filter = \\\n",
    "    util_gcnn.combine_datasources(project_dir, 'after', predict_hzn, time_size, difference, max_lookback, lookback)\n",
    "save_dir = project_dir+\"models/220421_after_GAT_tnorm/\"\n",
    "save_dir += train_extent+\"_\"+'-'.join(adj_type)+\"_\"+str(predict_hzn)+\"_\"+str(time_size)+\"_\"+str(lookback)\n",
    "aa_gat_tg_mean, aa_gat_tg_std = load_and_run_gat(dist='tnorm', ii=35, save_dir=save_dir, model_period='after')\n"
   ]
  },
  {
   "cell_type": "code",
   "execution_count": 51,
   "metadata": {},
   "outputs": [],
   "source": [
    "# Pois-gat\n",
    "criterion = MVELoss('poisson')\n",
    "data, adj, spatial, downtown_filter = \\\n",
    "    util_gcnn.combine_datasources(project_dir, 'after', predict_hzn, time_size, difference, max_lookback, lookback)\n",
    "lookback=4\n",
    "save_dir = project_dir+\"models/220421_after_GAT_poisson/\"\n",
    "save_dir += train_extent+\"_\"+'-'.join(adj_type)+\"_\"+str(predict_hzn)+\"_\"+str(time_size)+\"_\"+str(lookback)\n",
    "aa_gat_pois_mean, aa_gat_pois_std = load_and_run_gat(dist='poisson', ii=63, save_dir=save_dir, model_period='after')"
   ]
  },
  {
   "cell_type": "code",
   "execution_count": 54,
   "metadata": {
    "scrolled": true
   },
   "outputs": [
    {
     "name": "stdout",
     "output_type": "stream",
     "text": [
      "HomoG-GAT & 82.77 & 0.101 & 88.63 & 0.96 & 13.17\n",
      "Pois-GAT & 89.03 & 0.084 & 29.01 & 0.75 & 13.32\n",
      "HetG-GAT & 71.09 & 0.015 & 71.19 & 0.95 & 13.57\n",
      "TG-GAT & 71.18 & 0.021 & 73.03 & 0.96 & 13.98\n",
      "Lap-GAT & 71.29 & 0.023 & 83.38 & 0.97 & 13.53\n",
      "GEns-GAT & 70.92 & 0.034 & 69.10 & 0.95 & 13.48\n"
     ]
    },
    {
     "data": {
      "image/png": "[encoded data removed]",
      "text/plain": [
       "<Figure size 216x216 with 1 Axes>"
      ]
     },
     "metadata": {
      "needs_background": "light"
     },
     "output_type": "display_data"
    }
   ],
   "source": [
    "# verify this is correct\n",
    "fig, ax = plt.subplots(figsize=(3,3))\n",
    "# print(\"aa_ & %.2f & %.3f & %.2f & %.2f & %.2f\" % (evall(aa__test_ens_mean, aa__test_ens_std, target, dist=\"norm\")))\n",
    "\n",
    "print(\"HomoG-GAT & %.2f & %.3f & %.2f & %.2f & %.2f\" % (evall(aa_gat_homog_mean, aa_gat_homog_std, target, dist=\"norm_homo\", \n",
    "                                                             ax=ax, label='HomoG-GAT')))\n",
    "print(\"Pois-GAT & %.2f & %.3f & %.2f & %.2f & %.2f\" % (evall(aa_gat_pois_mean, None, target, dist=\"poisson\", \n",
    "                                                            ax=ax, label='Pois-GAT')))\n",
    "print(\"HetG-GAT & %.2f & %.3f & %.2f & %.2f & %.2f\" % (evall(aa_gat_hetg_mean, aa_gat_hetg_std, target, dist=\"norm_ens\", \n",
    "                                                             ax=ax, label='HetG-GAT')))\n",
    "print(\"TG-GAT & %.2f & %.3f & %.2f & %.2f & %.2f\" % (evall(aa_gat_tg_mean, aa_gat_tg_std, target, dist=\"tnorm\", \n",
    "                                                             ax=ax, label='TG-GAT')))\n",
    "print(\"Lap-GAT & %.2f & %.3f & %.2f & %.2f & %.2f\" % (evall(aa_gat_lap_mean, aa_gat_lap_std, target, dist=\"laplace\", \n",
    "                                                            ax=ax, label='Lap-GAT')))\n",
    "print(\"GEns-GAT & %.2f & %.3f & %.2f & %.2f & %.2f\" % (evall(aa_test_ens_mean_gat, aa_test_ens_std_gat, target, dist=\"norm\", \n",
    "                                                             ax=ax, label='GEns-GAT')))\n",
    "ax.grid()\n",
    "fig.savefig(project_dir+\"figures/final/after_GAT_calibration.png\", bbox_inches='tight')\n"
   ]
  },
  {
   "cell_type": "markdown",
   "metadata": {},
   "source": [
    "# 3. Before-After"
   ]
  },
  {
   "cell_type": "code",
   "execution_count": 104,
   "metadata": {},
   "outputs": [],
   "source": [
    "# Get Data\n",
    "data, adj, spatial, downtown_filter = \\\n",
    "    util_gcnn.combine_datasources(project_dir, 'after', predict_hzn, time_size, difference, max_lookback, lookback)\n",
    "\n",
    "(num_train, _, _, n_modes) = data['x'][0].shape\n",
    "(num_test, _, _, _) = data['x'][1].shape\n",
    "n_stations = np.sum(downtown_filter)\n",
    "\n",
    "ts_test = data['ts'][1]\n",
    "target = np.squeeze(data['y'][-1])[:,downtown_filter]\n",
    "\n",
    "max_station = np.argmax(np.mean(data['y'][1][:,:,downtown_filter], axis=0))\n",
    "min_station = np.argmin(np.mean(data['y'][1][:,:,downtown_filter], axis=0))\n"
   ]
  },
  {
   "cell_type": "markdown",
   "metadata": {},
   "source": [
    "## 3.1 GCN Models"
   ]
  },
  {
   "cell_type": "code",
   "execution_count": 105,
   "metadata": {},
   "outputs": [],
   "source": [
    "# GEns-GCN\n",
    "lookback = 4\n",
    "b_ensemble_model_numbers = [21,17,18,25,3]\n",
    "dist = 'norm'\n",
    "data, adj, spatial, downtown_filter = \\\n",
    "    util_gcnn.combine_datasources(project_dir, 'after', predict_hzn, time_size, difference, max_lookback, lookback)\n",
    "criterion = MVELoss('norm')\n",
    "save_dir = project_dir+\"models/220405_before_\"+dist+\"/\"\n",
    "save_dir += train_extent+\"_\"+'-'.join(adj_type)+\"_\"+str(predict_hzn)+\"_\"+str(time_size)+\"_\"+str(lookback)\n",
    "a_ts_test, a_y_test_eval, ba_gcn_test_ens_mean, ba_gcn_test_ens_std, ba_gcn_ens_mean_list, ba_gcn_ens_std_list = \\\n",
    "    util_gcnn.ensemble(project_dir, save_dir, 'before', predict_hzn, time_size, lookback, \n",
    "                       b_ensemble_model_numbers, device, train_extent, adj_type,\n",
    "                       data, adj, spatial, downtown_filter)\n"
   ]
  },
  {
   "cell_type": "code",
   "execution_count": 106,
   "metadata": {},
   "outputs": [],
   "source": [
    "# HetG-GCN\n",
    "lookback = 6\n",
    "data, adj, spatial, downtown_filter = \\\n",
    "    util_gcnn.combine_datasources(project_dir, 'after', predict_hzn, time_size, difference, max_lookback, lookback)\n",
    "save_dir = project_dir+\"models/220405_before_norm/\"\n",
    "save_dir += train_extent+\"_\"+'-'.join(adj_type)+\"_\"+str(predict_hzn)+\"_\"+str(time_size)+\"_\"+str(lookback)\n",
    "ba_gcn_hetg_mean, ba_gcn_hetg_std = load_and_run_gcn(dist='norm', ii=29, save_dir=save_dir, model_period='before')\n"
   ]
  },
  {
   "cell_type": "code",
   "execution_count": 107,
   "metadata": {},
   "outputs": [],
   "source": [
    "# TG-GCN\n",
    "lookback = 6\n",
    "data, adj, spatial, downtown_filter = \\\n",
    "    util_gcnn.combine_datasources(project_dir, 'after', predict_hzn, time_size, difference, max_lookback, lookback)\n",
    "save_dir = project_dir+\"models/220405_before_tnorm/\"\n",
    "save_dir += train_extent+\"_\"+'-'.join(adj_type)+\"_\"+str(predict_hzn)+\"_\"+str(time_size)+\"_\"+str(lookback)\n",
    "ba_gcn_tg_mean, ba_gcn_tg_std = load_and_run_gcn(dist='tnorm', ii=16, save_dir=save_dir, model_period='before')\n"
   ]
  },
  {
   "cell_type": "code",
   "execution_count": 108,
   "metadata": {},
   "outputs": [],
   "source": [
    "# HomoG-GCN\n",
    "lookback = 6\n",
    "data, adj, spatial, downtown_filter = \\\n",
    "    util_gcnn.combine_datasources(project_dir, 'before', predict_hzn, time_size, difference, max_lookback, lookback)\n",
    "target_train = np.squeeze(data['y'][0])[:,downtown_filter]\n",
    "std = torch.tensor([np.mean(target_train) * 0.2])\n",
    "data, adj, spatial, downtown_filter = \\\n",
    "    util_gcnn.combine_datasources(project_dir, 'after', predict_hzn, time_size, difference, max_lookback, lookback)\n",
    "save_dir = project_dir+\"models/220519_before_norm_homo/\"\n",
    "save_dir += train_extent+\"_\"+'-'.join(adj_type)+\"_\"+str(predict_hzn)+\"_\"+str(time_size)+\"_\"+str(lookback)\n",
    "ba_gcn_homog_mean, ba_gcn_homog_std = load_and_run_gcn(dist='norm_homo', ii=12, \n",
    "                                                       save_dir=save_dir, model_period='before', std=std)\n"
   ]
  },
  {
   "cell_type": "code",
   "execution_count": 109,
   "metadata": {},
   "outputs": [],
   "source": [
    "# Lap-GCN\n",
    "lookback = 4\n",
    "data, adj, spatial, downtown_filter = \\\n",
    "    util_gcnn.combine_datasources(project_dir, 'after', predict_hzn, time_size, difference, max_lookback, lookback)\n",
    "criterion = MVELoss('laplace')\n",
    "save_dir = project_dir+\"models/220405_before_laplace/\"\n",
    "save_dir += train_extent+\"_\"+'-'.join(adj_type)+\"_\"+str(predict_hzn)+\"_\"+str(time_size)+\"_\"+str(lookback)\n",
    "ba_gcn_lap_mean, ba_gcn_lap_std = load_and_run_gcn(dist='laplace', ii=21, save_dir=save_dir, model_period='before')"
   ]
  },
  {
   "cell_type": "code",
   "execution_count": 110,
   "metadata": {},
   "outputs": [],
   "source": [
    "# Pois-GCN\n",
    "lookback = 4\n",
    "data, adj, spatial, downtown_filter = \\\n",
    "    util_gcnn.combine_datasources(project_dir, 'after', predict_hzn, time_size, difference, max_lookback, lookback)\n",
    "criterion = MVELoss('poisson')\n",
    "save_dir = project_dir+\"models/220405_before_poisson/\"\n",
    "save_dir += train_extent+\"_\"+'-'.join(adj_type)+\"_\"+str(predict_hzn)+\"_\"+str(time_size)+\"_\"+str(lookback)\n",
    "ba_gcn_pois_mean, ba_gcn_pois_std = load_and_run_gcn(dist='poisson', ii=15, save_dir=save_dir, model_period='before')"
   ]
  },
  {
   "cell_type": "code",
   "execution_count": 111,
   "metadata": {},
   "outputs": [
    {
     "name": "stdout",
     "output_type": "stream",
     "text": [
      "HomoG-GCN & 102.68 & 0.194 & 302.02 & 1.00 & 14.53\n",
      "Pois-GCN & 92.86 & 0.135 & 29.51 & 0.72 & 14.48\n",
      "HetG-GCN & 74.02 & 0.096 & 102.35 & 0.99 & 14.64\n",
      "TG-GCN & 72.57 & 0.068 & 95.39 & 0.99 & 13.64\n",
      "Lap-GCN & 72.84 & 0.075 & 114.80 & 1.00 & 13.74\n",
      "GEns-GCN & 73.31 & 0.088 & 97.72 & 0.99 & 14.30\n"
     ]
    },
    {
     "data": {
      "image/png": "[encoded data removed]",
      "text/plain": [
       "<Figure size 216x216 with 1 Axes>"
      ]
     },
     "metadata": {
      "needs_background": "light"
     },
     "output_type": "display_data"
    }
   ],
   "source": [
    "# verify this is correct\n",
    "fig, ax = plt.subplots(figsize=(3,3))\n",
    "# print(\"AA & %.2f & %.3f & %.2f & %.2f & %.2f\" % (evall(aa_test_ens_mean, aa_test_ens_std, target, dist=\"norm\")))\n",
    "\n",
    "print(\"HomoG-GCN & %.2f & %.3f & %.2f & %.2f & %.2f\" % (evall(ba_gcn_homog_mean, ba_gcn_homog_std, target, dist=\"norm_homo\", \n",
    "                                                             ax=ax, label='HomoG-GCN')))\n",
    "print(\"Pois-GCN & %.2f & %.3f & %.2f & %.2f & %.2f\" % (evall(ba_gcn_pois_mean, None, target, dist=\"poisson\", \n",
    "                                                            ax=ax, label='Pois-GCN')))\n",
    "print(\"HetG-GCN & %.2f & %.3f & %.2f & %.2f & %.2f\" % (evall(ba_gcn_hetg_mean, ba_gcn_hetg_std, target, dist=\"norm\", \n",
    "                                                             ax=ax, label='HetG-GCN')))\n",
    "print(\"TG-GCN & %.2f & %.3f & %.2f & %.2f & %.2f\" % (evall(ba_gcn_tg_mean, ba_gcn_tg_std, target, dist=\"tnorm\", \n",
    "                                                             ax=ax, label='TG-GCN')))\n",
    "print(\"Lap-GCN & %.2f & %.3f & %.2f & %.2f & %.2f\" % (evall(ba_gcn_lap_mean, ba_gcn_lap_std, target, dist=\"laplace\", \n",
    "                                                            ax=ax, label='Lap-GCN')))\n",
    "print(\"GEns-GCN & %.2f & %.3f & %.2f & %.2f & %.2f\" % (evall(ba_gcn_test_ens_mean, ba_gcn_test_ens_std, target, dist=\"norm_ens\", \n",
    "                                                             ax=ax, label='GEns-GCN')))\n",
    "ax.grid()\n",
    "# fig.savefig(project_dir+\"figures/final/before_after_gcn_calibration.png\", bbox_inches='tight')\n",
    "\n"
   ]
  },
  {
   "cell_type": "code",
   "execution_count": 138,
   "metadata": {},
   "outputs": [],
   "source": [
    "color_norm = util_plot.MidpointNormalize(vmin=-100, vmax = 100, midpoint=0)"
   ]
  },
  {
   "cell_type": "code",
   "execution_count": 142,
   "metadata": {},
   "outputs": [
    {
     "data": {
      "text/plain": [
       "<matplotlib.colorbar.Colorbar at 0x7ff675c0fa50>"
      ]
     },
     "execution_count": 142,
     "metadata": {},
     "output_type": "execute_result"
    },
    {
     "data": {
      "image/png": "[encoded data removed]",
      "text/plain": [
       "<Figure size 216x216 with 2 Axes>"
      ]
     },
     "metadata": {
      "needs_background": "light"
     },
     "output_type": "display_data"
    }
   ],
   "source": [
    "test_ens_residuals = ba_gcn_test_ens_mean - target\n",
    "stu = pd.DataFrame(test_ens_residuals[5:], index=a_ts_test[5:], columns = data['stations'])\n",
    "stu['hour'] = stu.index % 24\n",
    "\n",
    "fig, ax = plt.subplots(figsize=(3,3))\n",
    "plt.imshow(stu.groupby('hour').mean().to_numpy().T, cmap = 'RdBu_r', norm=color_norm)\n",
    "ax.set_xticks(np.arange(0, 18, 3))\n",
    "ax.set_xticklabels(np.arange(6, 23, 3))\n",
    "# ax.set_yticks(np.arange(len(data['stations'])))\n",
    "# ax.set_yticklabels([downtown_stations[downtown_stations['STATION_ID']==x].iloc[0]['LONGNAME'] for x in data['stations']]);\n",
    "ax.set_xlabel(\"Hour\");\n",
    "plt.colorbar()\n",
    "# fig.savefig(project_dir+\"figures/\"+out_folder+\"/before_st_outlier.png\", bbox_inches='tight');\n"
   ]
  },
  {
   "cell_type": "code",
   "execution_count": 141,
   "metadata": {},
   "outputs": [
    {
     "data": {
      "text/plain": [
       "<matplotlib.colorbar.Colorbar at 0x7ff675cd3710>"
      ]
     },
     "execution_count": 141,
     "metadata": {},
     "output_type": "execute_result"
    },
    {
     "data": {
      "image/png": "[encoded data removed]",
      "text/plain": [
       "<Figure size 216x216 with 2 Axes>"
      ]
     },
     "metadata": {
      "needs_background": "light"
     },
     "output_type": "display_data"
    }
   ],
   "source": [
    "test_ens_residuals = aa_test_ens_mean_gcn - target\n",
    "stu = pd.DataFrame(test_ens_residuals[5:], index=a_ts_test[5:], columns = data['stations'])\n",
    "stu['hour'] = stu.index % 24\n",
    "\n",
    "fig, ax = plt.subplots(figsize=(3,3))\n",
    "plt.imshow(stu.groupby('hour').mean().to_numpy().T, cmap = 'RdBu_r', \n",
    "           norm=color_norm)\n",
    "ax.set_xticks(np.arange(0, 18, 3))\n",
    "ax.set_xticklabels(np.arange(6, 23, 3))\n",
    "# ax.set_yticks(np.arange(len(data['stations'])))\n",
    "# ax.set_yticklabels([downtown_stations[downtown_stations['STATION_ID']==x].iloc[0]['LONGNAME'] for x in data['stations']]);\n",
    "ax.set_xlabel(\"Hour\");\n",
    "plt.colorbar()\n",
    "# fig.savefig(project_dir+\"figures/\"+out_folder+\"/before_st_outlier.png\", bbox_inches='tight');\n"
   ]
  },
  {
   "cell_type": "code",
   "execution_count": 131,
   "metadata": {},
   "outputs": [
    {
     "data": {
      "text/plain": [
       "<matplotlib.colorbar.Colorbar at 0x7ff677f98bd0>"
      ]
     },
     "execution_count": 131,
     "metadata": {},
     "output_type": "execute_result"
    },
    {
     "data": {
      "image/png": "[encoded data removed]",
      "text/plain": [
       "<Figure size 216x216 with 2 Axes>"
      ]
     },
     "metadata": {
      "needs_background": "light"
     },
     "output_type": "display_data"
    }
   ],
   "source": [
    "test_hetg_residuals = target - ba_gcn_hetg_mean\n",
    "stu = pd.DataFrame(test_hetg_residuals[5:], index=a_ts_test[5:], columns = data['stations'])\n",
    "stu['hour'] = stu.index % 24\n",
    "\n",
    "fig, ax = plt.subplots(figsize=(3,3))\n",
    "plt.imshow(stu.groupby('hour').sum().to_numpy().T, cmap = 'RdBu_r', norm=color_norm)\n",
    "ax.set_xticks(np.arange(0, 18, 3))\n",
    "ax.set_xticklabels(np.arange(6, 23, 3))\n",
    "# ax.set_yticks(np.arange(len(data['stations'])))\n",
    "# ax.set_yticklabels([downtown_stations[downtown_stations['STATION_ID']==x].iloc[0]['LONGNAME'] for x in data['stations']]);\n",
    "ax.set_xlabel(\"Hour\");\n",
    "plt.colorbar()\n",
    "# fig.savefig(project_dir+\"figures/\"+out_folder+\"/before_st_outlier.png\", bbox_inches='tight');\n"
   ]
  },
  {
   "cell_type": "code",
   "execution_count": 132,
   "metadata": {},
   "outputs": [
    {
     "data": {
      "text/plain": [
       "<matplotlib.colorbar.Colorbar at 0x7ff6760b1d50>"
      ]
     },
     "execution_count": 132,
     "metadata": {},
     "output_type": "execute_result"
    },
    {
     "data": {
      "image/png": "[encoded data removed]",
      "text/plain": [
       "<Figure size 216x216 with 2 Axes>"
      ]
     },
     "metadata": {
      "needs_background": "light"
     },
     "output_type": "display_data"
    }
   ],
   "source": [
    "test_lap_residuals = target - ba_gcn_lap_mean\n",
    "stu = pd.DataFrame(test_lap_residuals[5:], index=a_ts_test[5:], columns = data['stations'])\n",
    "stu['hour'] = stu.index % 24\n",
    "\n",
    "fig, ax = plt.subplots(figsize=(3,3))\n",
    "plt.imshow(stu.groupby('hour').sum().to_numpy().T, cmap = 'RdBu_r', norm=color_norm)\n",
    "ax.set_xticks(np.arange(0, 18, 3))\n",
    "ax.set_xticklabels(np.arange(6, 23, 3))\n",
    "# ax.set_yticks(np.arange(len(data['stations'])))\n",
    "# ax.set_yticklabels([downtown_stations[downtown_stations['STATION_ID']==x].iloc[0]['LONGNAME'] for x in data['stations']]);\n",
    "ax.set_xlabel(\"Hour\");\n",
    "plt.colorbar()\n",
    "# fig.savefig(project_dir+\"figures/\"+out_folder+\"/before_st_outlier.png\", bbox_inches='tight');\n"
   ]
  },
  {
   "cell_type": "code",
   "execution_count": null,
   "metadata": {},
   "outputs": [],
   "source": []
  },
  {
   "cell_type": "markdown",
   "metadata": {},
   "source": [
    "\n",
    "## 3.2 GAT Models"
   ]
  },
  {
   "cell_type": "code",
   "execution_count": 76,
   "metadata": {
    "scrolled": true
   },
   "outputs": [],
   "source": [
    "# GEns-GAT \n",
    "save_dir = project_dir+\"models/220421_before_GAT_norm/\"\n",
    "save_dir += train_extent+\"_\"+'-'.join(adj_type)+\"_\"+str(predict_hzn)+\"_\"+str(time_size)+\"_\"+str(lookback)\n",
    "lookback = 4\n",
    "b_ensemble_model_numbers = [102, 17, 52, 43, 45]\n",
    "\n",
    "dist = 'norm'\n",
    "criterion = MVELoss('norm')\n",
    "data, adj, spatial, downtown_filter = \\\n",
    "    util_gcnn.combine_datasources(project_dir, 'after', predict_hzn, time_size, difference, max_lookback, lookback)\n",
    "\n",
    "a_ts_test, a_y_test_eval, ba_test_ens_mean_gat, ba_test_ens_std_gat, ba_ens_mean_list_gat, ba_ens_std_list_gat = \\\n",
    "    util_gat.ensemble(project_dir, save_dir, 'before', predict_hzn, time_size, lookback, \n",
    "                       b_ensemble_model_numbers, device, train_extent, adj_type,\n",
    "                       data, adj, spatial, downtown_filter)\n"
   ]
  },
  {
   "cell_type": "code",
   "execution_count": 86,
   "metadata": {
    "scrolled": true
   },
   "outputs": [],
   "source": [
    "# HeteroG\n",
    "lookback = 6\n",
    "data, adj, spatial, downtown_filter = \\\n",
    "    util_gcnn.combine_datasources(project_dir, 'after', predict_hzn, time_size, difference, max_lookback, lookback)\n",
    "\n",
    "out_folder = \"220421\"\n",
    "save_dir = project_dir+\"models/\"+out_folder+\"_before_GAT_norm/\"\n",
    "save_dir += train_extent+\"_\"+'-'.join(adj_type)+\"_\"+str(predict_hzn)+\"_\"+str(time_size)+\"_\"+str(lookback)\n",
    "ba_gat_hetg_mean, ba_gat_hetg_std = load_and_run_gat(dist='norm', ii=12, save_dir=save_dir, model_period='before')\n"
   ]
  },
  {
   "cell_type": "code",
   "execution_count": 87,
   "metadata": {},
   "outputs": [],
   "source": [
    "# HomoG\n",
    "lookback = 6\n",
    "data, adj, spatial, downtown_filter = \\\n",
    "    util_gcnn.combine_datasources(project_dir, 'before', predict_hzn, time_size, difference, max_lookback, lookback)\n",
    "\n",
    "target_train = np.squeeze(data['y'][0])[:,downtown_filter]\n",
    "std = torch.tensor([np.mean(target_train) * 0.2])\n",
    "data, adj, spatial, downtown_filter = \\\n",
    "    util_gcnn.combine_datasources(project_dir, 'after', predict_hzn, time_size, difference, max_lookback, lookback)\n",
    "save_dir = project_dir+\"models/220519_before_GAT_norm_homo/\"\n",
    "save_dir += train_extent+\"_\"+'-'.join(adj_type)+\"_\"+str(predict_hzn)+\"_\"+str(time_size)+\"_\"+str(lookback)\n",
    "ba_gat_homog_mean, ba_gat_homog_std = load_and_run_gat(dist='norm_homo', ii=12, \n",
    "                                                       save_dir=save_dir, model_period='before', std=std)\n"
   ]
  },
  {
   "cell_type": "code",
   "execution_count": 88,
   "metadata": {},
   "outputs": [],
   "source": [
    "# TG-GAT\n",
    "lookback = 4\n",
    "data, adj, spatial, downtown_filter = \\\n",
    "    util_gcnn.combine_datasources(project_dir, 'after', predict_hzn, time_size, difference, max_lookback, lookback)\n",
    "save_dir = project_dir+\"models/220421_before_GAT_tnorm/\"\n",
    "save_dir += train_extent+\"_\"+'-'.join(adj_type)+\"_\"+str(predict_hzn)+\"_\"+str(time_size)+\"_\"+str(lookback)\n",
    "ba_gat_tg_mean, ba_gat_tg_std = load_and_run_gat(dist='tnorm', ii=110, save_dir=save_dir, model_period='before')\n"
   ]
  },
  {
   "cell_type": "code",
   "execution_count": 89,
   "metadata": {},
   "outputs": [],
   "source": [
    "# Pois-GAT\n",
    "## Poisson has a glitch. Although variance parameters are not used, the model was created with those parameters.\n",
    "lookback = 4\n",
    "criterion = MVELoss('poisson')\n",
    "data, adj, spatial, downtown_filter = \\\n",
    "    util_gcnn.combine_datasources(project_dir, 'after', predict_hzn, time_size, difference, max_lookback, lookback)\n",
    "\n",
    "save_dir = project_dir+\"models/220421_before_GAT_poisson/\"\n",
    "save_dir += train_extent+\"_\"+'-'.join(adj_type)+\"_\"+str(predict_hzn)+\"_\"+str(time_size)+\"_\"+str(lookback)\n",
    "ba_gat_pois_mean, ba_gat_pois_std = load_and_run_gat(dist='poisson', ii=115, save_dir=save_dir, model_period='before')"
   ]
  },
  {
   "cell_type": "code",
   "execution_count": 90,
   "metadata": {},
   "outputs": [],
   "source": [
    "# Lap\n",
    "lookback = 4\n",
    "data, adj, spatial, downtown_filter = \\\n",
    "    util_gcnn.combine_datasources(project_dir, 'after', predict_hzn, time_size, difference, max_lookback, lookback)\n",
    "criterion = MVELoss('laplace')\n",
    "save_dir = project_dir+\"models/220421_before_GAT_laplace/\"\n",
    "save_dir += train_extent+\"_\"+'-'.join(adj_type)+\"_\"+str(predict_hzn)+\"_\"+str(time_size)+\"_\"+str(lookback)\n",
    "ba_gat_lap_mean, ba_gat_lap_std = load_and_run_gat(dist='norm', ii=49, save_dir=save_dir, model_period='before')\n"
   ]
  },
  {
   "cell_type": "code",
   "execution_count": 91,
   "metadata": {
    "scrolled": true
   },
   "outputs": [
    {
     "name": "stdout",
     "output_type": "stream",
     "text": [
      "HomoG-GAT & 102.76 & 0.185 & 301.53 & 1.00 & 16.12\n",
      "Pois-GAT & 100.39 & 0.217 & 30.30 & 0.68 & 16.07\n",
      "HetG-GAT & 74.85 & 0.117 & 97.28 & 0.98 & 15.68\n",
      "TG-GAT & 73.26 & 0.076 & 93.79 & 0.99 & 13.86\n",
      "Lap-GAT & 72.76 & 0.070 & 111.95 & 0.99 & 13.82\n",
      "GEns-GAT & 73.66 & 0.091 & 96.65 & 0.99 & 14.14\n"
     ]
    },
    {
     "data": {
      "image/png": "[encoded data removed]",
      "text/plain": [
       "<Figure size 216x216 with 1 Axes>"
      ]
     },
     "metadata": {
      "needs_background": "light"
     },
     "output_type": "display_data"
    }
   ],
   "source": [
    "# verify this is correct\n",
    "# print(\"AA & %.2f & %.2f & %.2f & %.2f\" % (evall(aa_test_ens_mean, aa_test_ens_std, target, dist=\"norm\")))\n",
    "fig, ax = plt.subplots(figsize=(3,3))\n",
    "\n",
    "print(\"HomoG-GAT & %.2f & %.3f & %.2f & %.2f & %.2f\" % (evall(ba_gat_homog_mean, ba_gat_homog_std, target, dist=\"norm_homo\",\n",
    "                                                             ax=ax, label='HomoG-GAT')))\n",
    "print(\"Pois-GAT & %.2f & %.3f & %.2f & %.2f & %.2f\" % (evall(ba_gat_pois_mean, None, target, dist=\"poisson\", \n",
    "                                                            ax=ax, label='Pois-GAT')))\n",
    "print(\"HetG-GAT & %.2f & %.3f & %.2f & %.2f & %.2f\" % (evall(ba_gat_hetg_mean, ba_gat_hetg_std, target, dist=\"norm\",\n",
    "                                                             ax=ax, label='HeteroG-GAT')))\n",
    "print(\"TG-GAT & %.2f & %.3f & %.2f & %.2f & %.2f\" % (evall(ba_gat_tg_mean, ba_gat_tg_std, target, dist=\"tnorm\", \n",
    "                                                             ax=ax, label='TG-GAT')))\n",
    "print(\"Lap-GAT & %.2f & %.3f & %.2f & %.2f & %.2f\" % (evall(ba_gat_lap_mean, ba_gat_lap_std, target, dist=\"laplace\",\n",
    "                                                            ax=ax, label='Lap-GAT')))\n",
    "print(\"GEns-GAT & %.2f & %.3f & %.2f & %.2f & %.2f\" % (evall(ba_test_ens_mean_gat, ba_test_ens_std_gat, target, dist=\"norm_ens\",\n",
    "                                                            ax=ax, label='GEns-GAT')))\n",
    "ax.grid()\n",
    "fig.savefig(project_dir+\"figures/final/before_after_gat_calibration.png\", bbox_inches='tight')\n",
    "\n"
   ]
  },
  {
   "cell_type": "code",
   "execution_count": null,
   "metadata": {},
   "outputs": [],
   "source": []
  },
  {
   "cell_type": "code",
   "execution_count": null,
   "metadata": {},
   "outputs": [],
   "source": []
  },
  {
   "cell_type": "code",
   "execution_count": null,
   "metadata": {},
   "outputs": [],
   "source": []
  },
  {
   "cell_type": "code",
   "execution_count": null,
   "metadata": {},
   "outputs": [],
   "source": []
  }
 ],
 "metadata": {
  "kernelspec": {
   "display_name": "Python 3",
   "language": "python",
   "name": "python3"
  },
  "language_info": {
   "codemirror_mode": {
    "name": "ipython",
    "version": 3
   },
   "file_extension": ".py",
   "mimetype": "text/x-python",
   "name": "python",
   "nbconvert_exporter": "python",
   "pygments_lexer": "ipython3",
   "version": "3.7.11"
  }
 },
 "nbformat": 4,
 "nbformat_minor": 4
}
