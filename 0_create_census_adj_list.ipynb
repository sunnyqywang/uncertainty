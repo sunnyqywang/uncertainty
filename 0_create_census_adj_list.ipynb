{
 "cells": [
  {
   "cell_type": "code",
   "execution_count": 95,
   "id": "db9e9a95",
   "metadata": {},
   "outputs": [],
   "source": [
    "import geopandas as gpd\n",
    "import numpy as np\n",
    "import pandas as pd\n",
    "from pyproj import CRS\n",
    "from shapely import wkt\n",
    "\n",
    "from setup import *"
   ]
  },
  {
   "cell_type": "code",
   "execution_count": 96,
   "id": "2a037685",
   "metadata": {},
   "outputs": [],
   "source": [
    "# shapefile of census blocks 2010 \n",
    "gblk = pd.read_csv(data_dir+'data_raw/CensusBlockTIGER2010.csv')\n",
    "# craete a geometric object\n",
    "gblk['the_geom'] = gblk['the_geom'].apply(wkt.loads)\n",
    "# create the geo dataframe\n",
    "block_gdf = gpd.GeoDataFrame(gblk, geometry='the_geom')\n",
    "# Calculate the area of the blocks/polygons\n",
    "block_gdf.crs = CRS('epsg:4326')\n",
    "block_gdf = block_gdf.to_crs(\"epsg:26916\")"
   ]
  },
  {
   "cell_type": "code",
   "execution_count": 97,
   "id": "b7afbf45",
   "metadata": {},
   "outputs": [],
   "source": [
    "tract_gdf = block_gdf.dissolve(by=['STATEFP10','COUNTYFP10','TRACTCE10'], \n",
    "                               as_index=False)[['STATEFP10','COUNTYFP10','TRACTCE10','the_geom']]\n",
    "tract_gdf = tract_gdf.sort_values(by=['STATEFP10','COUNTYFP10','TRACTCE10'])\n",
    "tract_gdf['area'] = tract_gdf['the_geom'].map(lambda p:p.area)\n"
   ]
  },
  {
   "cell_type": "code",
   "execution_count": 98,
   "id": "43c87ae2",
   "metadata": {},
   "outputs": [],
   "source": [
    "tract_gdf['GEOID10'] = tract_gdf['STATEFP10'].astype(str)+\"_\"+tract_gdf['COUNTYFP10'].astype(str)+\"_\"+tract_gdf['TRACTCE10'].astype(str)"
   ]
  },
  {
   "cell_type": "code",
   "execution_count": 99,
   "id": "f354db71",
   "metadata": {},
   "outputs": [
    {
     "data": {
      "text/html": [
       "<div>\n",
       "<style scoped>\n",
       "    .dataframe tbody tr th:only-of-type {\n",
       "        vertical-align: middle;\n",
       "    }\n",
       "\n",
       "    .dataframe tbody tr th {\n",
       "        vertical-align: top;\n",
       "    }\n",
       "\n",
       "    .dataframe thead th {\n",
       "        text-align: right;\n",
       "    }\n",
       "</style>\n",
       "<table border=\"1\" class=\"dataframe\">\n",
       "  <thead>\n",
       "    <tr style=\"text-align: right;\">\n",
       "      <th></th>\n",
       "      <th>STATEFP10</th>\n",
       "      <th>COUNTYFP10</th>\n",
       "      <th>TRACTCE10</th>\n",
       "      <th>the_geom</th>\n",
       "      <th>area</th>\n",
       "      <th>GEOID10</th>\n",
       "    </tr>\n",
       "  </thead>\n",
       "  <tbody>\n",
       "    <tr>\n",
       "      <th>0</th>\n",
       "      <td>17</td>\n",
       "      <td>31</td>\n",
       "      <td>10100</td>\n",
       "      <td>POLYGON ((444549.916 4652143.244, 444519.037 4...</td>\n",
       "      <td>380786.520453</td>\n",
       "      <td>17_31_10100</td>\n",
       "    </tr>\n",
       "    <tr>\n",
       "      <th>1</th>\n",
       "      <td>17</td>\n",
       "      <td>31</td>\n",
       "      <td>10201</td>\n",
       "      <td>POLYGON ((443435.773 4651384.784, 443429.832 4...</td>\n",
       "      <td>504106.868051</td>\n",
       "      <td>17_31_10201</td>\n",
       "    </tr>\n",
       "    <tr>\n",
       "      <th>2</th>\n",
       "      <td>17</td>\n",
       "      <td>31</td>\n",
       "      <td>10202</td>\n",
       "      <td>POLYGON ((444070.591 4651397.512, 444070.177 4...</td>\n",
       "      <td>351465.386243</td>\n",
       "      <td>17_31_10202</td>\n",
       "    </tr>\n",
       "    <tr>\n",
       "      <th>3</th>\n",
       "      <td>17</td>\n",
       "      <td>31</td>\n",
       "      <td>10300</td>\n",
       "      <td>POLYGON ((444506.712 4651405.077, 444506.245 4...</td>\n",
       "      <td>471676.982940</td>\n",
       "      <td>17_31_10300</td>\n",
       "    </tr>\n",
       "    <tr>\n",
       "      <th>4</th>\n",
       "      <td>17</td>\n",
       "      <td>31</td>\n",
       "      <td>10400</td>\n",
       "      <td>POLYGON ((445292.636 4649795.935, 445292.560 4...</td>\n",
       "      <td>548357.927006</td>\n",
       "      <td>17_31_10400</td>\n",
       "    </tr>\n",
       "  </tbody>\n",
       "</table>\n",
       "</div>"
      ],
      "text/plain": [
       "   STATEFP10  COUNTYFP10  TRACTCE10  \\\n",
       "0         17          31      10100   \n",
       "1         17          31      10201   \n",
       "2         17          31      10202   \n",
       "3         17          31      10300   \n",
       "4         17          31      10400   \n",
       "\n",
       "                                            the_geom           area  \\\n",
       "0  POLYGON ((444549.916 4652143.244, 444519.037 4...  380786.520453   \n",
       "1  POLYGON ((443435.773 4651384.784, 443429.832 4...  504106.868051   \n",
       "2  POLYGON ((444070.591 4651397.512, 444070.177 4...  351465.386243   \n",
       "3  POLYGON ((444506.712 4651405.077, 444506.245 4...  471676.982940   \n",
       "4  POLYGON ((445292.636 4649795.935, 445292.560 4...  548357.927006   \n",
       "\n",
       "       GEOID10  \n",
       "0  17_31_10100  \n",
       "1  17_31_10201  \n",
       "2  17_31_10202  \n",
       "3  17_31_10300  \n",
       "4  17_31_10400  "
      ]
     },
     "execution_count": 99,
     "metadata": {},
     "output_type": "execute_result"
    }
   ],
   "source": [
    "tract_gdf.head()\n"
   ]
  },
  {
   "cell_type": "code",
   "execution_count": 100,
   "id": "4d362108",
   "metadata": {},
   "outputs": [],
   "source": [
    "tract_centroid = tract_gdf['the_geom'].centroid\n",
    "tract_polygon = tract_gdf['the_geom']"
   ]
  },
  {
   "cell_type": "code",
   "execution_count": 101,
   "id": "c2a8c2c4",
   "metadata": {},
   "outputs": [],
   "source": [
    "# self connections not included here. Added later in convolution layers."
   ]
  },
  {
   "cell_type": "markdown",
   "id": "4b482599",
   "metadata": {},
   "source": [
    "# 1. Euclidean"
   ]
  },
  {
   "cell_type": "code",
   "execution_count": 102,
   "id": "13da1ade",
   "metadata": {},
   "outputs": [],
   "source": [
    "euc_dist = tract_centroid.apply(lambda x: tract_centroid.distance(x)).to_numpy().flatten()"
   ]
  },
  {
   "cell_type": "code",
   "execution_count": 103,
   "id": "0f757701",
   "metadata": {},
   "outputs": [],
   "source": [
    "census_adj = pd.DataFrame(np.array([np.repeat(tract_gdf['GEOID10'].to_numpy(), len(tract_gdf)), \n",
    "                       np.tile(tract_gdf['GEOID10'].to_numpy(), len(tract_gdf)),\n",
    "                       euc_dist]).T, columns=['start_tract','end_tract','euc'])"
   ]
  },
  {
   "cell_type": "code",
   "execution_count": 104,
   "id": "c012ab9c",
   "metadata": {},
   "outputs": [],
   "source": [
    "th = 3000\n",
    "# around 5% considered connected (1), the rest decays with distance\n",
    "census_adj.loc[(0<census_adj['euc'])&(census_adj['euc']<3000),'euc']  = 1\n",
    "census_adj.loc[census_adj['euc']>3000,'euc']  = 3000 / census_adj.loc[census_adj['euc']>3000]['euc']"
   ]
  },
  {
   "cell_type": "markdown",
   "id": "6ba5958b",
   "metadata": {},
   "source": [
    "# 2. Adjacent Connection"
   ]
  },
  {
   "cell_type": "code",
   "execution_count": 105,
   "id": "6c6aa316",
   "metadata": {},
   "outputs": [],
   "source": [
    "touch = tract_polygon.apply(lambda x: tract_polygon.touches(x)).to_numpy(dtype=np.float32).flatten()"
   ]
  },
  {
   "cell_type": "code",
   "execution_count": 106,
   "id": "c399c7cb",
   "metadata": {},
   "outputs": [],
   "source": [
    "census_adj['con'] = touch"
   ]
  },
  {
   "cell_type": "markdown",
   "id": "ad46f627",
   "metadata": {},
   "source": [
    "# 3. Functional Similarity"
   ]
  },
  {
   "cell_type": "code",
   "execution_count": 107,
   "id": "52334aac",
   "metadata": {},
   "outputs": [],
   "source": [
    "spatial = pd.read_csv(project_data_dir+\"data_processed/census_tract/other/spatial.csv\")\n",
    "spatial['pct_adults'] = spatial['pct25_34yrs']+spatial['pct35_50yrs']\n",
    "for i in ['tot_population', 'jobs', 'avg_tt_to_work','inc_per_capita',\n",
    "          'entertainment', 'restaurant', 'school', 'shop']:\n",
    "    spatial.loc[:,i] = spatial[i]/spatial[i].max()\n",
    "s = spatial[['tot_population','pct_adults','pctover65yrs',\n",
    "         'pctwhite_alone', 'jobs', \n",
    "         'pctPTcommute','avg_tt_to_work','inc_per_capita',\n",
    "         'entertainment', 'restaurant', 'school', 'shop']]"
   ]
  },
  {
   "cell_type": "code",
   "execution_count": 108,
   "id": "2bda0d3a",
   "metadata": {},
   "outputs": [],
   "source": [
    "n = len(spatial)"
   ]
  },
  {
   "cell_type": "code",
   "execution_count": 109,
   "id": "b8f850b4",
   "metadata": {},
   "outputs": [
    {
     "name": "stderr",
     "output_type": "stream",
     "text": [
      "<ipython-input-109-03ed83a4d2be>:4: RuntimeWarning: divide by zero encountered in true_divide\n",
      "  s4 = s3[(s3 > 0)].min()/s3\n"
     ]
    }
   ],
   "source": [
    "s1 = np.transpose(np.tile(s, (n,1,1)),(1,0,2))\n",
    "s2 = np.tile(s, (n,1,1))\n",
    "s3 = np.sum(np.sqrt((s1-s2)*(s1-s2)), axis=2)\n",
    "s4 = s3[(s3 > 0)].min()/s3\n",
    "s4 = s4.flatten()\n",
    "s4[~np.isfinite(s4)] = 0"
   ]
  },
  {
   "cell_type": "code",
   "execution_count": 110,
   "id": "00e6f70e",
   "metadata": {},
   "outputs": [
    {
     "ename": "KeyError",
     "evalue": "'STATION_ID'",
     "output_type": "error",
     "traceback": [
      "\u001b[0;31m---------------------------------------------------------------------------\u001b[0m",
      "\u001b[0;31mKeyError\u001b[0m                                  Traceback (most recent call last)",
      "\u001b[0;32m~/anaconda3/envs/qingyi/lib/python3.8/site-packages/pandas/core/indexes/base.py\u001b[0m in \u001b[0;36mget_loc\u001b[0;34m(self, key, method, tolerance)\u001b[0m\n\u001b[1;32m   3620\u001b[0m             \u001b[0;32mtry\u001b[0m\u001b[0;34m:\u001b[0m\u001b[0;34m\u001b[0m\u001b[0;34m\u001b[0m\u001b[0m\n\u001b[0;32m-> 3621\u001b[0;31m                 \u001b[0;32mreturn\u001b[0m \u001b[0mself\u001b[0m\u001b[0;34m.\u001b[0m\u001b[0m_engine\u001b[0m\u001b[0;34m.\u001b[0m\u001b[0mget_loc\u001b[0m\u001b[0;34m(\u001b[0m\u001b[0mcasted_key\u001b[0m\u001b[0;34m)\u001b[0m\u001b[0;34m\u001b[0m\u001b[0;34m\u001b[0m\u001b[0m\n\u001b[0m\u001b[1;32m   3622\u001b[0m             \u001b[0;32mexcept\u001b[0m \u001b[0mKeyError\u001b[0m \u001b[0;32mas\u001b[0m \u001b[0merr\u001b[0m\u001b[0;34m:\u001b[0m\u001b[0;34m\u001b[0m\u001b[0;34m\u001b[0m\u001b[0m\n",
      "\u001b[0;32m~/anaconda3/envs/qingyi/lib/python3.8/site-packages/pandas/_libs/index.pyx\u001b[0m in \u001b[0;36mpandas._libs.index.IndexEngine.get_loc\u001b[0;34m()\u001b[0m\n",
      "\u001b[0;32m~/anaconda3/envs/qingyi/lib/python3.8/site-packages/pandas/_libs/index.pyx\u001b[0m in \u001b[0;36mpandas._libs.index.IndexEngine.get_loc\u001b[0;34m()\u001b[0m\n",
      "\u001b[0;32mpandas/_libs/hashtable_class_helper.pxi\u001b[0m in \u001b[0;36mpandas._libs.hashtable.PyObjectHashTable.get_item\u001b[0;34m()\u001b[0m\n",
      "\u001b[0;32mpandas/_libs/hashtable_class_helper.pxi\u001b[0m in \u001b[0;36mpandas._libs.hashtable.PyObjectHashTable.get_item\u001b[0;34m()\u001b[0m\n",
      "\u001b[0;31mKeyError\u001b[0m: 'STATION_ID'",
      "\nThe above exception was the direct cause of the following exception:\n",
      "\u001b[0;31mKeyError\u001b[0m                                  Traceback (most recent call last)",
      "\u001b[0;32m<ipython-input-110-a698f86d52fa>\u001b[0m in \u001b[0;36m<module>\u001b[0;34m\u001b[0m\n\u001b[0;32m----> 1\u001b[0;31m \u001b[0mids\u001b[0m\u001b[0;34m=\u001b[0m\u001b[0mspatial\u001b[0m\u001b[0;34m[\u001b[0m\u001b[0;34m'STATION_ID'\u001b[0m\u001b[0;34m]\u001b[0m\u001b[0;34m.\u001b[0m\u001b[0mastype\u001b[0m\u001b[0;34m(\u001b[0m\u001b[0mint\u001b[0m\u001b[0;34m)\u001b[0m\u001b[0;34m.\u001b[0m\u001b[0mto_numpy\u001b[0m\u001b[0;34m(\u001b[0m\u001b[0;34m)\u001b[0m\u001b[0;34m\u001b[0m\u001b[0;34m\u001b[0m\u001b[0m\n\u001b[0m\u001b[1;32m      2\u001b[0m \u001b[0mi1\u001b[0m \u001b[0;34m=\u001b[0m \u001b[0mnp\u001b[0m\u001b[0;34m.\u001b[0m\u001b[0mtranspose\u001b[0m\u001b[0;34m(\u001b[0m\u001b[0mnp\u001b[0m\u001b[0;34m.\u001b[0m\u001b[0mtile\u001b[0m\u001b[0;34m(\u001b[0m\u001b[0mids\u001b[0m\u001b[0;34m,\u001b[0m \u001b[0;34m(\u001b[0m\u001b[0mn\u001b[0m\u001b[0;34m,\u001b[0m\u001b[0;36m1\u001b[0m\u001b[0;34m)\u001b[0m\u001b[0;34m)\u001b[0m\u001b[0;34m,\u001b[0m \u001b[0;34m(\u001b[0m\u001b[0;36m1\u001b[0m\u001b[0;34m,\u001b[0m\u001b[0;36m0\u001b[0m\u001b[0;34m)\u001b[0m\u001b[0;34m)\u001b[0m\u001b[0;34m.\u001b[0m\u001b[0mflatten\u001b[0m\u001b[0;34m(\u001b[0m\u001b[0;34m)\u001b[0m\u001b[0;34m\u001b[0m\u001b[0;34m\u001b[0m\u001b[0m\n\u001b[1;32m      3\u001b[0m \u001b[0mi2\u001b[0m \u001b[0;34m=\u001b[0m \u001b[0mnp\u001b[0m\u001b[0;34m.\u001b[0m\u001b[0mtile\u001b[0m\u001b[0;34m(\u001b[0m\u001b[0mids\u001b[0m\u001b[0;34m,\u001b[0m \u001b[0;34m(\u001b[0m\u001b[0mn\u001b[0m\u001b[0;34m,\u001b[0m\u001b[0;36m1\u001b[0m\u001b[0;34m)\u001b[0m\u001b[0;34m)\u001b[0m\u001b[0;34m.\u001b[0m\u001b[0mflatten\u001b[0m\u001b[0;34m(\u001b[0m\u001b[0;34m)\u001b[0m\u001b[0;34m\u001b[0m\u001b[0;34m\u001b[0m\u001b[0m\n",
      "\u001b[0;32m~/anaconda3/envs/qingyi/lib/python3.8/site-packages/pandas/core/frame.py\u001b[0m in \u001b[0;36m__getitem__\u001b[0;34m(self, key)\u001b[0m\n\u001b[1;32m   3503\u001b[0m             \u001b[0;32mif\u001b[0m \u001b[0mself\u001b[0m\u001b[0;34m.\u001b[0m\u001b[0mcolumns\u001b[0m\u001b[0;34m.\u001b[0m\u001b[0mnlevels\u001b[0m \u001b[0;34m>\u001b[0m \u001b[0;36m1\u001b[0m\u001b[0;34m:\u001b[0m\u001b[0;34m\u001b[0m\u001b[0;34m\u001b[0m\u001b[0m\n\u001b[1;32m   3504\u001b[0m                 \u001b[0;32mreturn\u001b[0m \u001b[0mself\u001b[0m\u001b[0;34m.\u001b[0m\u001b[0m_getitem_multilevel\u001b[0m\u001b[0;34m(\u001b[0m\u001b[0mkey\u001b[0m\u001b[0;34m)\u001b[0m\u001b[0;34m\u001b[0m\u001b[0;34m\u001b[0m\u001b[0m\n\u001b[0;32m-> 3505\u001b[0;31m             \u001b[0mindexer\u001b[0m \u001b[0;34m=\u001b[0m \u001b[0mself\u001b[0m\u001b[0;34m.\u001b[0m\u001b[0mcolumns\u001b[0m\u001b[0;34m.\u001b[0m\u001b[0mget_loc\u001b[0m\u001b[0;34m(\u001b[0m\u001b[0mkey\u001b[0m\u001b[0;34m)\u001b[0m\u001b[0;34m\u001b[0m\u001b[0;34m\u001b[0m\u001b[0m\n\u001b[0m\u001b[1;32m   3506\u001b[0m             \u001b[0;32mif\u001b[0m \u001b[0mis_integer\u001b[0m\u001b[0;34m(\u001b[0m\u001b[0mindexer\u001b[0m\u001b[0;34m)\u001b[0m\u001b[0;34m:\u001b[0m\u001b[0;34m\u001b[0m\u001b[0;34m\u001b[0m\u001b[0m\n\u001b[1;32m   3507\u001b[0m                 \u001b[0mindexer\u001b[0m \u001b[0;34m=\u001b[0m \u001b[0;34m[\u001b[0m\u001b[0mindexer\u001b[0m\u001b[0;34m]\u001b[0m\u001b[0;34m\u001b[0m\u001b[0;34m\u001b[0m\u001b[0m\n",
      "\u001b[0;32m~/anaconda3/envs/qingyi/lib/python3.8/site-packages/pandas/core/indexes/base.py\u001b[0m in \u001b[0;36mget_loc\u001b[0;34m(self, key, method, tolerance)\u001b[0m\n\u001b[1;32m   3621\u001b[0m                 \u001b[0;32mreturn\u001b[0m \u001b[0mself\u001b[0m\u001b[0;34m.\u001b[0m\u001b[0m_engine\u001b[0m\u001b[0;34m.\u001b[0m\u001b[0mget_loc\u001b[0m\u001b[0;34m(\u001b[0m\u001b[0mcasted_key\u001b[0m\u001b[0;34m)\u001b[0m\u001b[0;34m\u001b[0m\u001b[0;34m\u001b[0m\u001b[0m\n\u001b[1;32m   3622\u001b[0m             \u001b[0;32mexcept\u001b[0m \u001b[0mKeyError\u001b[0m \u001b[0;32mas\u001b[0m \u001b[0merr\u001b[0m\u001b[0;34m:\u001b[0m\u001b[0;34m\u001b[0m\u001b[0;34m\u001b[0m\u001b[0m\n\u001b[0;32m-> 3623\u001b[0;31m                 \u001b[0;32mraise\u001b[0m \u001b[0mKeyError\u001b[0m\u001b[0;34m(\u001b[0m\u001b[0mkey\u001b[0m\u001b[0;34m)\u001b[0m \u001b[0;32mfrom\u001b[0m \u001b[0merr\u001b[0m\u001b[0;34m\u001b[0m\u001b[0;34m\u001b[0m\u001b[0m\n\u001b[0m\u001b[1;32m   3624\u001b[0m             \u001b[0;32mexcept\u001b[0m \u001b[0mTypeError\u001b[0m\u001b[0;34m:\u001b[0m\u001b[0;34m\u001b[0m\u001b[0;34m\u001b[0m\u001b[0m\n\u001b[1;32m   3625\u001b[0m                 \u001b[0;31m# If we have a listlike key, _check_indexing_error will raise\u001b[0m\u001b[0;34m\u001b[0m\u001b[0;34m\u001b[0m\u001b[0;34m\u001b[0m\u001b[0m\n",
      "\u001b[0;31mKeyError\u001b[0m: 'STATION_ID'"
     ]
    }
   ],
   "source": [
    "ids=spatial['STATION_ID'].astype(int).to_numpy()\n",
    "i1 = np.transpose(np.tile(ids, (n,1)), (1,0)).flatten()\n",
    "i2 = np.tile(ids, (n,1)).flatten()"
   ]
  },
  {
   "cell_type": "code",
   "execution_count": null,
   "id": "dc99b957",
   "metadata": {},
   "outputs": [],
   "source": [
    "func_adj = pd.DataFrame(np.array([np.repeat(spatial['GEOID10'].to_numpy(), n), \n",
    "                       np.tile(spatial['GEOID10'].to_numpy(), n),\n",
    "                       s4]).T, columns=['start_tract','end_tract','func'])"
   ]
  },
  {
   "cell_type": "code",
   "execution_count": null,
   "id": "e4952346",
   "metadata": {},
   "outputs": [],
   "source": [
    "census_adj = pd.merge(census_adj, func_adj, on=['start_tract', 'end_tract'], how='left').fillna(0)"
   ]
  },
  {
   "cell_type": "code",
   "execution_count": null,
   "id": "1e571a42",
   "metadata": {},
   "outputs": [],
   "source": [
    "import matplotlib.pyplot as plt\n",
    "plt.imshow(func_adj.pivot('start_tract','end_tract','func').to_numpy(dtype=np.float32))\n",
    "plt.colorbar();"
   ]
  },
  {
   "cell_type": "code",
   "execution_count": null,
   "id": "29779cc1",
   "metadata": {},
   "outputs": [],
   "source": [
    "census_adj.to_csv(data_dir+\"data_processed/census_tract/other/adjlist.csv\", index=False)"
   ]
  },
  {
   "cell_type": "code",
   "execution_count": null,
   "id": "4a39967d",
   "metadata": {},
   "outputs": [],
   "source": []
  }
 ],
 "metadata": {
  "kernelspec": {
   "display_name": "qingyi",
   "language": "python",
   "name": "qingyi"
  },
  "language_info": {
   "codemirror_mode": {
    "name": "ipython",
    "version": 3
   },
   "file_extension": ".py",
   "mimetype": "text/x-python",
   "name": "python",
   "nbconvert_exporter": "python",
   "pygments_lexer": "ipython3",
   "version": "3.8.3"
  }
 },
 "nbformat": 4,
 "nbformat_minor": 5
}
