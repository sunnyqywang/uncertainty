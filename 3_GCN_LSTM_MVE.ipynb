{
 "cells": [
  {
   "cell_type": "code",
   "execution_count": 25,
   "metadata": {},
   "outputs": [
    {
     "name": "stdout",
     "output_type": "stream",
     "text": [
      "The autoreload extension is already loaded. To reload it, use:\n",
      "  %reload_ext autoreload\n"
     ]
    }
   ],
   "source": [
    "import os\n",
    "import sys\n",
    "sys.path.append('models/')\n",
    "sys.path.append('eval/')\n",
    "sys.path.append('process_data/')\n",
    "\n",
    "import libpysal\n",
    "import matplotlib.pyplot as plt\n",
    "import numpy as np\n",
    "import pandas as pd\n",
    "import pickle as pkl\n",
    "import scipy\n",
    "from scipy.stats import poisson, norm, laplace, lognorm\n",
    "\n",
    "import itertools\n",
    "\n",
    "# custom GCNN classes\n",
    "from class_dataset import CTA_Data\n",
    "from class_gcn_lstm import GCN_LSTM\n",
    "from class_mve_loss import MVELoss\n",
    "\n",
    "import torch\n",
    "import torch.nn as nn\n",
    "import torch.nn.functional as F\n",
    "import torch.optim as optim\n",
    "from torch.utils.data import DataLoader\n",
    "from torch.utils.tensorboard import SummaryWriter\n",
    "\n",
    "import util_gcnn\n",
    "import util_eval\n",
    "import util_plot\n",
    "from setup import *\n",
    "\n",
    "%matplotlib inline\n",
    "%load_ext autoreload\n",
    "%autoreload 2\n",
    "plt.rcParams.update({'font.size': 11})"
   ]
  },
  {
   "cell_type": "code",
   "execution_count": 23,
   "metadata": {},
   "outputs": [],
   "source": [
    "def post_process_dist(dist, loc, scale):\n",
    "    \n",
    "    if dist == \"lognorm\":\n",
    "        out_predict = np.exp(loc - np.power(scale,2))\n",
    "        out_std = np.mean(np.sqrt((np.exp(scale * scale)-1)*(np.exp(2*loc+scale * scale))))\n",
    "    elif dist == 'tnorm':\n",
    "        out_predict = loc\n",
    "        out_std = np.mean(scale)\n",
    "    elif dist == 'laplace':\n",
    "        out_predict = loc\n",
    "        out_std = np.mean(scale) * np.sqrt(2)\n",
    "    elif dist == 'poisson':\n",
    "        out_predict = loc\n",
    "        out_std = np.mean(np.sqrt(loc))\n",
    "    elif dist == 'norm':\n",
    "        out_predict = loc\n",
    "        out_std = np.mean(scale)\n",
    "        \n",
    "    return out_predict, out_std\n",
    " \n",
    "    \n",
    "def post_process_pi(dist, loc, scale, z):\n",
    "    \n",
    "    if dist == \"lognorm\":\n",
    "#         predict = np.exp(loc - np.power(scale,2))\n",
    "#         lb = np.exp(predict - z*scale)\n",
    "#         ub = np.exp(predict + z*scale)\n",
    "        lb, ub = lognorm.interval(z, loc, scale)\n",
    "    elif dist == 'tnorm':\n",
    "#         lb = np.max([0, loc - z*scale])\n",
    "#         ub = loc + z*scale\n",
    "        lb, ub = norm.interval(z, loc, scale)\n",
    "        lb = np.max([0, lb])\n",
    "    elif dist == 'laplace':\n",
    "#         predict = loc\n",
    "#         lb = predict + scale * np.log(2*z)\n",
    "#         ub = predict - scale * np.log(2-2*(1-z))\n",
    "        lb, ub = laplace.interval(z, loc, scale)\n",
    "    elif dist == 'poisson':\n",
    "        predict = loc\n",
    "        lb,ub = poisson.interval(z, loc)        \n",
    "    elif dist == 'norm':\n",
    "        lb, ub = norm.interval(z, loc, scale)\n",
    "\n",
    "    return lb, ub\n",
    "\n",
    "def evaluate(args, dist, dataloader, z, y_eval):\n",
    "    \n",
    "    val_out_loc, val_out_scale, val_loss = util_gcnn.testset_output_gcn(dataloader, args.MeanOnly, args.Homoskedastic, net, criterion, \n",
    "            adj_torch, spatial_torch, device, n_time)\n",
    "    val_out_predict, val_out_std = post_process_dist(dist, val_out_loc, val_out_scale)\n",
    "\n",
    "    val_mae, val_mse, _, _, _ = util_eval.eval_mean(val_out_predict, y_eval, \"\")\n",
    "\n",
    "    if args.LossFunc == 'mve':\n",
    "        lb, ub = post_process_pi(dist, val_out_loc, val_out_scale, z)\n",
    "        val_mpiw, val_picp = util_eval.eval_pi(lb, ub, y_eval)\n",
    "    else:\n",
    "        val_mpiw = 0\n",
    "        val_picp = 0\n",
    "        \n",
    "    return val_loss, val_mae, val_mse, val_mpiw, val_picp, val_out_std, np.mean(val_out_predict)"
   ]
  },
  {
   "cell_type": "code",
   "execution_count": 5,
   "metadata": {},
   "outputs": [],
   "source": [
    "class dotdict(dict):\n",
    "    \"\"\"dot.notation access to dictionary attributes\"\"\"\n",
    "    __getattr__ = dict.get\n",
    "    __setattr__ = dict.__setitem__\n",
    "    __delattr__ = dict.__delitem__"
   ]
  },
  {
   "cell_type": "code",
   "execution_count": 18,
   "metadata": {},
   "outputs": [],
   "source": [
    "project_dir = \"/home/jtl/Dropbox (MIT)/project_uncertainty_quantification/\"\n",
    "\n",
    "# parser = argparse.ArgumentParser(fromfile_prefix_chars='@')\n",
    "\n",
    "# parser.add_argument(\"-p\", \"--Period\", help=\"Study period: before/after\", type=str, default='before')    \n",
    "# parser.add_argument(\"-ph\", \"--PredictHorizon\", help=\"Predict horizon\", default=1)\n",
    "# parser.add_argument(\"-ts\", \"--TimeSize\", help=\"Time aggregation\", default=4)\n",
    "# parser.add_argument(\"-df\", \"--Difference\", help=\"Whether to difference\", default=1)\n",
    "# parser.add_argument(\"-l\", \"--Lookback\", help=\"Lookback period\", default=2)\n",
    "# parser.add_argument(\"-a\", \"--Adj\", help=\"Adjacency matrix type\", default=[\"func\",\"euc\",\"con\",\"net\"])\n",
    "# parser.add_argument(\"-d\", \"--Dist\", help=\"Lognorm/Tnorm distribution\", default='tnorm')\n",
    "# parser.add_argument(\"-ls\", \"--LossFunc\", help=\"Loss function mve/mse\", default='mve')\n",
    "# parser.add_argument(\"-m\", \"--MeanOnly\", help=\"Whether to output mean only or mean+variance\", default=0)\n",
    "# parser.add_argument(\"-hm\", \"--Homoskedastic\", help=\"Whether homo or hetero-skedastic variance is estimated\", default=0)\n",
    "# parser.add_argument(\"-te\", \"--TrainExtent\", help=\"Training Extent: downtown/all\", default='downtown')\n",
    "# parser.add_argument(\"-e\", \"--Epoch\", help=\"Number of training epochs\", default=500)\n",
    "# parser.add_argument(\"-lr\", \"--LearningRate\", help=\"Learning rate\", default=0.001)\n",
    "# parser.add_argument(\"-ms\", \"--ModelNumberStart\", help=\"Start number of models for each combination of the parameters\", type=int, default=-1)\n",
    "# parser.add_argument(\"-me\", \"--ModelNumberEnd\", help=\"End number of models for each combination of the parameters\", type=int, default=10)\n",
    "# parser.add_argument(\"-s\", \"--IncludeSpatial\", help=\"Whether to include spatial (demo+poi) information\", default=0)\n",
    "# parser.add_argument(\"-b\", \"--Bootstrap\", help=\"Whether to bootstrap training data\", default=0)\n",
    "# parser.add_argument(\"-of\", \"--OutFolder\", help=\"Output Folder\", default=\"\")\n",
    "# parser.add_argument(\"-sv\", \"--Save\", help=\"Whether to save models\", default=0)\n",
    "\n",
    "# args = parser.parse_args(['@arguments.txt'])\n",
    "\n",
    "# args.Period = args.Period.split(',')\n",
    "# args.Lookback = [int(x) for x in args.Lookback.split(',')]\n",
    "# args.Dist = args.Dist.split(',')\n",
    "# args.Difference = bool(int(args.Difference))\n",
    "# args.MeanOnly = bool(int(args.MeanOnly))\n",
    "# args.Homoskedastic = bool(int(args.Homoskedastic))\n",
    "# args.IncludeSpatial = bool(int(args.IncludeSpatial))\n",
    "# args.Save = bool(int(args.Save))\n",
    "# args.Bootstrap = bool(int(args.Bootstrap))\n",
    "\n",
    "args = dotdict({\"Period\": ['before'],\n",
    "       \"OutFolder\":\"220405\",\n",
    "       \"Lookback\":[2,4,6],\n",
    "       \"Dist\":[\"norm\"],\n",
    "       \"MeanOnly\":False,\n",
    "       \"ModelNumberStart\":0,\n",
    "       \"ModelNumberEnd\":1,\n",
    "       \"Adj\":[\"func\",\"euc\",\"con\",\"net\"],\n",
    "       \"Save\":False,\n",
    "       \"PredictHorizon\":1,\n",
    "       \"TimeSize\":4,\n",
    "       \"Difference\":True,\n",
    "       \"LossFunc\":\"mve\",\n",
    "       \"Homoskedastic\":False,\n",
    "       \"TrainExtent\":\"downtown\",\n",
    "       \"Epoch\":501,\n",
    "       \"LearningRate\":0.001,\n",
    "       \"IncludeSpatial\":False,\n",
    "       \"Bootstrap\":False})\n",
    "\n",
    "dropout_rate_list=[0.2,0.5]\n",
    "n_hid_units_list=[64,128]\n",
    "weight_decay_list = [0.0001, 0.001, 0.01, 0.1]\n",
    "ngc_list = [1,2]\n",
    "nlstm_list = [1,2]\n",
    "hps = list(itertools.product(dropout_rate_list, n_hid_units_list, weight_decay_list, nlstm_list, ngc_list))\n",
    "max_lookback = 6\n",
    "\n",
    "\n",
    "if args.ModelNumberStart == -1:\n",
    "    run_all = True\n",
    "else:\n",
    "    run_all = False\n",
    "\n",
    "predict_hzn = args.PredictHorizon\n",
    "time_size = args.TimeSize\n",
    "difference = args.Difference\n",
    "adj_type = args.Adj\n",
    "train_extent = args.TrainExtent\n",
    "\n",
    "device = torch.device(\"cuda:1\" if torch.cuda.is_available() else \"cpu\")\n",
    "z = 0.95\n",
    "n_time = 96 // time_size - 7\n"
   ]
  },
  {
   "cell_type": "code",
   "execution_count": 29,
   "metadata": {},
   "outputs": [
    {
     "name": "stdout",
     "output_type": "stream",
     "text": [
      "Period: before Predict Horizon: 1 Time Size: 4 Lookback: 2 \n",
      "adj: func_euc_con_net Dist: norm Train Extent: downtown\n",
      "Model  0\n",
      "192.17734932412907 107.42048311781609 705.1171428571429\n",
      "129.85020182084065 110.65730513649426 130.91685267857142\n",
      "108.39854820407167 94.19368489583333 101.55861607142857\n",
      "103.82446148930764 94.01558010057471 98.18325892857143\n",
      "101.7747525584941 93.50787984913794 95.95748883928572\n",
      "100.85904444480428 93.06757363505747 94.97970982142857\n",
      "100.17998644770408 93.54054418103448 95.375\n",
      "99.56615167734574 93.13671875 94.77073660714285\n",
      "99.30729426169881 93.23847207255747 94.83165178571429\n",
      "98.85267000782247 93.032400547773 94.66758928571429\n",
      "98.36898243183992 92.70913029813218 94.28159598214286\n",
      "98.46906887755102 93.42401894755747 95.07435267857143\n",
      "diverging. stop.\n",
      "finished training  0\n"
     ]
    }
   ],
   "source": [
    "for (period, dist) in itertools.product(args.Period, args.Dist):\n",
    "\n",
    "    writer_hp = SummaryWriter(project_dir+\"tensorboard/runs/test_\"+args.OutFolder+\"_\"+period+\"_\"+dist+\"/\")\n",
    "\n",
    "    for lookback in args.Lookback:\n",
    "\n",
    "        print(\"Period:\", period, \"Predict Horizon:\", predict_hzn, \"Time Size:\", time_size, \"Lookback:\", lookback, \"\\nadj:\", '_'.join(adj_type), \"Dist:\", dist, \"Train Extent:\", train_extent)\n",
    "\n",
    "        data, adj, spatial, downtown_filter = \\\n",
    "                util_gcnn.combine_datasources(project_dir, period, predict_hzn, time_size, difference, max_lookback, lookback)\n",
    "\n",
    "#         device = torch.device(\"cpu\")\n",
    "        trainloader, trainloader_test, valloader, testloader, adj_torch, spatial_torch, y_train_eval, y_val_eval, y_test_eval = \\\n",
    "                util_gcnn.prepare_for_torch(device, train_extent, data, adj, spatial, downtown_filter, adj_type, bootstrap=args.Bootstrap)\n",
    "        (num_train, _, _, n_modes) = data['x'][0].shape\n",
    "        num_test = len(y_test_eval)\n",
    "        num_val = len(y_val_eval)\n",
    "        n_stations = adj_torch.shape[0]\n",
    "        y_train_eval = np.squeeze(y_train_eval)\n",
    "        y_val_eval = np.squeeze(y_val_eval)\n",
    "        y_test_eval = np.squeeze(y_test_eval)\n",
    "\n",
    "        same_hp = False\n",
    "        if not args.IncludeSpatial:\n",
    "            spatial_torch = None\n",
    "            ndemo = 0\n",
    "        else:\n",
    "            ndemo = spatial.shape[1]\n",
    "\n",
    "        if run_all:\n",
    "            if os.path.isfile(project_dir+\"results/\"+args.OutFolder+\"_\"+period+\"/results.csv\"):\n",
    "                results = pd.read_csv(project_dir+\"results/\"+args.OutFolder+\"_\"+period+\"/results.csv\")\n",
    "                hp_run = results[(results['Period']==period)&(results['Distribution']==dist)&(results['Predict Horizon']==predict_hzn)&(results['Time Size']==time_size)&(results['Adjacency']=='_'.join(adj_type))& \\\n",
    "                        (results['Lookback']==lookback)&(results['Train Extent']=='downtown')&(results['spatial']==int(args.IncludeSpatial))] \n",
    "            else:\n",
    "                hp_run = []\n",
    "\n",
    "            if len(hp_run) != 0:\n",
    "                model_offset = hp_run['Model'].max()+1\n",
    "                hp_run = hp_run[['dropout','n_hid_units','weight_decay','nlstm','ngc']].to_numpy()\n",
    "                hp_run = [tuple(l) for l in hp_run]\n",
    "            else:\n",
    "                model_offset = 0\n",
    "\n",
    "            args.ModelNumberStart = 0\n",
    "            args.ModelNumberEnd = len(hps)\n",
    "            model_offset_2 = 0\n",
    "        else:\n",
    "            model_offset = 0\n",
    "            model_offset_2 = 0\n",
    "\n",
    "\n",
    "        for ii in range(args.ModelNumberStart, args.ModelNumberEnd):\n",
    "\n",
    "            if run_all: \n",
    "                hp_index = ii\n",
    "                if hps[hp_index] in hp_run:\n",
    "                    model_offset_2 += 1\n",
    "                    continue\n",
    "            else:\n",
    "                hp_index = np.random.choice(np.arange(0, len(hps)))\n",
    "\n",
    "            save_dir = project_dir+\"models/\"+args.OutFolder+\"_\"+period+\"_\"+dist+\"/\"\n",
    "            if not os.path.isdir(save_dir):\n",
    "                os.mkdir(save_dir)\n",
    "\n",
    "            save_dir += train_extent+\"_\"+'-'.join(adj_type)+\"_\"+str(predict_hzn)+\"_\"+str(time_size)+\"_\"+str(lookback)+\"_\"+str(ii+model_offset-model_offset_2)\n",
    "            writer = SummaryWriter(project_dir+\"tensorboard/runs/\"+args.OutFolder+\"_\"+period+\"_\"+dist+\"_train/\"+str(lookback)+\"_\"+str(ii+model_offset-model_offset_2)+\"/\")\n",
    "\n",
    "            best = 0\n",
    "            best_epoch = 0\n",
    "\n",
    "            dropout = hps[hp_index][0]\n",
    "            n_hid_units = hps[hp_index][1]\n",
    "            weight_decay = hps[hp_index][2]\n",
    "            nlstm = hps[hp_index][3]\n",
    "            ngc = hps[hp_index][4]\n",
    "\n",
    "            print('Model ', ii+model_offset-model_offset_2)\n",
    "\n",
    "            if args.LossFunc == 'mve':\n",
    "                criterion = MVELoss(dist)\n",
    "            elif args.LossFunc == 'mse':\n",
    "                criterion = nn.MSELoss()\n",
    "            else:\n",
    "                print(\"loss function not valid.\")\n",
    "                sys.exit()\n",
    "\n",
    "            net = GCN_LSTM(meanonly=args.MeanOnly, homo=args.Homoskedastic, nadj = len(adj_type), nmode=n_modes, nstation=n_stations, ntime=n_time, \n",
    "                    ndemo=ndemo,\n",
    "                    nhid_g=n_hid_units, ngc=ngc, nhid_l=n_hid_units, nlstm=nlstm, \n",
    "                    nhid_fc=n_hid_units, dropout=dropout)\n",
    "            net.to(device)\n",
    "\n",
    "            optimizer = optim.Adam(net.parameters(), lr=args.LearningRate, weight_decay=weight_decay)\n",
    "            ref1 = 0\n",
    "            ref2 = 0\n",
    "            success=True\n",
    "\n",
    "            for epoch in range(args.Epoch):\n",
    "\n",
    "                running_loss = 0.0\n",
    "\n",
    "                for i, batch_data in enumerate(trainloader, 0):\n",
    "\n",
    "                    net.train()\n",
    "\n",
    "                    # get the inputs; data is a list of [inputs, labels, history, quarter of the day]\n",
    "                    batch_x, batch_y, batch_history, batch_weather, batch_los, batch_qod = batch_data\n",
    "                    batch_size=len(batch_x)\n",
    "\n",
    "                    batch_x = batch_x.float()\n",
    "                    batch_y = torch.squeeze(batch_y).float()\n",
    "                    batch_history = batch_history.float()\n",
    "                    batch_qod = batch_qod.view(-1,1)\n",
    "                    batch_qod_onehot = torch.FloatTensor(batch_size, n_time)\n",
    "                    batch_qod_onehot.zero_()\n",
    "                    batch_qod_onehot.scatter_(1, batch_qod-6, 1)\n",
    "                    if dist == 'lognorm':\n",
    "                        batch_history = torch.log(batch_history+0.00001)\n",
    "\n",
    "                    batch_x, batch_y, batch_history, batch_weather, batch_los, batch_qod_onehot = \\\n",
    "                            batch_x.to(device), batch_y.to(device), batch_history.to(device), \\\n",
    "                            batch_weather.to(device), batch_los.to(device), batch_qod_onehot.to(device)\n",
    "\n",
    "                    # zero the parameter gradients\n",
    "                    optimizer.zero_grad()\n",
    "\n",
    "                    # forward \n",
    "                    outputs = net(batch_x, None, adj_torch, batch_history, spatial_torch, \n",
    "                            batch_weather, batch_los, batch_qod_onehot, 1)\n",
    "\n",
    "                    if args.MeanOnly:\n",
    "                        output_loc = outputs\n",
    "                        loss = criterion(output_loc, target=batch_y)\n",
    "                    else:\n",
    "                        if not args.Homoskedastic:\n",
    "                            output_loc = outputs[:batch_size,:]\n",
    "                            output_scale = outputs[batch_size:,:]\n",
    "                        else:\n",
    "                            output_loc, output_scale = outputs\n",
    "\n",
    "                        loss = criterion(output_loc, output_scale, batch_y)\n",
    "\n",
    "                    # backward\n",
    "                    loss.backward()\n",
    "\n",
    "                    # optimize\n",
    "                    optimizer.step()\n",
    "\n",
    "                    running_loss += loss.item()\n",
    "\n",
    "                    if torch.sum(torch.isnan(output_loc)) > 0:\n",
    "                        success=False\n",
    "                        break\n",
    "\n",
    "                if not success:\n",
    "                    break\n",
    "\n",
    "                if epoch % 5 == 0:\n",
    "#                     print('[%d] training loss: %.3f' %\n",
    "#                             (epoch + 1, running_loss/num_train), end = '\\t')\n",
    "                    net.eval()\n",
    "\n",
    "                    tr_loss, tr_mae, tr_mse, tr_mpiw, tr_picp,a,b = evaluate(args, dist, trainloader_test, z, y_train_eval)\n",
    "\n",
    "                    writer.add_scalar(\"Loss/Train\", running_loss/num_train, epoch+1)\n",
    "                    writer.add_scalar(\"MAE/Train\", tr_mae, epoch+1)\n",
    "                    writer.add_scalar(\"MPIW/Train\", tr_mpiw, epoch+1)\n",
    "                    writer.add_scalar(\"PICP/Train\", tr_picp, epoch+1)\n",
    "\n",
    "\n",
    "                    val_loss, val_mae, val_mse, val_mpiw, val_picp,c,d = evaluate(args, dist, valloader, z, y_val_eval)\n",
    "\n",
    "                    writer.add_scalar(\"Loss/Validation\", val_loss/num_val, epoch+1)\n",
    "                    writer.add_scalar(\"MAE/Validation\", val_mae, epoch+1)\n",
    "                    writer.add_scalar(\"MPIW/Validation\", val_mpiw, epoch+1)\n",
    "                    writer.add_scalar(\"PICP/Validation\", val_picp, epoch+1)\n",
    "\n",
    "                    test_loss, test_mae, test_mse, test_mpiw, test_picp,_,_ = evaluate(args, dist, testloader, z, y_test_eval)\n",
    "\n",
    "                    writer.add_scalar(\"Loss/Test\", test_loss/num_val, epoch+1)\n",
    "                    writer.add_scalar(\"MAE/Test\", test_mae, epoch+1)\n",
    "                    writer.add_scalar(\"MPIW/Test\", test_mpiw, epoch+1)\n",
    "                    writer.add_scalar(\"PICP/Test\", test_picp, epoch+1)\n",
    "                    \n",
    "                    print(tr_loss/num_train, val_loss/num_val, test_loss/num_test)\n",
    "#                           print(a,b,c,d)\n",
    "                    if epoch > 40:\n",
    "                        if running_loss < best:\n",
    "                            best = running_loss\n",
    "                            best_epoch = epoch\n",
    "                            output_string = (tr_loss/num_train, tr_mae, tr_mse, tr_mpiw, tr_picp,\n",
    "                                val_loss/num_val, val_mae, val_mse, val_mpiw, val_picp,\n",
    "                                test_loss/num_test, test_mae, test_mse, test_mpiw, test_picp)\n",
    "                        if (np.abs(running_loss - ref1)/ref1<0.005) & (np.abs(running_loss - ref2)/ref2<0.005):\n",
    "                            print(\"early stopping at epoch\", epoch)\n",
    "                            break\n",
    "                        if (ref1 < running_loss) & (ref2 < ref1):\n",
    "                            print(\"diverging. stop.\")\n",
    "                            break\n",
    "\n",
    "                    else:\n",
    "                        best = running_loss\n",
    "                        best_epoch = epoch\n",
    "                        output_string = (tr_loss/num_train, tr_mae, tr_mse, tr_mpiw, tr_picp,\n",
    "                                val_loss/num_val, val_mae, val_mse, val_mpiw, val_picp,\n",
    "                                test_loss/num_test, test_mae, test_mse, test_mpiw, test_picp)\n",
    "\n",
    "                    ref2 = ref1\n",
    "                    ref1 = running_loss\n",
    "\n",
    "                    if (args.Save) & (best_epoch==epoch):\n",
    "                        torch.save({'epoch': epoch,\n",
    "                            'model_state_dict': net.state_dict(),\n",
    "                            'optimizer_state_dict': optimizer.state_dict(),\n",
    "                            'hyperparameters': (period, train_extent, train_extent, '_'.join(adj_type), ii, \n",
    "                                predict_hzn, time_size, lookback, \n",
    "                                dropout, n_hid_units, nlstm, ngc, weight_decay, args.Bootstrap)},\n",
    "                            save_dir+\"_\"+str(epoch)+\".pt\")\n",
    "\n",
    "                        files = glob.glob(save_dir+\"_*.pt\")\n",
    "\n",
    "            if args.Save:\n",
    "                for f in files:\n",
    "                    e = int(f.split(\"_\")[-1].split(\".\")[0])\n",
    "                    if e != best_epoch:\n",
    "                        os.remove(f)\n",
    "                    else:\n",
    "                        net.load_state_dict(torch.load(f)['model_state_dict'])\n",
    "\n",
    "            if not success:\n",
    "                print(\"trainig failed \", str(ii+model_offset-model_offset_2))\n",
    "            else:\n",
    "                print('finished training ', str(ii+model_offset-model_offset_2))\n",
    "\n",
    "            hparams_dict = {'train_extent':train_extent, 'adjacency': '_'.join(adj_type), \n",
    "                                'prediction_horizon': predict_hzn, 'time_size': time_size, 'lookback': lookback, \n",
    "                                'dropout': dropout, 'n_hid_units': n_hid_units, 'nlstm': nlstm, 'ngc': ngc, 'weight_decay': weight_decay, 'bootstrap': args.Bootstrap}\n",
    "            metrics_dict = {\"loss_train\": tr_loss/num_train, \"mae_train\": tr_mae, \"mse_train\": tr_mse, \"mpiw_train\": tr_mpiw, \"picp_train\": tr_picp,\n",
    "                                \"loss_val\": val_loss/num_val, \"mae_val\": val_mae, \"mse_val\": val_mse, \"mpiw_val\": val_mpiw, \"picp_val\": val_picp,\n",
    "                                \"loss_test\": test_loss/num_test, \"mae_test\": test_mae, \"mse_test\":test_mse, \"mpiw_test\": test_mpiw, \"picp_test\": test_picp}\n",
    "            writer_hp.add_hparams(hparams_dict, metrics_dict, run_name = str(lookback)+\"_\"+str(ii+model_offset-model_offset_2))\n",
    "\n",
    "            # Write to File\n",
    "#             if not os.path.isdir(project_dir+\"results/\"+args.OutFolder+\"_\"+period+\"/\"):\n",
    "#                 os.mkdir(project_dir+\"results/\"+args.OutFolder+\"_\"+period+\"/\")\n",
    "#             with open(project_dir+\"results/\"+args.OutFolder+\"_\"+period+\"/results.csv\",\"a\") as f:\n",
    "#                 f.write(\"%s,%s,%s,%s,%s,%s,%d,%d,%d,%d,%d,%.2f,%d,%d,%d,%.2E,%d,%.2f,%.2f,%.2f,%.6f,%.6f,%.2f,%.2f,%.2f,%.6f,%.6f,%.2f,%.2f,%.2f,%.6f,%.6f\\n\" % \n",
    "#                        ((\"GCN\", period, dist, train_extent, train_extent, '_'.join(adj_type), ii+model_offset-model_offset_2, \n",
    "#                             predict_hzn, time_size, lookback, args.Bootstrap, \n",
    "#                             dropout, n_hid_units, nlstm, ngc, weight_decay, spatial_torch is not None) + output_string))\n",
    "        break\n",
    "    break"
   ]
  },
  {
   "cell_type": "code",
   "execution_count": 53,
   "metadata": {},
   "outputs": [
    {
     "data": {
      "text/plain": [
       "99.16627066476005"
      ]
     },
     "execution_count": 53,
     "metadata": {},
     "output_type": "execute_result"
    }
   ],
   "source": [
    "ref1/num_train"
   ]
  },
  {
   "cell_type": "code",
   "execution_count": 54,
   "metadata": {},
   "outputs": [
    {
     "data": {
      "text/plain": [
       "100.13407570975167"
      ]
     },
     "execution_count": 54,
     "metadata": {},
     "output_type": "execute_result"
    }
   ],
   "source": [
    "ref2/num_train"
   ]
  },
  {
   "cell_type": "code",
   "execution_count": 51,
   "metadata": {},
   "outputs": [
    {
     "data": {
      "text/plain": [
       "99.29035202337771"
      ]
     },
     "execution_count": 51,
     "metadata": {},
     "output_type": "execute_result"
    }
   ],
   "source": [
    "running_loss/num_train"
   ]
  },
  {
   "cell_type": "code",
   "execution_count": 45,
   "metadata": {},
   "outputs": [
    {
     "name": "stdout",
     "output_type": "stream",
     "text": [
      "mean tensor([0.0295, 0.0266, 0.0297, 0.0371, 0.0340, 0.0344, 0.0307, 0.0279, 0.0292,\n",
      "        0.0262, 0.0264, 0.0290, 0.0274, 0.0274, 0.0231, 0.0272, 0.0282, 0.0289],\n",
      "       device='cuda:1', grad_fn=<MeanBackward1>)\n",
      "var tensor([ 0.0127,  0.0009,  0.0078,  0.0034, -0.0033,  0.0098,  0.0060,  0.0066,\n",
      "         0.0119,  0.0017,  0.0111,  0.0034,  0.0103,  0.0124,  0.0069, -0.0057,\n",
      "         0.0005, -0.0040], device='cuda:1', grad_fn=<MeanBackward1>)\n"
     ]
    }
   ],
   "source": [
    "for name in net.named_parameters():\n",
    "    if name[0] == 'recent_on_history_mean.weight':\n",
    "        print('mean', torch.mean(name[1], dim=1))\n",
    "    if name[0] == 'recent_on_history_var.weight':\n",
    "        print('var', torch.mean(name[1], dim=1))\n",
    "        break"
   ]
  },
  {
   "cell_type": "code",
   "execution_count": 46,
   "metadata": {},
   "outputs": [
    {
     "data": {
      "text/plain": [
       "Parameter containing:\n",
       "tensor([[-0.0312,  0.1071,  0.0418,  ..., -0.0236, -0.0580, -0.1784],\n",
       "        [-0.0317,  0.0395,  0.0306,  ..., -0.0522, -0.0338, -0.2485],\n",
       "        [-0.0413,  0.1077,  0.0043,  ..., -0.0255, -0.0639, -0.1668],\n",
       "        ...,\n",
       "        [-0.0228, -0.0427, -0.0920,  ..., -0.1438, -0.0361, -0.1915],\n",
       "        [-0.0048,  0.0544,  0.0543,  ..., -0.1015, -0.0106, -0.1850],\n",
       "        [-0.0245,  0.0557,  0.0473,  ..., -0.0513, -0.0216, -0.2430]],\n",
       "       device='cuda:1', requires_grad=True)"
      ]
     },
     "execution_count": 46,
     "metadata": {},
     "output_type": "execute_result"
    }
   ],
   "source": [
    "name[1]"
   ]
  },
  {
   "cell_type": "code",
   "execution_count": 49,
   "metadata": {
    "scrolled": true
   },
   "outputs": [
    {
     "name": "stdout",
     "output_type": "stream",
     "text": [
      "tensor([[[0.0000, 0.0000, 0.0000,  ..., 0.2778, 0.0000, 0.3774],\n",
      "         [0.0000, 0.0000, 0.0000,  ..., 0.2021, 0.0000, 0.7780]],\n",
      "\n",
      "        [[0.0000, 0.0000, 0.0000,  ..., 0.2021, 0.0000, 0.7780],\n",
      "         [0.0000, 0.0000, 0.0000,  ..., 0.2912, 0.0000, 0.1939]],\n",
      "\n",
      "        [[0.0000, 0.0000, 0.0000,  ..., 0.2912, 0.0000, 0.1939],\n",
      "         [0.1686, 0.0000, 0.0000,  ..., 0.0000, 0.0000, 1.0616]],\n",
      "\n",
      "        [[0.1686, 0.0000, 0.0000,  ..., 0.0000, 0.0000, 1.0616],\n",
      "         [0.0026, 0.0000, 0.0000,  ..., 0.0921, 0.0000, 0.7103]],\n",
      "\n",
      "        [[0.0026, 0.0000, 0.0000,  ..., 0.0921, 0.0000, 0.7103],\n",
      "         [0.0000, 0.0000, 0.0000,  ..., 0.2032, 0.0000, 1.5568]]],\n",
      "       device='cuda:1', grad_fn=<SliceBackward0>)\n",
      "tensor([4.4625, 4.2414, 5.0716, 4.5212, 4.3018, 4.6418, 4.5233, 3.8145, 4.4233,\n",
      "        3.9323, 4.2319, 4.2283, 3.7733, 4.1148, 4.2311, 3.9268, 3.5367, 4.1300],\n",
      "       device='cuda:1', grad_fn=<SliceBackward0>)\n",
      "tensor([-2.5302, -2.6935, -2.7310, -1.5050, -1.7864, -1.3491, -2.3787, -2.5465,\n",
      "        -1.5634, -2.1293, -2.6159, -2.3352, -1.8198, -1.6431, -3.7678, -2.1151,\n",
      "        -1.2901, -2.3048], device='cuda:1', grad_fn=<SliceBackward0>)\n",
      "tensor([0.9886, 0.9858, 0.9938, 0.9892, 0.9866, 0.9905, 0.9893, 0.9784, 0.9881,\n",
      "        0.9808, 0.9857, 0.9856, 0.9775, 0.9839, 0.9857, 0.9807, 0.9717, 0.9842],\n",
      "       device='cuda:1', grad_fn=<SliceBackward0>)\n",
      "tensor([0.0738, 0.0634, 0.0612, 0.1817, 0.1435, 0.2060, 0.0848, 0.0727, 0.1732,\n",
      "        0.1063, 0.0681, 0.0883, 0.1395, 0.1620, 0.0226, 0.1076, 0.2158, 0.0907],\n",
      "       device='cuda:1', grad_fn=<SliceBackward0>)\n"
     ]
    }
   ],
   "source": [
    "a = util_gcnn.testset_output_gcn(valloader, args.MeanOnly, args.Homoskedastic, net, criterion, \n",
    "            adj_torch, spatial_torch, device, n_time, return_components=True)"
   ]
  },
  {
   "cell_type": "code",
   "execution_count": 41,
   "metadata": {},
   "outputs": [
    {
     "name": "stdout",
     "output_type": "stream",
     "text": [
      "tensor(12.6614, device='cuda:1', grad_fn=<MeanBackward0>)\n",
      "tensor(499.4590, device='cuda:1', grad_fn=<MeanBackward0>)\n",
      "tensor(0.0025, device='cuda:1', grad_fn=<MeanBackward0>)\n",
      "tensor(-0.0342, device='cuda:1', grad_fn=<MeanBackward0>)\n",
      "tensor(16.9579, device='cuda:1', grad_fn=<MeanBackward0>)\n",
      "tensor(103.3378, device='cuda:1', grad_fn=<MeanBackward0>)\n",
      "tensor(0.0224, device='cuda:1', grad_fn=<MeanBackward0>)\n"
     ]
    }
   ],
   "source": [
    "me = a[0]\n",
    "\n",
    "mv = a[1]\n",
    "\n",
    "for i in me:\n",
    "    print(torch.mean(i))\n",
    "\n",
    "for i in mv:\n",
    "    print(torch.mean(i))"
   ]
  },
  {
   "cell_type": "code",
   "execution_count": 18,
   "metadata": {},
   "outputs": [
    {
     "data": {
      "text/plain": [
       "<matplotlib.collections.PathCollection at 0x7f3149faea90>"
      ]
     },
     "execution_count": 18,
     "metadata": {},
     "output_type": "execute_result"
    },
    {
     "data": {
      "image/png": "[encoded data removed]",
      "text/plain": [
       "<Figure size 432x288 with 1 Axes>"
      ]
     },
     "metadata": {
      "needs_background": "light"
     },
     "output_type": "display_data"
    }
   ],
   "source": [
    "plt.scatter(test_out_predict, y_test_eval)"
   ]
  },
  {
   "cell_type": "code",
   "execution_count": 17,
   "metadata": {
    "scrolled": true
   },
   "outputs": [
    {
     "data": {
      "text/plain": [
       "<matplotlib.collections.PathCollection at 0x7f314f8c4f90>"
      ]
     },
     "execution_count": 17,
     "metadata": {},
     "output_type": "execute_result"
    },
    {
     "data": {
      "image/png": "[encoded data removed]",
      "text/plain": [
       "<Figure size 432x288 with 1 Axes>"
      ]
     },
     "metadata": {
      "needs_background": "light"
     },
     "output_type": "display_data"
    }
   ],
   "source": [
    "plt.scatter(train_out_predict, y_train_eval)"
   ]
  }
 ],
 "metadata": {
  "kernelspec": {
   "display_name": "Python 3",
   "language": "python",
   "name": "python3"
  },
  "language_info": {
   "codemirror_mode": {
    "name": "ipython",
    "version": 3
   },
   "file_extension": ".py",
   "mimetype": "text/x-python",
   "name": "python",
   "nbconvert_exporter": "python",
   "pygments_lexer": "ipython3",
   "version": "3.7.11"
  },
  "varInspector": {
   "cols": {
    "lenName": 16,
    "lenType": 16,
    "lenVar": 40
   },
   "kernels_config": {
    "python": {
     "delete_cmd_postfix": "",
     "delete_cmd_prefix": "del ",
     "library": "var_list.py",
     "varRefreshCmd": "print(var_dic_list())"
    },
    "r": {
     "delete_cmd_postfix": ") ",
     "delete_cmd_prefix": "rm(",
     "library": "var_list.r",
     "varRefreshCmd": "cat(var_dic_list()) "
    }
   },
   "types_to_exclude": [
    "module",
    "function",
    "builtin_function_or_method",
    "instance",
    "_Feature"
   ],
   "window_display": false
  }
 },
 "nbformat": 4,
 "nbformat_minor": 2
}
