{
 "cells": [
  {
   "cell_type": "code",
   "execution_count": 2,
   "id": "921f117b",
   "metadata": {},
   "outputs": [
    {
     "name": "stdout",
     "output_type": "stream",
     "text": [
      "The autoreload extension is already loaded. To reload it, use:\n",
      "  %reload_ext autoreload\n"
     ]
    }
   ],
   "source": [
    "import sys\n",
    "sys.path.append('eval/')\n",
    "sys.path.append('models/')\n",
    "sys.path.append('process_data/')\n",
    "\n",
    "import glob\n",
    "import itertools\n",
    "import matplotlib\n",
    "import matplotlib.pyplot as plt\n",
    "%matplotlib inline\n",
    "import numpy as np\n",
    "import pandas as pd\n",
    "import pickle as pkl\n",
    "import torch\n",
    "from scipy.stats import poisson, norm, laplace, lognorm\n",
    "\n",
    "from class_mve_loss import MVELoss\n",
    "\n",
    "import util_eval\n",
    "import util_gcnn, util_gat\n",
    "import util_plot\n",
    "import util_results\n",
    "\n",
    "from util_data import dotdict\n",
    "\n",
    "from default_parameters import *\n",
    "from setup import * \n",
    "\n",
    "%load_ext autoreload\n",
    "%autoreload 2\n",
    "plt.rcParams.update({'font.size': 9})"
   ]
  },
  {
   "cell_type": "code",
   "execution_count": 90,
   "id": "0689384c",
   "metadata": {},
   "outputs": [],
   "source": [
    "colors = {\"laplace\":\"cornflowerblue\", \"tnorm\":\"mediumseagreen\", \"norm\":\"salmon\", \"poisson\":\"plum\", \n",
    "          \"norm_ens\": \"peru\", \"norm_homo\":\"gray\"}\n",
    "label = {\"laplace\":\"LAP\", \"tnorm\":\"TG\", \"norm\":\"HetG\", \"poisson\":\"Pois\", \n",
    "          \"norm_ens\": \"GEns\", \"norm_homo\":\"HomoG\"}"
   ]
  },
  {
   "cell_type": "code",
   "execution_count": 4,
   "id": "e4baf220",
   "metadata": {},
   "outputs": [],
   "source": [
    "project_dir = \"/home/jtl/Dropbox (MIT)/project_uncertainty_quantification/\"\n",
    "\n",
    "args = dotdict({\"Lookback\":4,\n",
    "       \"Dist\":\"norm\",\n",
    "       \"MeanOnly\":False,\n",
    "       \"ModelNumberStart\":-1,\n",
    "       \"ModelNumberEnd\":0,\n",
    "       \"Adj\":[\"func\",\"euc\",\"con\",\"net\"],\n",
    "       \"Save\":False,\n",
    "       \"PredictHorizon\":1,\n",
    "       \"TimeSize\":4,\n",
    "       \"Difference\":True,\n",
    "       \"LossFunc\":\"mve\",\n",
    "       \"Homoskedastic\":False,\n",
    "       \"TrainExtent\":\"downtown\",\n",
    "       \"Epoch\":501,\n",
    "       \"LearningRate\":0.001,\n",
    "       \"IncludeSpatial\":False,\n",
    "       \"Bootstrap\":False})\n",
    "\n",
    "max_lookback = 6\n",
    "\n",
    "\n",
    "if args.ModelNumberStart == -1:\n",
    "    run_all = True\n",
    "else:\n",
    "    run_all = False\n",
    "\n",
    "predict_hzn = args.PredictHorizon\n",
    "time_size = args.TimeSize\n",
    "difference = args.Difference\n",
    "adj_type = args.Adj\n",
    "train_extent = args.TrainExtent\n",
    "out_folder = args.OutFolder\n",
    "lookback = 4\n",
    "adj_type = [\"func\",\"euc\",\"con\",\"net\"]\n",
    "\n",
    "downtown_stations = pd.read_csv(project_dir+\"data/data_processed/downtown_stations.csv\")\n",
    "criterion = MVELoss(dist=args.Dist)\n",
    "device = torch.device(\"cpu\")\n",
    "\n",
    "z=1.96"
   ]
  },
  {
   "cell_type": "code",
   "execution_count": 96,
   "id": "26f709d0",
   "metadata": {},
   "outputs": [],
   "source": [
    "out_folder = \"220405\"\n",
    "result_file = \"results.csv\"\n",
    "period = 'after'\n",
    "args.Model = \"GCN\"\n",
    "\n",
    "# df1 = pd.read_csv(project_dir+\"results/\"+out_folder+\"_\"+period+\"/\"+result_file)\n"
   ]
  },
  {
   "cell_type": "code",
   "execution_count": 97,
   "id": "9b426c00",
   "metadata": {},
   "outputs": [],
   "source": [
    "data, adj, spatial, downtown_filter = \\\n",
    "    util_gcnn.combine_datasources(project_dir, period, predict_hzn, time_size, difference, max_lookback, lookback)\n",
    "\n",
    "\n",
    "trainloader, trainloader_test, testloader, adj_torch, spatial_torch, y_train_eval, y_test_eval = \\\n",
    "    util_gcnn.prepare_for_torch(device, train_extent, data, adj, spatial, downtown_filter, adj_type, val=False)\n",
    "y_test_eval = np.squeeze(y_test_eval)\n",
    "\n",
    "(_, _, _, n_modes) = data['x'][0].shape\n",
    "n_stations = adj_torch.shape[0]\n",
    "n_time = 96 // time_size - 7"
   ]
  },
  {
   "cell_type": "code",
   "execution_count": 7,
   "id": "46164734",
   "metadata": {},
   "outputs": [],
   "source": [
    "# cal_error = []\n",
    "# model_number = []\n",
    "# lb = []\n",
    "# dst = []\n",
    "\n",
    "# for ii, lookback, dist in zip(df1['Model'], df1['Lookback'], df1['Distribution']):\n",
    "\n",
    "# Before, GCN\n",
    "# iis = [16, 29, 16, 15, 21]\n",
    "# lookbacks = [4, 6, 6, 4, 4]\n",
    "# dists = ['norm_homo', 'norm','tnorm','poisson','laplace']\n",
    "\n",
    "# After, GCN\n",
    "# iis = [33, 60, 19, 23, 21]\n",
    "# lookbacks = [6, 2, 6, 2, 6]\n",
    "# dists = ['norm_homo', 'norm','tnorm','poisson','laplace']\n",
    "\n",
    "# Before, GAT\n",
    "# iis = [73, 12, 110, 115, 49]\n",
    "# lookbacks = [4, 6, 4, 4, 4]\n",
    "# dists = ['norm_homo', 'norm','tnorm','poisson','laplace']\n",
    "\n",
    "# After, GAT\n",
    "# iis = [68, 50, 35, 63, 19]\n",
    "# lookbacks = [6, 4, 4, 4, 4]\n",
    "# dists = ['norm_homo', 'norm','tnorm','poisson','laplace']"
   ]
  },
  {
   "cell_type": "code",
   "execution_count": 98,
   "id": "8eba2d91",
   "metadata": {},
   "outputs": [
    {
     "name": "stdout",
     "output_type": "stream",
     "text": [
      "norm_homo\n",
      "0.035901317460317474\n",
      "norm\n",
      "0.06552163492063492\n",
      "tnorm\n",
      "0.024439730158730147\n",
      "poisson\n",
      "0.08463655555555556\n",
      "laplace\n",
      "0.02959582539682541\n"
     ]
    },
    {
     "data": {
      "image/png": "[encoded data removed]",
      "text/plain": [
       "<Figure size 180x180 with 1 Axes>"
      ]
     },
     "metadata": {
      "needs_background": "light"
     },
     "output_type": "display_data"
    }
   ],
   "source": [
    "fig, ax = plt.subplots(1,1,figsize=(2.5, 2.5))\n",
    "\n",
    "iis = [33, 60, 19, 23, 21]\n",
    "lookbacks = [6, 2, 6, 2, 6]\n",
    "dists = ['norm_homo', 'norm','tnorm','poisson','laplace']\n",
    "\n",
    "for ii, lookback, dist in zip(iis, lookbacks, dists):\n",
    "    print(dist)\n",
    "    \n",
    "    criterion = MVELoss(dist)\n",
    "    \n",
    "    if (dist == 'norm_homo'):\n",
    "        meanonly=True\n",
    "    elif dist == 'poisson':\n",
    "        meanonly=True\n",
    "    else:\n",
    "        meanonly=False\n",
    "\n",
    "    if dist == 'norm_homo':\n",
    "        homo = True\n",
    "    else:\n",
    "        homo = False\n",
    "\n",
    "    if args.Model == 'GCN':\n",
    "        save_dir = project_dir+\"models/\"+out_folder+\"_\"+period+\"_\"+dist+\"/\"\n",
    "    else:\n",
    "        save_dir = project_dir+\"models/\"+out_folder+\"_\"+period+\"_\"+args.Model+\"_\"+dist+\"/\"\n",
    "    save_dir += train_extent+\"_\"+'-'.join(adj_type)+\"_\"+str(predict_hzn)+\"_\"+str(time_size)+\"_\"+str(lookback)\n",
    "\n",
    "    if args.Model == 'GCN':\n",
    "        net = util_gcnn.load_model(project_dir, save_dir, period, train_extent, adj_type, predict_hzn, time_size, lookback, ii, \n",
    "                         n_modes, n_stations, n_time, meanonly, homo)\n",
    "        if net is None:\n",
    "            print('Model not saved')\n",
    "        else:\n",
    "            net.eval();\n",
    "            test_out_loc, test_out_scale, test_loss = util_gcnn.testset_output_gcn(testloader, meanonly, homo, \n",
    "                net, criterion, adj_torch, None, device, n_time)\n",
    "\n",
    "    else:\n",
    "        net = util_gat.load_model(project_dir, save_dir, period, train_extent, adj_type, predict_hzn, time_size, lookback, ii, \n",
    "                         n_modes, n_stations, n_time, meanonly, homo)\n",
    "        if net is None:\n",
    "            print('Model not saved')\n",
    "        else:\n",
    "            net.eval();\n",
    "            test_out_loc, test_out_scale, test_loss = util_gat.testset_output_gat(testloader, meanonly, homo, \n",
    "                net, criterion, adj_torch, None, device, n_time)\n",
    "\n",
    "    b_num_points = len(y_test_eval.flatten())\n",
    "    b_p_gcn = []\n",
    "    p = np.array([0.01, 0.1, 0.2, 0.3, 0.4, 0.5, 0.6, 0.7, 0.8, 0.9, 0.999])\n",
    "    for i in p:\n",
    "        if (dist == 'norm') | (dist == 'norm_homo'):\n",
    "            b_p_gcn.append(np.sum(y_test_eval <= norm.ppf(i, loc=test_out_loc, scale=test_out_scale))/b_num_points)\n",
    "        elif dist == 'poisson':\n",
    "            b_p_gcn.append(np.sum(y_test_eval <= poisson.ppf(i, test_out_loc))/b_num_points)\n",
    "        elif dist == 'laplace':\n",
    "            b_p_gcn.append(np.sum(y_test_eval <= laplace.ppf(i, loc=test_out_loc, scale=test_out_scale))/b_num_points)\n",
    "        elif dist == 'tnorm':\n",
    "            b_p_gcn.append(np.sum(y_test_eval <= norm.ppf(i, loc=test_out_loc, scale=test_out_scale))/b_num_points)\n",
    "\n",
    "    ax = util_plot.plot_calibration(ax, p, b_p_gcn, label[dist]+\"_\"+args.Model, clr=colors[dist])\n",
    "    interval = p - np.insert(p, 0, 0)[:-1]\n",
    "    ce = np.sum(np.abs(b_p_gcn-p) * interval)\n",
    "    print(ce)\n",
    "    \n",
    "    # cal_error.append(ce)\n",
    "    # model_number.append(ii)\n",
    "    # dst.append(dist)\n",
    "    # lb.append(lookback)"
   ]
  },
  {
   "cell_type": "code",
   "execution_count": 92,
   "id": "911280c5",
   "metadata": {},
   "outputs": [],
   "source": [
    "ax.legend()\n",
    "# ax.grid()\n",
    "fig.savefig(project_dir+\"figures/\"+out_folder+\"/\"+period+\"_qq_calibration.png\", bbox_inches='tight');"
   ]
  },
  {
   "cell_type": "code",
   "execution_count": null,
   "id": "6e3800ad",
   "metadata": {},
   "outputs": [],
   "source": []
  }
 ],
 "metadata": {
  "kernelspec": {
   "display_name": "Python 3",
   "language": "python",
   "name": "python3"
  },
  "language_info": {
   "codemirror_mode": {
    "name": "ipython",
    "version": 3
   },
   "file_extension": ".py",
   "mimetype": "text/x-python",
   "name": "python",
   "nbconvert_exporter": "python",
   "pygments_lexer": "ipython3",
   "version": "3.7.11"
  }
 },
 "nbformat": 4,
 "nbformat_minor": 5
}
